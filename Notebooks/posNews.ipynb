{
  "nbformat": 4,
  "nbformat_minor": 0,
  "metadata": {
    "kernelspec": {
      "name": "python3",
      "display_name": "Python 3"
    },
    "colab": {
      "name": "News_Text_Preprocessing_and_Modeling.ipynb",
      "provenance": [],
      "collapsed_sections": []
    },
    "accelerator": "GPU"
  },
  "cells": [
    {
      "cell_type": "code",
      "metadata": {
        "colab": {
          "base_uri": "https://localhost:8080/"
        },
        "id": "wrNeDzQAefrA",
        "outputId": "9e24b41f-69c8-4fc0-bc88-03104ac63c5e"
      },
      "source": [
        "from google.colab import drive\r\n",
        "drive.mount('/content/drive')"
      ],
      "execution_count": 1,
      "outputs": [
        {
          "output_type": "stream",
          "text": [
            "Mounted at /content/drive\n"
          ],
          "name": "stdout"
        }
      ]
    },
    {
      "cell_type": "code",
      "metadata": {
        "id": "c_IFb9B1Vq8P"
      },
      "source": [
        "import os\n",
        "import nltk\n",
        "import pandas as pd\n",
        "import numpy as np\n",
        "import gensim\n",
        "import matplotlib.pyplot as plt\n",
        "import seaborn as sns\n",
        "from gensim.models import KeyedVectors\n",
        "\n",
        "from keras.preprocessing.sequence import pad_sequences\n",
        "\n",
        "%matplotlib inline"
      ],
      "execution_count": 2,
      "outputs": []
    },
    {
      "cell_type": "code",
      "metadata": {
        "id": "1W0wm4CPVq8V"
      },
      "source": [
        "FILE_PATH = \"/content/drive/MyDrive/MARATHI_WSD_Data/Marathi News Domain/new_text_marathi.TXT\""
      ],
      "execution_count": 3,
      "outputs": []
    },
    {
      "cell_type": "code",
      "metadata": {
        "id": "6UxBoyBdVq8V"
      },
      "source": [
        "opened_file = open(FILE_PATH, \"r\", encoding=\"utf-8-sig\")\n",
        "content = opened_file.read()"
      ],
      "execution_count": 4,
      "outputs": []
    },
    {
      "cell_type": "code",
      "metadata": {
        "id": "G5YjRZZvVq8W"
      },
      "source": [
        "sentences_with_pos = []\n",
        "for i in content.split(\"\\n\"):\n",
        "    if len(i)!=0 and i[0] != \"<\":\n",
        "        sentences_with_pos.append(i)"
      ],
      "execution_count": 5,
      "outputs": []
    },
    {
      "cell_type": "code",
      "metadata": {
        "id": "Xog74MRCVq8W"
      },
      "source": [
        "all_sentences = []\n",
        "all_sentence_pos = []\n",
        "for sentence in sentences_with_pos:\n",
        "    sent = []\n",
        "    po = []\n",
        "    for word in sentence.split(\" \"):\n",
        "        x = word.split(\"_\")\n",
        "        if len(x)!=1:\n",
        "            sent.append(word.split(\"_\")[0])\n",
        "            po.append(word.split(\"_\")[1])\n",
        "    all_sentences.append(sent)\n",
        "    all_sentence_pos.append(po)"
      ],
      "execution_count": 6,
      "outputs": []
    },
    {
      "cell_type": "code",
      "metadata": {
        "colab": {
          "base_uri": "https://localhost:8080/"
        },
        "id": "bAgR42aiVq8X",
        "outputId": "6cfb8e3e-b0f0-44cd-cac9-831c0872e8ab"
      },
      "source": [
        "index = 900\n",
        "print(' '.join(all_sentences[index]), len(all_sentences[index]))\n",
        "print(' '.join(all_sentence_pos[index]), len(all_sentence_pos[index]))"
      ],
      "execution_count": 7,
      "outputs": [
        {
          "output_type": "stream",
          "text": [
            "सदानंद शेट्टी , शेख यांना अटक व सुटका मंगळवार पेठेतील रवींद्रनाथ टागोर विद्यालयासमोर सकाळी कॉंग्रेसचे उमेदवार सदानंद शेट्टी व इंडियन मुस्लिम फ्रंटचे कार्यकर्ते असीम बाबूमिया शेख यांच्यात धक्काबुक्की झाली . 30\n",
            "NNPC NNP SYM NNP PRP NN CC NN NNPC NNP NNPC NNPC NNP NN NNP NN NNPC NNP CC NNPC NNPC NNP NN NNPC NNPC NNP PRP NN VM SYM 30\n"
          ],
          "name": "stdout"
        }
      ]
    },
    {
      "cell_type": "code",
      "metadata": {
        "id": "xq5-FDpyXRPY"
      },
      "source": [
        "nouns_tag_set = {\"NN\", \"NNP\", \"PRP\", \"NNC\", \"NNPC\", \"NVB\"}\r\n",
        "verbs_tag_set = {\"VFM\", \"VAUX\", \"VJJ\", \"VRB\", \"VNN\"}\r\n",
        "adverbs_tag_set = {\"RB\", \"RBVB\"}\r\n",
        "adjectives_tag_set = {\"JJ\", \"JVB\"}"
      ],
      "execution_count": 8,
      "outputs": []
    },
    {
      "cell_type": "code",
      "metadata": {
        "colab": {
          "base_uri": "https://localhost:8080/"
        },
        "id": "QI10ZrBTXRR6",
        "outputId": "848c5d84-fdde-4727-9cdb-fc2065feb47c"
      },
      "source": [
        "for pos in all_sentence_pos[index]:\r\n",
        "    if pos in nouns_tag_set:\r\n",
        "        print(\"n\", end = \" \")\r\n",
        "    elif pos in verbs_tag_set:\r\n",
        "        print(\"v\", end = \" \")\r\n",
        "    elif pos in adverbs_tag_set:\r\n",
        "        print(\"r\", end = \" \")\r\n",
        "    elif pos in adjectives_tag_set:\r\n",
        "        print(\"a\", end = \" \")\r\n",
        "    else:\r\n",
        "        print(\"u\", end = \" \")"
      ],
      "execution_count": 9,
      "outputs": [
        {
          "output_type": "stream",
          "text": [
            "n n u n n n u n n n n n n n n n n n u n n n n n n n n n u u "
          ],
          "name": "stdout"
        }
      ]
    },
    {
      "cell_type": "code",
      "metadata": {
        "id": "qkQ1JewjcBHj"
      },
      "source": [
        "replaced_pos_tags = []\r\n",
        "for sentence_pos in all_sentence_pos:\r\n",
        "    pos_list = []\r\n",
        "    for pos in sentence_pos:\r\n",
        "        if pos in nouns_tag_set:\r\n",
        "            x = \"n\"\r\n",
        "        elif pos in verbs_tag_set:\r\n",
        "            x = \"v\"\r\n",
        "        elif pos in adverbs_tag_set:\r\n",
        "            x = \"r\"\r\n",
        "        elif pos in adjectives_tag_set:\r\n",
        "            x = \"a\"\r\n",
        "        else:\r\n",
        "            x = \"u\"\r\n",
        "        pos_list.append(x)\r\n",
        "    replaced_pos_tags.append(pos_list)"
      ],
      "execution_count": 10,
      "outputs": []
    },
    {
      "cell_type": "code",
      "metadata": {
        "colab": {
          "base_uri": "https://localhost:8080/"
        },
        "id": "lar791HRcBKJ",
        "outputId": "e17c5539-38bb-421f-b634-35b89e274d84"
      },
      "source": [
        "print(' '.join(replaced_pos_tags[index]))"
      ],
      "execution_count": 11,
      "outputs": [
        {
          "output_type": "stream",
          "text": [
            "n n u n n n u n n n n n n n n n n n u n n n n n n n n n u u\n"
          ],
          "name": "stdout"
        }
      ]
    },
    {
      "cell_type": "code",
      "metadata": {
        "id": "G8Un6VcbVq8Y"
      },
      "source": [
        "all_pos = []\n",
        "for sentence_pos in replaced_pos_tags:\n",
        "    for pos in sentence_pos:\n",
        "        all_pos.append(pos)"
      ],
      "execution_count": 12,
      "outputs": []
    },
    {
      "cell_type": "code",
      "metadata": {
        "colab": {
          "base_uri": "https://localhost:8080/"
        },
        "id": "T6GzICHPVq8Y",
        "outputId": "29062f0b-b26e-4c79-ef81-f157b8ca8e53"
      },
      "source": [
        "total_pos = set(all_pos)\n",
        "print(total_pos, len(total_pos))"
      ],
      "execution_count": 13,
      "outputs": [
        {
          "output_type": "stream",
          "text": [
            "{'a', 'r', 'u', 'v', 'n'} 5\n"
          ],
          "name": "stdout"
        }
      ]
    },
    {
      "cell_type": "code",
      "metadata": {
        "id": "c789_hV1Vq8Y"
      },
      "source": [
        "corpus = []\n",
        "for sentence in all_sentences:\n",
        "    for word in sentence:\n",
        "        corpus.append(word)"
      ],
      "execution_count": 14,
      "outputs": []
    },
    {
      "cell_type": "code",
      "metadata": {
        "colab": {
          "base_uri": "https://localhost:8080/"
        },
        "id": "4hSvacVLVq8Z",
        "outputId": "3d3753cd-826c-4582-fd78-e3d00195bbc4"
      },
      "source": [
        "print(f\"Number of Sentences: {len(all_sentences)}\")\n",
        "print(f\"Vocabulary Size: {len(set(corpus))}\")\n",
        "print(f\"Total Tags: {len(set(all_pos))}\")"
      ],
      "execution_count": 15,
      "outputs": [
        {
          "output_type": "stream",
          "text": [
            "Number of Sentences: 957\n",
            "Vocabulary Size: 5734\n",
            "Total Tags: 5\n"
          ],
          "name": "stdout"
        }
      ]
    },
    {
      "cell_type": "code",
      "metadata": {
        "colab": {
          "base_uri": "https://localhost:8080/"
        },
        "id": "bTK3PrTyVq8Z",
        "outputId": "c7f08fc0-a17b-4afa-cb90-7d5e6d8668f6"
      },
      "source": [
        "MAX_LENGTH = max([len(sentence) for sentence in all_sentences])\n",
        "print(MAX_LENGTH)"
      ],
      "execution_count": 16,
      "outputs": [
        {
          "output_type": "stream",
          "text": [
            "129\n"
          ],
          "name": "stdout"
        }
      ]
    },
    {
      "cell_type": "code",
      "metadata": {
        "colab": {
          "base_uri": "https://localhost:8080/",
          "height": 318
        },
        "id": "gok4lmqBVq8a",
        "outputId": "daae4688-1353-43eb-f619-9cc50cf27fb4"
      },
      "source": [
        "sns.boxplot([len(sentence) for sentence in all_sentences])\n",
        "plt.show()"
      ],
      "execution_count": 17,
      "outputs": [
        {
          "output_type": "stream",
          "text": [
            "/usr/local/lib/python3.6/dist-packages/seaborn/_decorators.py:43: FutureWarning: Pass the following variable as a keyword arg: x. From version 0.12, the only valid positional argument will be `data`, and passing other arguments without an explicit keyword will result in an error or misinterpretation.\n",
            "  FutureWarning\n"
          ],
          "name": "stderr"
        },
        {
          "output_type": "display_data",
          "data": {
            "image/png": "[encoded data removed]",
            "text/plain": [
              "<Figure size 432x288 with 1 Axes>"
            ]
          },
          "metadata": {
            "tags": [],
            "needs_background": "light"
          }
        }
      ]
    },
    {
      "cell_type": "code",
      "metadata": {
        "id": "GkA1HiMIVq8a"
      },
      "source": [
        "word_index = {word: i+2 for i,word in enumerate(list(set(corpus)))}\n",
        "tag_index = {tag: i+1 for i,tag in enumerate(list(set(all_pos)))}"
      ],
      "execution_count": 18,
      "outputs": []
    },
    {
      "cell_type": "code",
      "metadata": {
        "id": "_0VgNGViVq8a"
      },
      "source": [
        "all_sentences_numeric = []\n",
        "all_tags_numeric = []\n",
        "for i in range(len(all_sentences)):\n",
        "    sent = []\n",
        "    tag = []\n",
        "    for word in all_sentences[i]:\n",
        "        sent.append(word_index[word])\n",
        "    for t in replaced_pos_tags[i]:\n",
        "        tag.append(tag_index[t])\n",
        "    all_sentences_numeric.append(sent)\n",
        "    all_tags_numeric.append(tag)"
      ],
      "execution_count": 19,
      "outputs": []
    },
    {
      "cell_type": "code",
      "metadata": {
        "colab": {
          "base_uri": "https://localhost:8080/"
        },
        "id": "IUgcDHtdVq8b",
        "outputId": "75bc7a10-02b1-4021-b5e0-a9fc9f01ab03"
      },
      "source": [
        "MAX_LENGTH = max([len(sentence) for sentence in all_sentences])\n",
        "print(MAX_LENGTH)"
      ],
      "execution_count": 20,
      "outputs": [
        {
          "output_type": "stream",
          "text": [
            "129\n"
          ],
          "name": "stdout"
        }
      ]
    },
    {
      "cell_type": "code",
      "metadata": {
        "id": "U7YVVWGLVq8b"
      },
      "source": [
        "sentences_padded = pad_sequences(all_sentences_numeric, maxlen=MAX_LENGTH, padding=\"pre\", truncating=\"post\")\n",
        "tags_padded = pad_sequences(all_tags_numeric, maxlen=MAX_LENGTH, padding=\"pre\", truncating=\"post\")"
      ],
      "execution_count": 21,
      "outputs": []
    },
    {
      "cell_type": "code",
      "metadata": {
        "colab": {
          "base_uri": "https://localhost:8080/"
        },
        "id": "HiwsRzm4Vq8c",
        "outputId": "d685318e-25fc-4fdb-b9f7-d7ac817dd096"
      },
      "source": [
        "print(sentences_padded[0])\n",
        "print(tags_padded[0])"
      ],
      "execution_count": 22,
      "outputs": [
        {
          "output_type": "stream",
          "text": [
            "[   0    0    0    0    0    0    0    0    0    0    0    0    0    0\n",
            "    0    0    0    0    0    0    0    0    0    0    0    0    0    0\n",
            "    0    0    0    0    0    0    0    0    0    0    0    0    0    0\n",
            "    0    0    0    0    0    0    0    0    0    0    0    0    0    0\n",
            "    0    0    0    0    0    0    0    0    0    0    0    0    0    0\n",
            "    0    0    0    0    0    0    0    0    0    0    0    0    0    0\n",
            "    0    0    0    0    0    0    0    0    0    0    0    0    0 1947\n",
            " 2721 3081  658 1039 4114 2355 3503 5158 4783 2939  726  239 4884 2848\n",
            " 2747 3374 2355 5282 4261 4783 2355 2928 4884 2848 2029 2580  292 1282\n",
            "  322 2487 1981]\n",
            "[0 0 0 0 0 0 0 0 0 0 0 0 0 0 0 0 0 0 0 0 0 0 0 0 0 0 0 0 0 0 0 0 0 0 0 0 0\n",
            " 0 0 0 0 0 0 0 0 0 0 0 0 0 0 0 0 0 0 0 0 0 0 0 0 0 0 0 0 0 0 0 0 0 0 0 0 0\n",
            " 0 0 0 0 0 0 0 0 0 0 0 0 0 0 0 0 0 0 0 0 0 0 0 1 5 5 5 3 5 5 5 5 3 5 5 5 5\n",
            " 5 5 5 5 5 5 3 5 5 5 5 5 5 5 1 3 4 3]\n"
          ],
          "name": "stdout"
        }
      ]
    },
    {
      "cell_type": "code",
      "metadata": {
        "id": "8ihZw8pNVq8c"
      },
      "source": [
        "word_index[\"_PAD_\"] = 0\n",
        "word_index[\"_OOV_\"] = 1\n",
        "\n",
        "tag_index[\"_PAD_\"] = 0"
      ],
      "execution_count": 23,
      "outputs": []
    },
    {
      "cell_type": "code",
      "metadata": {
        "colab": {
          "base_uri": "https://localhost:8080/"
        },
        "id": "ltzZKhKnVq8c",
        "outputId": "76846874-1c04-4a0b-b290-142789ce29d2"
      },
      "source": [
        "sentences_padded.shape, tags_padded.shape"
      ],
      "execution_count": 24,
      "outputs": [
        {
          "output_type": "execute_result",
          "data": {
            "text/plain": [
              "((957, 129), (957, 129))"
            ]
          },
          "metadata": {
            "tags": []
          },
          "execution_count": 24
        }
      ]
    },
    {
      "cell_type": "code",
      "metadata": {
        "id": "o4ePqFYzVq8c"
      },
      "source": [
        "from keras.utils import to_categorical"
      ],
      "execution_count": 25,
      "outputs": []
    },
    {
      "cell_type": "code",
      "metadata": {
        "id": "yfTIRH0QVq8d"
      },
      "source": [
        "y = to_categorical(tags_padded)"
      ],
      "execution_count": 26,
      "outputs": []
    },
    {
      "cell_type": "code",
      "metadata": {
        "id": "DMwSEIAaVq8d"
      },
      "source": [
        "from sklearn.model_selection import train_test_split\n",
        "X_train, X_test, y_train, y_test = train_test_split(sentences_padded, y, test_size=0.2, random_state = 24)"
      ],
      "execution_count": 27,
      "outputs": []
    },
    {
      "cell_type": "code",
      "metadata": {
        "colab": {
          "base_uri": "https://localhost:8080/"
        },
        "id": "1NOA4vuGVq8d",
        "outputId": "12a47e66-c4ab-44ab-f204-1b6457f32ecc"
      },
      "source": [
        "print(f\"Train Data: {X_train.shape}, {y_train.shape}\")\n",
        "print(f\"Test Data: {X_test.shape}, {y_test.shape}\")"
      ],
      "execution_count": 28,
      "outputs": [
        {
          "output_type": "stream",
          "text": [
            "Train Data: (765, 129), (765, 129, 6)\n",
            "Test Data: (192, 129), (192, 129, 6)\n"
          ],
          "name": "stdout"
        }
      ]
    },
    {
      "cell_type": "code",
      "metadata": {
        "id": "Csn7lTWFVq8d"
      },
      "source": [
        "from keras.models import Sequential\n",
        "from keras.layers import Dense, Embedding, LSTM, Bidirectional, TimeDistributed, Activation"
      ],
      "execution_count": 29,
      "outputs": []
    },
    {
      "cell_type": "code",
      "metadata": {
        "id": "ahLmGL2mVq8e"
      },
      "source": [
        "VOCAB_SIZE = len(word_index)\n",
        "NUM_CLASSES = len(tag_index)"
      ],
      "execution_count": 30,
      "outputs": []
    },
    {
      "cell_type": "code",
      "metadata": {
        "id": "Jd-dHiN5Vq8e"
      },
      "source": [
        "model = Sequential()\n",
        "\n",
        "model.add(Embedding(\n",
        "    input_dim = VOCAB_SIZE,\n",
        "    output_dim = 256,\n",
        "    input_length = MAX_LENGTH\n",
        "))\n",
        "\n",
        "model.add(Bidirectional(LSTM(512, return_sequences=True)))\n",
        "\n",
        "model.add(TimeDistributed(Dense(NUM_CLASSES, activation=\"softmax\")))"
      ],
      "execution_count": 31,
      "outputs": []
    },
    {
      "cell_type": "code",
      "metadata": {
        "id": "8MVudxWCVq8e"
      },
      "source": [
        "model.compile(\n",
        "    loss=\"categorical_crossentropy\",\n",
        "    optimizer=\"adam\",\n",
        "    metrics=[\"accuracy\"]\n",
        ")"
      ],
      "execution_count": 32,
      "outputs": []
    },
    {
      "cell_type": "code",
      "metadata": {
        "colab": {
          "base_uri": "https://localhost:8080/"
        },
        "id": "vLWtSbY2Vq8e",
        "outputId": "5dde829a-4c9e-4b72-da29-2fb8bb7872cb"
      },
      "source": [
        "model.summary()"
      ],
      "execution_count": 33,
      "outputs": [
        {
          "output_type": "stream",
          "text": [
            "Model: \"sequential\"\n",
            "_________________________________________________________________\n",
            "Layer (type)                 Output Shape              Param #   \n",
            "=================================================================\n",
            "embedding (Embedding)        (None, 129, 256)          1468416   \n",
            "_________________________________________________________________\n",
            "bidirectional (Bidirectional (None, 129, 1024)         3149824   \n",
            "_________________________________________________________________\n",
            "time_distributed (TimeDistri (None, 129, 6)            6150      \n",
            "=================================================================\n",
            "Total params: 4,624,390\n",
            "Trainable params: 4,624,390\n",
            "Non-trainable params: 0\n",
            "_________________________________________________________________\n"
          ],
          "name": "stdout"
        }
      ]
    },
    {
      "cell_type": "code",
      "metadata": {
        "colab": {
          "base_uri": "https://localhost:8080/"
        },
        "id": "3g06R9ldVq8f",
        "outputId": "8d56e0f2-8423-468b-b1ff-f078139998fd"
      },
      "source": [
        "history = model.fit(\n",
        "    X_train,y_train,\n",
        "    validation_data=(X_test, y_test),\n",
        "    batch_size=128,\n",
        "    epochs=60\n",
        ")"
      ],
      "execution_count": 34,
      "outputs": [
        {
          "output_type": "stream",
          "text": [
            "Epoch 1/60\n",
            "6/6 [==============================] - 11s 324ms/step - loss: 1.2447 - accuracy: 0.5591 - val_loss: 0.2538 - val_accuracy: 0.8792\n",
            "Epoch 2/60\n",
            "6/6 [==============================] - 1s 128ms/step - loss: 0.2661 - accuracy: 0.8991 - val_loss: 0.2266 - val_accuracy: 0.9237\n",
            "Epoch 3/60\n",
            "6/6 [==============================] - 1s 127ms/step - loss: 0.2212 - accuracy: 0.9261 - val_loss: 0.1740 - val_accuracy: 0.9281\n",
            "Epoch 4/60\n",
            "6/6 [==============================] - 1s 127ms/step - loss: 0.1802 - accuracy: 0.9272 - val_loss: 0.1644 - val_accuracy: 0.9388\n",
            "Epoch 5/60\n",
            "6/6 [==============================] - 1s 127ms/step - loss: 0.1639 - accuracy: 0.9396 - val_loss: 0.1543 - val_accuracy: 0.9316\n",
            "Epoch 6/60\n",
            "6/6 [==============================] - 1s 128ms/step - loss: 0.1580 - accuracy: 0.9347 - val_loss: 0.1511 - val_accuracy: 0.9397\n",
            "Epoch 7/60\n",
            "6/6 [==============================] - 1s 126ms/step - loss: 0.1557 - accuracy: 0.9374 - val_loss: 0.1498 - val_accuracy: 0.9356\n",
            "Epoch 8/60\n",
            "6/6 [==============================] - 1s 127ms/step - loss: 0.1804 - accuracy: 0.9231 - val_loss: 0.1561 - val_accuracy: 0.9392\n",
            "Epoch 9/60\n",
            "6/6 [==============================] - 1s 127ms/step - loss: 0.1604 - accuracy: 0.9323 - val_loss: 0.1410 - val_accuracy: 0.9421\n",
            "Epoch 10/60\n",
            "6/6 [==============================] - 1s 130ms/step - loss: 0.1435 - accuracy: 0.9420 - val_loss: 0.1399 - val_accuracy: 0.9402\n",
            "Epoch 11/60\n",
            "6/6 [==============================] - 1s 128ms/step - loss: 0.1436 - accuracy: 0.9436 - val_loss: 0.1369 - val_accuracy: 0.9432\n",
            "Epoch 12/60\n",
            "6/6 [==============================] - 1s 130ms/step - loss: 0.1370 - accuracy: 0.9480 - val_loss: 0.1328 - val_accuracy: 0.9532\n",
            "Epoch 13/60\n",
            "6/6 [==============================] - 1s 129ms/step - loss: 0.1339 - accuracy: 0.9546 - val_loss: 0.1295 - val_accuracy: 0.9552\n",
            "Epoch 14/60\n",
            "6/6 [==============================] - 1s 129ms/step - loss: 0.1314 - accuracy: 0.9569 - val_loss: 0.1261 - val_accuracy: 0.9600\n",
            "Epoch 15/60\n",
            "6/6 [==============================] - 1s 131ms/step - loss: 0.1251 - accuracy: 0.9618 - val_loss: 0.1222 - val_accuracy: 0.9614\n",
            "Epoch 16/60\n",
            "6/6 [==============================] - 1s 127ms/step - loss: 0.1197 - accuracy: 0.9651 - val_loss: 0.1171 - val_accuracy: 0.9629\n",
            "Epoch 17/60\n",
            "6/6 [==============================] - 1s 128ms/step - loss: 0.1102 - accuracy: 0.9694 - val_loss: 0.1115 - val_accuracy: 0.9654\n",
            "Epoch 18/60\n",
            "6/6 [==============================] - 1s 127ms/step - loss: 0.1020 - accuracy: 0.9732 - val_loss: 0.1055 - val_accuracy: 0.9662\n",
            "Epoch 19/60\n",
            "6/6 [==============================] - 1s 129ms/step - loss: 0.0935 - accuracy: 0.9768 - val_loss: 0.0999 - val_accuracy: 0.9676\n",
            "Epoch 20/60\n",
            "6/6 [==============================] - 1s 129ms/step - loss: 0.0842 - accuracy: 0.9788 - val_loss: 0.0957 - val_accuracy: 0.9679\n",
            "Epoch 21/60\n",
            "6/6 [==============================] - 1s 128ms/step - loss: 0.0730 - accuracy: 0.9810 - val_loss: 0.0934 - val_accuracy: 0.9682\n",
            "Epoch 22/60\n",
            "6/6 [==============================] - 1s 131ms/step - loss: 0.0638 - accuracy: 0.9823 - val_loss: 0.0889 - val_accuracy: 0.9683\n",
            "Epoch 23/60\n",
            "6/6 [==============================] - 1s 129ms/step - loss: 0.0539 - accuracy: 0.9840 - val_loss: 0.0914 - val_accuracy: 0.9696\n",
            "Epoch 24/60\n",
            "6/6 [==============================] - 1s 130ms/step - loss: 0.0492 - accuracy: 0.9849 - val_loss: 0.0865 - val_accuracy: 0.9715\n",
            "Epoch 25/60\n",
            "6/6 [==============================] - 1s 128ms/step - loss: 0.0407 - accuracy: 0.9869 - val_loss: 0.0798 - val_accuracy: 0.9734\n",
            "Epoch 26/60\n",
            "6/6 [==============================] - 1s 129ms/step - loss: 0.0371 - accuracy: 0.9877 - val_loss: 0.0741 - val_accuracy: 0.9742\n",
            "Epoch 27/60\n",
            "6/6 [==============================] - 1s 129ms/step - loss: 0.0313 - accuracy: 0.9895 - val_loss: 0.0713 - val_accuracy: 0.9763\n",
            "Epoch 28/60\n",
            "6/6 [==============================] - 1s 130ms/step - loss: 0.0281 - accuracy: 0.9925 - val_loss: 0.0687 - val_accuracy: 0.9772\n",
            "Epoch 29/60\n",
            "6/6 [==============================] - 1s 131ms/step - loss: 0.0253 - accuracy: 0.9937 - val_loss: 0.0684 - val_accuracy: 0.9763\n",
            "Epoch 30/60\n",
            "6/6 [==============================] - 1s 131ms/step - loss: 0.0222 - accuracy: 0.9945 - val_loss: 0.0704 - val_accuracy: 0.9762\n",
            "Epoch 31/60\n",
            "6/6 [==============================] - 1s 131ms/step - loss: 0.0198 - accuracy: 0.9951 - val_loss: 0.0724 - val_accuracy: 0.9754\n",
            "Epoch 32/60\n",
            "6/6 [==============================] - 1s 131ms/step - loss: 0.0176 - accuracy: 0.9963 - val_loss: 0.0718 - val_accuracy: 0.9765\n",
            "Epoch 33/60\n",
            "6/6 [==============================] - 1s 130ms/step - loss: 0.0155 - accuracy: 0.9968 - val_loss: 0.0701 - val_accuracy: 0.9775\n",
            "Epoch 34/60\n",
            "6/6 [==============================] - 1s 132ms/step - loss: 0.0147 - accuracy: 0.9965 - val_loss: 0.0701 - val_accuracy: 0.9782\n",
            "Epoch 35/60\n",
            "6/6 [==============================] - 1s 133ms/step - loss: 0.0124 - accuracy: 0.9973 - val_loss: 0.0729 - val_accuracy: 0.9765\n",
            "Epoch 36/60\n",
            "6/6 [==============================] - 1s 131ms/step - loss: 0.0116 - accuracy: 0.9973 - val_loss: 0.0666 - val_accuracy: 0.9790\n",
            "Epoch 37/60\n",
            "6/6 [==============================] - 1s 131ms/step - loss: 0.0110 - accuracy: 0.9974 - val_loss: 0.0684 - val_accuracy: 0.9776\n",
            "Epoch 38/60\n",
            "6/6 [==============================] - 1s 129ms/step - loss: 0.0104 - accuracy: 0.9974 - val_loss: 0.0738 - val_accuracy: 0.9770\n",
            "Epoch 39/60\n",
            "6/6 [==============================] - 1s 130ms/step - loss: 0.0090 - accuracy: 0.9979 - val_loss: 0.0705 - val_accuracy: 0.9784\n",
            "Epoch 40/60\n",
            "6/6 [==============================] - 1s 132ms/step - loss: 0.0080 - accuracy: 0.9979 - val_loss: 0.0735 - val_accuracy: 0.9780\n",
            "Epoch 41/60\n",
            "6/6 [==============================] - 1s 129ms/step - loss: 0.0075 - accuracy: 0.9981 - val_loss: 0.0732 - val_accuracy: 0.9790\n",
            "Epoch 42/60\n",
            "6/6 [==============================] - 1s 130ms/step - loss: 0.0067 - accuracy: 0.9983 - val_loss: 0.0721 - val_accuracy: 0.9784\n",
            "Epoch 43/60\n",
            "6/6 [==============================] - 1s 131ms/step - loss: 0.0061 - accuracy: 0.9985 - val_loss: 0.0749 - val_accuracy: 0.9776\n",
            "Epoch 44/60\n",
            "6/6 [==============================] - 1s 130ms/step - loss: 0.0055 - accuracy: 0.9988 - val_loss: 0.0732 - val_accuracy: 0.9783\n",
            "Epoch 45/60\n",
            "6/6 [==============================] - 1s 130ms/step - loss: 0.0052 - accuracy: 0.9989 - val_loss: 0.0721 - val_accuracy: 0.9783\n",
            "Epoch 46/60\n",
            "6/6 [==============================] - 1s 157ms/step - loss: 0.0045 - accuracy: 0.9991 - val_loss: 0.0735 - val_accuracy: 0.9787\n",
            "Epoch 47/60\n",
            "6/6 [==============================] - 1s 130ms/step - loss: 0.0045 - accuracy: 0.9990 - val_loss: 0.0775 - val_accuracy: 0.9770\n",
            "Epoch 48/60\n",
            "6/6 [==============================] - 1s 131ms/step - loss: 0.0039 - accuracy: 0.9993 - val_loss: 0.0750 - val_accuracy: 0.9784\n",
            "Epoch 49/60\n",
            "6/6 [==============================] - 1s 131ms/step - loss: 0.0034 - accuracy: 0.9996 - val_loss: 0.0746 - val_accuracy: 0.9783\n",
            "Epoch 50/60\n",
            "6/6 [==============================] - 1s 131ms/step - loss: 0.0034 - accuracy: 0.9995 - val_loss: 0.0748 - val_accuracy: 0.9786\n",
            "Epoch 51/60\n",
            "6/6 [==============================] - 1s 129ms/step - loss: 0.0030 - accuracy: 0.9996 - val_loss: 0.0784 - val_accuracy: 0.9782\n",
            "Epoch 52/60\n",
            "6/6 [==============================] - 1s 130ms/step - loss: 0.0028 - accuracy: 0.9996 - val_loss: 0.0784 - val_accuracy: 0.9776\n",
            "Epoch 53/60\n",
            "6/6 [==============================] - 1s 130ms/step - loss: 0.0025 - accuracy: 0.9997 - val_loss: 0.0766 - val_accuracy: 0.9786\n",
            "Epoch 54/60\n",
            "6/6 [==============================] - 1s 133ms/step - loss: 0.0024 - accuracy: 0.9997 - val_loss: 0.0787 - val_accuracy: 0.9781\n",
            "Epoch 55/60\n",
            "6/6 [==============================] - 1s 131ms/step - loss: 0.0021 - accuracy: 0.9997 - val_loss: 0.0812 - val_accuracy: 0.9775\n",
            "Epoch 56/60\n",
            "6/6 [==============================] - 1s 132ms/step - loss: 0.0021 - accuracy: 0.9997 - val_loss: 0.0825 - val_accuracy: 0.9776\n",
            "Epoch 57/60\n",
            "6/6 [==============================] - 1s 131ms/step - loss: 0.0019 - accuracy: 0.9998 - val_loss: 0.0799 - val_accuracy: 0.9788\n",
            "Epoch 58/60\n",
            "6/6 [==============================] - 1s 131ms/step - loss: 0.0017 - accuracy: 0.9998 - val_loss: 0.0806 - val_accuracy: 0.9780\n",
            "Epoch 59/60\n",
            "6/6 [==============================] - 1s 131ms/step - loss: 0.0015 - accuracy: 0.9999 - val_loss: 0.0829 - val_accuracy: 0.9780\n",
            "Epoch 60/60\n",
            "6/6 [==============================] - 1s 132ms/step - loss: 0.0014 - accuracy: 0.9999 - val_loss: 0.0846 - val_accuracy: 0.9779\n"
          ],
          "name": "stdout"
        }
      ]
    },
    {
      "cell_type": "code",
      "metadata": {
        "id": "LTMsp4bRVq8f"
      },
      "source": [
        "def preprocess_input_text(text, MAXLEN=MAX_LENGTH,word_index=word_index):\r\n",
        "    sentence = text.split(\" \")\r\n",
        "    sentence_numeric = []\r\n",
        "    for word in sentence:\r\n",
        "        try:\r\n",
        "            sentence_numeric.append(word_index[word])\r\n",
        "        except:\r\n",
        "            sentence_numeric.append(word_index[\"_OOV_\"])\r\n",
        "    sentence_numeric = pad_sequences([sentence_numeric], maxlen=MAXLEN, padding=\"pre\",truncating=\"post\")\r\n",
        "    return sentence_numeric.reshape((MAX_LENGTH,))"
      ],
      "execution_count": 35,
      "outputs": []
    },
    {
      "cell_type": "code",
      "metadata": {
        "id": "XImRThIbkwCA"
      },
      "source": [
        "test_sentence = preprocess_input_text(\"सदानंद शेट्टी , शेख यांना अटक व सुटका मंगळवार पेठेतील रवींद्रनाथ टागोर विद्यालयासमोर सकाळी कॉंग्रेसचे उमेदवार सदानंद शेट्टी व इंडियन मुस्लिम फ्रंटचे कार्यकर्ते असीम बाबूमिया शेख यांच्यात धक्काबुक्की झाली .\")"
      ],
      "execution_count": 36,
      "outputs": []
    },
    {
      "cell_type": "code",
      "metadata": {
        "colab": {
          "base_uri": "https://localhost:8080/"
        },
        "id": "nO7DP7zIlcl-",
        "outputId": "7fe47332-56fb-4435-9678-4c797665c5f5"
      },
      "source": [
        "for pos in model.predict(test_sentence):\r\n",
        "    print(np.argmax(pos), end = \" \")"
      ],
      "execution_count": 37,
      "outputs": [
        {
          "output_type": "stream",
          "text": [
            "WARNING:tensorflow:Model was constructed with shape (None, 129) for input KerasTensor(type_spec=TensorSpec(shape=(None, 129), dtype=tf.float32, name='embedding_input'), name='embedding_input', description=\"created by layer 'embedding_input'\"), but it was called on an input with incompatible shape (None, 1).\n",
            "0 0 0 0 0 0 0 0 0 0 0 0 0 0 0 0 0 0 0 0 0 0 0 0 0 0 0 0 0 0 0 0 0 0 0 0 0 0 0 0 0 0 0 0 0 0 0 0 0 0 0 0 0 0 0 0 0 0 0 0 0 0 0 0 0 0 0 0 0 0 0 0 0 0 0 0 0 0 0 0 0 0 0 0 0 0 0 0 0 0 0 0 0 0 0 0 0 0 0 5 5 3 5 5 5 3 5 5 5 5 5 5 5 5 5 5 5 3 5 5 5 5 5 5 5 5 5 3 3 "
          ],
          "name": "stdout"
        }
      ]
    },
    {
      "cell_type": "code",
      "metadata": {
        "id": "we0fjPGUlrCj"
      },
      "source": [
        "import pickle"
      ],
      "execution_count": 38,
      "outputs": []
    },
    {
      "cell_type": "code",
      "metadata": {
        "id": "uzASe7nFF6Ai"
      },
      "source": [
        "pickle.dump(word_index, open(\"news_word_index.pkl\",\"wb\"))\r\n",
        "pickle.dump(tag_index, open(\"news_tag_index.pkl\", \"wb\"))"
      ],
      "execution_count": 39,
      "outputs": []
    },
    {
      "cell_type": "code",
      "metadata": {
        "colab": {
          "base_uri": "https://localhost:8080/"
        },
        "id": "7rlSbyqFGJvs",
        "outputId": "2227acf0-b202-4179-da2a-84c7cd112548"
      },
      "source": [
        "# serialize model to JSON\r\n",
        "model_json = model.to_json()\r\n",
        "with open(\"news_model.json\", \"w\") as json_file:\r\n",
        "    json_file.write(model_json)\r\n",
        "# serialize weights to HDF5\r\n",
        "model.save_weights(\"news_model_weights.h5\")\r\n",
        "print(\"Saved model to disk\")"
      ],
      "execution_count": 40,
      "outputs": [
        {
          "output_type": "stream",
          "text": [
            "Saved model to disk\n"
          ],
          "name": "stdout"
        }
      ]
    }
  ]
}