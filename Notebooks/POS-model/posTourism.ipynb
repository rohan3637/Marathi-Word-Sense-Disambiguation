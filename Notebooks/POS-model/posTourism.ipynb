{
  "nbformat": 4,
  "nbformat_minor": 0,
  "metadata": {
    "accelerator": "GPU",
    "colab": {
      "name": "posTourism.ipynb",
      "provenance": [],
      "collapsed_sections": []
    },
    "kernelspec": {
      "display_name": "Python 3",
      "name": "python3"
    },
    "language_info": {
      "name": "python"
    }
  },
  "cells": [
    {
      "cell_type": "code",
      "metadata": {
        "id": "YLeem31-hO_j"
      },
      "source": [
        "import os\n",
        "import nltk\n",
        "import pandas as pd\n",
        "import numpy as np\n",
        "import matplotlib.pyplot as plt\n",
        "import seaborn as sns\n",
        "\n",
        "from tensorflow.keras.preprocessing.sequence import pad_sequences\n",
        "\n",
        "%matplotlib inline"
      ],
      "execution_count": 1,
      "outputs": []
    },
    {
      "cell_type": "code",
      "metadata": {
        "colab": {
          "base_uri": "https://localhost:8080/"
        },
        "id": "dTaXQkJXkEYh",
        "outputId": "cdedb52c-0c32-42f4-d9ec-dfde8a350406"
      },
      "source": [
        "!unzip tourism.zip"
      ],
      "execution_count": 3,
      "outputs": [
        {
          "output_type": "stream",
          "text": [
            "Archive:  tourism.zip\n",
            "   creating: tourism/.ipynb_checkpoints/\n",
            "  inflating: tourism/1_marathilexnew.txt  \n",
            "   creating: tourism/Marathi Tourism Domain/\n",
            "   creating: tourism/Marathi Tourism Domain/Marathi Tourism Domain/\n",
            "  inflating: tourism/Marathi Tourism Domain/Marathi Tourism Domain/0001_mar_tourism.txt  \n",
            "  inflating: tourism/Marathi Tourism Domain/Marathi Tourism Domain/0002_mar_tourism.txt  \n",
            "  inflating: tourism/Marathi Tourism Domain/Marathi Tourism Domain/0003_mar_tourism.txt  \n",
            "  inflating: tourism/Marathi Tourism Domain/Marathi Tourism Domain/0004_mar_tourism.txt  \n",
            "  inflating: tourism/Marathi Tourism Domain/Marathi Tourism Domain/0005_mar_tourism.txt  \n",
            "  inflating: tourism/Marathi Tourism Domain/Marathi Tourism Domain/0006_mar_tourism.txt  \n",
            "  inflating: tourism/Marathi Tourism Domain/Marathi Tourism Domain/0007_mar_tourism.txt  \n",
            "  inflating: tourism/Marathi Tourism Domain/Marathi Tourism Domain/0008_mar_tourism.txt  \n",
            "  inflating: tourism/Marathi Tourism Domain/Marathi Tourism Domain/0009_mar_tourism.txt  \n",
            "  inflating: tourism/Marathi Tourism Domain/Marathi Tourism Domain/0010_mar_tourism.txt  \n",
            "  inflating: tourism/Marathi Tourism Domain/Marathi Tourism Domain/0011_mar_tourism.txt  \n",
            "  inflating: tourism/Marathi Tourism Domain/Marathi Tourism Domain/0012_mar_tourism.txt  \n",
            "  inflating: tourism/Marathi Tourism Domain/Marathi Tourism Domain/0013_mar_tourism.txt  \n",
            "  inflating: tourism/Marathi Tourism Domain/Marathi Tourism Domain/0014_mar_tourism.txt  \n",
            "  inflating: tourism/Marathi Tourism Domain/Marathi Tourism Domain/0015_mar_tourism.txt  \n",
            "  inflating: tourism/Marathi Tourism Domain/Marathi Tourism Domain/0016_mar_tourism.txt  \n",
            "  inflating: tourism/Marathi Tourism Domain/Marathi Tourism Domain/0017_mar_tourism.txt  \n",
            "  inflating: tourism/Marathi Tourism Domain/Marathi Tourism Domain/0018_mar_tourism.txt  \n",
            "  inflating: tourism/Marathi Tourism Domain/Marathi Tourism Domain/0019_mar_tourism.txt  \n",
            "  inflating: tourism/Marathi Tourism Domain/Marathi Tourism Domain/0020_mar_tourism.txt  \n",
            "  inflating: tourism/Marathi Tourism Domain/Marathi Tourism Domain/0021_mar_tourism.txt  \n",
            "  inflating: tourism/Marathi Tourism Domain/Marathi Tourism Domain/0022_mar_tourism.txt  \n",
            "  inflating: tourism/Marathi Tourism Domain/Marathi Tourism Domain/0023_mar_tourism.txt  \n",
            "  inflating: tourism/Marathi Tourism Domain/Marathi Tourism Domain/0024_mar_tourism.txt  \n",
            "  inflating: tourism/Marathi Tourism Domain/Marathi Tourism Domain/0025_mar_tourism.txt  \n",
            "  inflating: tourism/Marathi Tourism Domain/Marathi Tourism Domain/0026_mar_tourism.txt  \n",
            "  inflating: tourism/Marathi Tourism Domain/Marathi Tourism Domain/0027_mar_tourism.txt  \n",
            "  inflating: tourism/Marathi Tourism Domain/Marathi Tourism Domain/0028_mar_tourism.txt  \n",
            "  inflating: tourism/Marathi Tourism Domain/Marathi Tourism Domain/0029_mar_tourism.txt  \n",
            "  inflating: tourism/Marathi Tourism Domain/Marathi Tourism Domain/0030_mar_tourism.txt  \n",
            "  inflating: tourism/Marathi Tourism Domain/Marathi Tourism Domain/0031_mar_tourism.txt  \n",
            "  inflating: tourism/Marathi Tourism Domain/Marathi Tourism Domain/0032_mar_tourism.txt  \n",
            "  inflating: tourism/Marathi Tourism Domain/Marathi Tourism Domain/0033_mar_tourism.txt  \n",
            "  inflating: tourism/Marathi Tourism Domain/Marathi Tourism Domain/0034_mar_tourism.txt  \n",
            "  inflating: tourism/Marathi Tourism Domain/Marathi Tourism Domain/0035_mar_tourism.txt  \n",
            "  inflating: tourism/Marathi Tourism Domain/Marathi Tourism Domain/0036_mar_tourism.txt  \n",
            "  inflating: tourism/Marathi Tourism Domain/Marathi Tourism Domain/0037_mar_tourism.txt  \n",
            "  inflating: tourism/Marathi Tourism Domain/Marathi Tourism Domain/0038_mar_tourism.txt  \n",
            "  inflating: tourism/Marathi Tourism Domain/Marathi Tourism Domain/0039_mar_tourism.txt  \n",
            "  inflating: tourism/Marathi Tourism Domain/Marathi Tourism Domain/0040_mar_tourism.txt  \n",
            "  inflating: tourism/Marathi Tourism Domain/Marathi Tourism Domain/0041_mar_tourism.txt  \n",
            "  inflating: tourism/Marathi Tourism Domain/Marathi Tourism Domain/0042_mar_tourism.txt  \n",
            "  inflating: tourism/Marathi Tourism Domain/Marathi Tourism Domain/0043_mar_tourism.txt  \n",
            "  inflating: tourism/Marathi Tourism Domain/Marathi Tourism Domain/0044_mar_tourism.txt  \n",
            "  inflating: tourism/Marathi Tourism Domain/Marathi Tourism Domain/0045_mar_tourism.txt  \n",
            "  inflating: tourism/Marathi Tourism Domain/Marathi Tourism Domain/0046_mar_tourism.txt  \n",
            "  inflating: tourism/Marathi Tourism Domain/Marathi Tourism Domain/0047_mar_tourism.txt  \n",
            "  inflating: tourism/Marathi Tourism Domain/Marathi Tourism Domain/0048_mar_tourism.txt  \n",
            "  inflating: tourism/Marathi Tourism Domain/Marathi Tourism Domain/0049_mar_tourism.txt  \n",
            "  inflating: tourism/Marathi Tourism Domain/Marathi Tourism Domain/0050_mar_tourism.txt  \n",
            "  inflating: tourism/Marathi Tourism Domain/Marathi Tourism Domain/0051_mar_tourism.txt  \n",
            "  inflating: tourism/Marathi Tourism Domain/Marathi Tourism Domain/0052_mar_tourism.txt  \n",
            "  inflating: tourism/Marathi Tourism Domain/Marathi Tourism Domain/0053_mar_tourism.txt  \n",
            "  inflating: tourism/Marathi Tourism Domain/Marathi Tourism Domain/0054_mar_tourism.txt  \n",
            "  inflating: tourism/Marathi Tourism Domain/Marathi Tourism Domain/0055_mar_tourism.txt  \n",
            "  inflating: tourism/Marathi Tourism Domain/Marathi Tourism Domain/0056_mar_tourism.txt  \n",
            "  inflating: tourism/Marathi Tourism Domain/Marathi Tourism Domain/0057_mar_tourism.txt  \n",
            "  inflating: tourism/Marathi Tourism Domain/Marathi Tourism Domain/0058_mar_tourism.txt  \n",
            "  inflating: tourism/Marathi Tourism Domain/Marathi Tourism Domain/0059_mar_tourism.txt  \n",
            "  inflating: tourism/Marathi Tourism Domain/Marathi Tourism Domain/0060_mar_tourism.txt  \n",
            "  inflating: tourism/Marathi Tourism Domain/Marathi Tourism Domain/0061_mar_tourism.txt  \n",
            "  inflating: tourism/Marathi Tourism Domain/Marathi Tourism Domain/0062_mar_tourism.txt  \n",
            "  inflating: tourism/Marathi Tourism Domain/Marathi Tourism Domain/0063_mar_tourism.txt  \n",
            "  inflating: tourism/Marathi Tourism Domain/Marathi Tourism Domain/0064_mar_tourism.txt  \n",
            "  inflating: tourism/Marathi Tourism Domain/Marathi Tourism Domain/0065_mar_tourism.txt  \n",
            "  inflating: tourism/Marathi Tourism Domain/Marathi Tourism Domain/0066_mar_tourism.txt  \n",
            "  inflating: tourism/Marathi Tourism Domain/Marathi Tourism Domain/0067_mar_tourism.txt  \n",
            "  inflating: tourism/Marathi Tourism Domain/Marathi Tourism Domain/0068_mar_tourism.txt  \n",
            "  inflating: tourism/Marathi Tourism Domain/Marathi Tourism Domain/0069_mar_tourism.txt  \n",
            "  inflating: tourism/Marathi Tourism Domain/Marathi Tourism Domain/0070_mar_tourism.txt  \n",
            "  inflating: tourism/Marathi Tourism Domain/Marathi Tourism Domain/0071_mar_tourism.txt  \n",
            "  inflating: tourism/Marathi Tourism Domain/Marathi Tourism Domain/0072_mar_tourism.txt  \n",
            "  inflating: tourism/Marathi Tourism Domain/Marathi Tourism Domain/0073_mar_tourism.txt  \n",
            "  inflating: tourism/Marathi Tourism Domain/Marathi Tourism Domain/0074_mar_tourism.txt  \n",
            "  inflating: tourism/Marathi Tourism Domain/Marathi Tourism Domain/0075_mar_tourism.txt  \n",
            "  inflating: tourism/Marathi Tourism Domain/Marathi Tourism Domain/0076_mar_tourism.txt  \n",
            "  inflating: tourism/Marathi Tourism Domain/Marathi Tourism Domain/0077_mar_tourism.txt  \n",
            "  inflating: tourism/Marathi Tourism Domain/Marathi Tourism Domain/0078_mar_tourism.txt  \n",
            "  inflating: tourism/Marathi Tourism Domain/Marathi Tourism Domain/0079_mar_tourism.txt  \n",
            "  inflating: tourism/Marathi Tourism Domain/Marathi Tourism Domain/0080_mar_tourism.txt  \n",
            "  inflating: tourism/Marathi Tourism Domain/Marathi Tourism Domain/0081_mar_tourism.txt  \n",
            "  inflating: tourism/Marathi Tourism Domain/Marathi Tourism Domain/0082_mar_tourism.txt  \n",
            "  inflating: tourism/Marathi Tourism Domain/Marathi Tourism Domain/0083_mar_tourism.txt  \n",
            "  inflating: tourism/Marathi Tourism Domain/Marathi Tourism Domain/0084_mar_tourism.txt  \n",
            "  inflating: tourism/Marathi Tourism Domain/Marathi Tourism Domain/0085_mar_tourism.txt  \n",
            "  inflating: tourism/Marathi Tourism Domain/Marathi Tourism Domain/0086_mar_tourism.txt  \n",
            "  inflating: tourism/Marathi Tourism Domain/Marathi Tourism Domain/0087_mar_tourism.txt  \n",
            "  inflating: tourism/Marathi Tourism Domain/Marathi Tourism Domain/0088_mar_tourism.txt  \n",
            "  inflating: tourism/Marathi Tourism Domain/Marathi Tourism Domain/0089_mar_tourism.txt  \n",
            "  inflating: tourism/Marathi Tourism Domain/Marathi Tourism Domain/0090_mar_tourism.txt  \n",
            "  inflating: tourism/Marathi Tourism Domain/Marathi Tourism Domain/0091_mar_tourism.txt  \n",
            "  inflating: tourism/Marathi Tourism Domain/Marathi Tourism Domain/0092_mar_tourism.txt  \n",
            "  inflating: tourism/Marathi Tourism Domain/Marathi Tourism Domain/0093_mar_tourism.txt  \n",
            "  inflating: tourism/Marathi Tourism Domain/Marathi Tourism Domain/0094_mar_tourism.txt  \n",
            "  inflating: tourism/Marathi Tourism Domain/Marathi Tourism Domain/0095_mar_tourism.txt  \n",
            "  inflating: tourism/Marathi Tourism Domain/Marathi Tourism Domain/0096_mar_tourism.txt  \n",
            "  inflating: tourism/Marathi Tourism Domain/Marathi Tourism Domain/0097_mar_tourism.txt  \n",
            "  inflating: tourism/Marathi Tourism Domain/Marathi Tourism Domain/0098_mar_tourism.txt  \n",
            "  inflating: tourism/Marathi Tourism Domain/Marathi Tourism Domain/0099_mar_tourism.txt  \n",
            "  inflating: tourism/Marathi Tourism Domain/Marathi Tourism Domain/0100_mar_tourism.txt  \n",
            "  inflating: tourism/Marathi Tourism Domain/Marathi Tourism Domain/0101_mar_tourism.txt  \n",
            "  inflating: tourism/Marathi Tourism Domain/Marathi Tourism Domain/0102_mar_tourism.txt  \n",
            "  inflating: tourism/Marathi Tourism Domain/Marathi Tourism Domain/0103_mar_tourism.txt  \n",
            "  inflating: tourism/Marathi Tourism Domain/Marathi Tourism Domain/0104_mar_tourism.txt  \n",
            "  inflating: tourism/Marathi Tourism Domain/Marathi Tourism Domain/0105_mar_tourism.txt  \n",
            "  inflating: tourism/Marathi Tourism Domain/Marathi Tourism Domain/0106_mar_tourism.txt  \n",
            "  inflating: tourism/Marathi Tourism Domain/Marathi Tourism Domain/0107_mar_tourism.txt  \n",
            "  inflating: tourism/Marathi Tourism Domain/Marathi Tourism Domain/0108_mar_tourism.txt  \n",
            "  inflating: tourism/Marathi Tourism Domain/Marathi Tourism Domain/0109_mar_tourism.txt  \n",
            "  inflating: tourism/Marathi Tourism Domain/Marathi Tourism Domain/0110_mar_tourism.txt  \n",
            "  inflating: tourism/Marathi Tourism Domain/Marathi Tourism Domain/0111_mar_tourism.txt  \n",
            "  inflating: tourism/Marathi Tourism Domain/Marathi Tourism Domain/0112_mar_tourism.txt  \n",
            "  inflating: tourism/Marathi Tourism Domain/Marathi Tourism Domain/0113_mar_tourism.txt  \n",
            "  inflating: tourism/Marathi Tourism Domain/Marathi Tourism Domain/0114_mar_tourism.txt  \n",
            "  inflating: tourism/Marathi Tourism Domain/Marathi Tourism Domain/0115_mar_tourism.txt  \n",
            "  inflating: tourism/Marathi Tourism Domain/Marathi Tourism Domain/0116_mar_tourism.txt  \n",
            "  inflating: tourism/Marathi Tourism Domain/Marathi Tourism Domain/0117_mar_tourism.txt  \n",
            "  inflating: tourism/Marathi Tourism Domain/Marathi Tourism Domain/0118_mar_tourism.txt  \n",
            "  inflating: tourism/Marathi Tourism Domain/Marathi Tourism Domain/0119_mar_tourism.txt  \n",
            "  inflating: tourism/Marathi Tourism Domain/Marathi Tourism Domain/0120_mar_tourism.txt  \n",
            "  inflating: tourism/Marathi Tourism Domain/Marathi Tourism Domain/0121_mar_tourism.txt  \n",
            "  inflating: tourism/Marathi Tourism Domain/Marathi Tourism Domain/0122_mar_tourism.txt  \n",
            "  inflating: tourism/Marathi Tourism Domain/Marathi Tourism Domain/0123_mar_tourism.txt  \n",
            "  inflating: tourism/Marathi Tourism Domain/Marathi Tourism Domain/0124_mar_tourism.txt  \n",
            "  inflating: tourism/Marathi Tourism Domain/Marathi Tourism Domain/0125_mar_tourism.txt  \n",
            "  inflating: tourism/Marathi Tourism Domain/Marathi Tourism Domain/0126_mar_tourism.txt  \n",
            "  inflating: tourism/Marathi Tourism Domain/Marathi Tourism Domain/0127_mar_tourism.txt  \n",
            "  inflating: tourism/Marathi Tourism Domain/Marathi Tourism Domain/0128_mar_tourism.txt  \n",
            "  inflating: tourism/Marathi Tourism Domain/Marathi Tourism Domain/0129_mar_tourism.txt  \n",
            "  inflating: tourism/Marathi Tourism Domain/Marathi Tourism Domain/0130_mar_tourism.txt  \n",
            "  inflating: tourism/Marathi Tourism Domain/Marathi Tourism Domain/0131_mar_tourism.txt  \n",
            "  inflating: tourism/Marathi Tourism Domain/Marathi Tourism Domain/0132_mar_tourism.txt  \n",
            "  inflating: tourism/Marathi Tourism Domain/Marathi Tourism Domain/0133_mar_tourism.txt  \n",
            "  inflating: tourism/Marathi Tourism Domain/Marathi Tourism Domain/0134_mar_tourism.txt  \n",
            "  inflating: tourism/Marathi Tourism Domain/Marathi Tourism Domain/0135_mar_tourism.txt  \n",
            "  inflating: tourism/Marathi Tourism Domain/Marathi Tourism Domain/0136_mar_tourism.txt  \n",
            "  inflating: tourism/Marathi Tourism Domain/Marathi Tourism Domain/0137_mar_tourism.txt  \n",
            "  inflating: tourism/Marathi Tourism Domain/Marathi Tourism Domain/0138_mar_tourism.txt  \n",
            "  inflating: tourism/Marathi Tourism Domain/Marathi Tourism Domain/0139_mar_tourism.txt  \n",
            "  inflating: tourism/Marathi Tourism Domain/Marathi Tourism Domain/0140_mar_tourism.txt  \n",
            "  inflating: tourism/Marathi Tourism Domain/Marathi Tourism Domain/0141_mar_tourism.txt  \n",
            "  inflating: tourism/Marathi Tourism Domain/Marathi Tourism Domain/0142_mar_tourism.txt  \n",
            "  inflating: tourism/Marathi Tourism Domain/Marathi Tourism Domain/0143_mar_tourism.txt  \n",
            "  inflating: tourism/Marathi Tourism Domain/Marathi Tourism Domain/0144_mar_tourism.txt  \n",
            "  inflating: tourism/Marathi Tourism Domain/Marathi Tourism Domain/0145_mar_tourism.txt  \n",
            "  inflating: tourism/Marathi Tourism Domain/Marathi Tourism Domain/0146_mar_tourism.txt  \n",
            "  inflating: tourism/Marathi Tourism Domain/Marathi Tourism Domain/0147_mar_tourism.txt  \n",
            "  inflating: tourism/Marathi Tourism Domain/Marathi Tourism Domain/0148_mar_tourism.txt  \n",
            "  inflating: tourism/Marathi Tourism Domain/Marathi Tourism Domain/0149_mar_tourism.txt  \n",
            "  inflating: tourism/Marathi Tourism Domain/Marathi Tourism Domain/0150_mar_tourism.txt  \n",
            "  inflating: tourism/Marathi Tourism Domain/Marathi Tourism Domain/0151_mar_tourism.txt  \n",
            "  inflating: tourism/Marathi Tourism Domain/Marathi Tourism Domain/0152_mar_tourism.txt  \n",
            "   creating: tourism/Tourism Domain (Training & Testing)/\n",
            "   creating: tourism/Tourism Domain (Training & Testing)/Tourism Testing/\n",
            "  inflating: tourism/Tourism Domain (Training & Testing)/Tourism Testing/Testing_extra_mar_tourism_set1.txt  \n",
            "  inflating: tourism/Tourism Domain (Training & Testing)/Tourism Testing/Testing_extra_mar_tourism_set2.txt  \n",
            "  inflating: tourism/Tourism Domain (Training & Testing)/Tourism Testing/Testing_mar_tourism_set01.txt  \n",
            "  inflating: tourism/Tourism Domain (Training & Testing)/Tourism Testing/Testing_mar_tourism_set02.txt  \n",
            "  inflating: tourism/Tourism Domain (Training & Testing)/Tourism Testing/Testing_mar_tourism_set03.txt  \n",
            "  inflating: tourism/Tourism Domain (Training & Testing)/Tourism Testing/Testing_mar_tourism_set04.txt  \n",
            "  inflating: tourism/Tourism Domain (Training & Testing)/Tourism Testing/Testing_mar_tourism_set05.txt  \n",
            "  inflating: tourism/Tourism Domain (Training & Testing)/Tourism Testing/Testing_mar_tourism_set06.txt  \n",
            "  inflating: tourism/Tourism Domain (Training & Testing)/Tourism Testing/Testing_mar_tourism_set07.txt  \n",
            "  inflating: tourism/Tourism Domain (Training & Testing)/Tourism Testing/Testing_mar_tourism_set08.txt  \n",
            "  inflating: tourism/Tourism Domain (Training & Testing)/Tourism Testing/Testing_mar_tourism_set09.txt  \n",
            "  inflating: tourism/Tourism Domain (Training & Testing)/Tourism Testing/Testing_mar_tourism_set10.txt  \n",
            "  inflating: tourism/Tourism Domain (Training & Testing)/Tourism Testing/Testing_mar_tourism_set11.txt  \n",
            "  inflating: tourism/Tourism Domain (Training & Testing)/Tourism Testing/Testing_mar_tourism_set12.txt  \n",
            "  inflating: tourism/Tourism Domain (Training & Testing)/Tourism Testing/Testing_mar_tourism_set13.txt  \n",
            "  inflating: tourism/Tourism Domain (Training & Testing)/Tourism Testing/Testing_mar_tourism_set14.txt  \n",
            "  inflating: tourism/Tourism Domain (Training & Testing)/Tourism Testing/Testing_mar_tourism_set15.txt  \n",
            "  inflating: tourism/Tourism Domain (Training & Testing)/Tourism Testing/Testing_mar_tourism_set16.txt  \n",
            "  inflating: tourism/Tourism Domain (Training & Testing)/Tourism Testing/Testing_mar_tourism_set17.txt  \n",
            "  inflating: tourism/Tourism Domain (Training & Testing)/Tourism Testing/Testing_mar_tourism_set18.txt  \n",
            "  inflating: tourism/Tourism Domain (Training & Testing)/Tourism Testing/Testing_mar_tourism_set19.txt  \n",
            "  inflating: tourism/Tourism Domain (Training & Testing)/Tourism Testing/Testing_mar_tourism_set20.txt  \n",
            "  inflating: tourism/Tourism Domain (Training & Testing)/Tourism Testing/Testing_mar_tourism_set21.txt  \n",
            "  inflating: tourism/Tourism Domain (Training & Testing)/Tourism Testing/Testing_mar_tourism_set22.txt  \n",
            "  inflating: tourism/Tourism Domain (Training & Testing)/Tourism Testing/Testing_mar_tourism_set23.txt  \n",
            "  inflating: tourism/Tourism Domain (Training & Testing)/Tourism Testing/Testing_mar_tourism_set24.txt  \n",
            "  inflating: tourism/Tourism Domain (Training & Testing)/Tourism Testing/Testing_mar_tourism_set25.txt  \n",
            "   creating: tourism/Tourism Domain (Training & Testing)/Tourism Training/\n",
            "  inflating: tourism/Tourism Domain (Training & Testing)/Tourism Training/extra_mar_tourism_set1.txt  \n",
            "  inflating: tourism/Tourism Domain (Training & Testing)/Tourism Training/extra_mar_tourism_set2.txt  \n",
            "  inflating: tourism/Tourism Domain (Training & Testing)/Tourism Training/mar_tourism_set01.txt  \n",
            "  inflating: tourism/Tourism Domain (Training & Testing)/Tourism Training/mar_tourism_set02.txt  \n",
            "  inflating: tourism/Tourism Domain (Training & Testing)/Tourism Training/mar_tourism_set03.txt  \n",
            "  inflating: tourism/Tourism Domain (Training & Testing)/Tourism Training/mar_tourism_set04.txt  \n",
            "  inflating: tourism/Tourism Domain (Training & Testing)/Tourism Training/mar_tourism_set05.txt  \n",
            "  inflating: tourism/Tourism Domain (Training & Testing)/Tourism Training/mar_tourism_set06.txt  \n",
            "  inflating: tourism/Tourism Domain (Training & Testing)/Tourism Training/mar_tourism_set07.txt  \n",
            "  inflating: tourism/Tourism Domain (Training & Testing)/Tourism Training/mar_tourism_set08.txt  \n",
            "  inflating: tourism/Tourism Domain (Training & Testing)/Tourism Training/mar_tourism_set09.txt  \n",
            "  inflating: tourism/Tourism Domain (Training & Testing)/Tourism Training/mar_tourism_set10.txt  \n",
            "  inflating: tourism/Tourism Domain (Training & Testing)/Tourism Training/mar_tourism_set11.txt  \n",
            "  inflating: tourism/Tourism Domain (Training & Testing)/Tourism Training/mar_tourism_set12.txt  \n",
            "  inflating: tourism/Tourism Domain (Training & Testing)/Tourism Training/mar_tourism_set13.txt  \n",
            "  inflating: tourism/Tourism Domain (Training & Testing)/Tourism Training/mar_tourism_set14.txt  \n",
            "  inflating: tourism/Tourism Domain (Training & Testing)/Tourism Training/mar_tourism_set15.txt  \n",
            "  inflating: tourism/Tourism Domain (Training & Testing)/Tourism Training/mar_tourism_set16.txt  \n",
            "  inflating: tourism/Tourism Domain (Training & Testing)/Tourism Training/mar_tourism_set17.txt  \n",
            "  inflating: tourism/Tourism Domain (Training & Testing)/Tourism Training/mar_tourism_set18.txt  \n",
            "  inflating: tourism/Tourism Domain (Training & Testing)/Tourism Training/mar_tourism_set19.txt  \n",
            "  inflating: tourism/Tourism Domain (Training & Testing)/Tourism Training/mar_tourism_set20.txt  \n",
            "  inflating: tourism/Tourism Domain (Training & Testing)/Tourism Training/mar_tourism_set21.txt  \n",
            "  inflating: tourism/Tourism Domain (Training & Testing)/Tourism Training/mar_tourism_set22.txt  \n",
            "  inflating: tourism/Tourism Domain (Training & Testing)/Tourism Training/mar_tourism_set23.txt  \n",
            "  inflating: tourism/Tourism Domain (Training & Testing)/Tourism Training/mar_tourism_set24.txt  \n",
            "  inflating: tourism/Tourism Domain (Training & Testing)/Tourism Training/mar_tourism_set25.txt  \n"
          ],
          "name": "stdout"
        }
      ]
    },
    {
      "cell_type": "code",
      "metadata": {
        "id": "AeXevKYDkwU6"
      },
      "source": [
        "FILES_PATH2 = \"/content/tourism/Marathi Tourism Domain/Marathi Tourism Domain\"\n",
        "FILES_PATH3 = \"/content/tourism/Tourism Domain (Training & Testing)/Tourism Training\"\n",
        "FILES_PATH4 = \"/content/tourism/Tourism Domain (Training & Testing)/Tourism Testing\""
      ],
      "execution_count": 4,
      "outputs": []
    },
    {
      "cell_type": "code",
      "metadata": {
        "id": "Pmu4bmpbkEeT"
      },
      "source": [
        "all_lines0 = []\n",
        "for i in os.listdir(FILES_PATH3):\n",
        "    if i!=\".ipynb_checkpoints\":\n",
        "        text_file = open(os.path.join(FILES_PATH3, i), \"r\", encoding=\"utf-8-sig\",errors='ignore')\n",
        "        content = text_file.read()\n",
        "        content = content.split(\"\\n\")\n",
        "        lines = []\n",
        "        for i in content:\n",
        "            lines.append(i.split(\" \"))\n",
        "        line_words = []\n",
        "        for i in lines:\n",
        "            words = []\n",
        "            cleaned_words=[]\n",
        "            for j in i:\n",
        "                if \"\\\\\" in j:\n",
        "                    words.append(j.split(\"\\\\\"))\n",
        "            all_lines0.append(words)\n",
        "\n",
        "for i in os.listdir(FILES_PATH4):\n",
        "    if i!=\".ipynb_checkpoints\":\n",
        "        text_file = open(os.path.join(FILES_PATH4, i), \"r\", encoding=\"utf-8-sig\",errors='ignore')\n",
        "        content = text_file.read()\n",
        "        content = content.split(\"\\n\")\n",
        "        lines = []\n",
        "        for i in content:\n",
        "            lines.append(i.split(\" \"))\n",
        "        line_words = []\n",
        "        for i in lines:\n",
        "            words = []\n",
        "            cleaned_words=[]\n",
        "            for j in i:\n",
        "                if \"\\\\\" in j:\n",
        "                    words.append(j.split(\"\\\\\"))\n",
        "            all_lines0.append(words)            "
      ],
      "execution_count": 5,
      "outputs": []
    },
    {
      "cell_type": "code",
      "metadata": {
        "colab": {
          "base_uri": "https://localhost:8080/"
        },
        "id": "UC6ok9UZuiJ8",
        "outputId": "71fb54b1-7993-46d9-9843-7d6752231fda"
      },
      "source": [
        "all_lines0[1]"
      ],
      "execution_count": 6,
      "outputs": [
        {
          "output_type": "execute_result",
          "data": {
            "text/plain": [
              "[['htd21099\\tयेथे', 'DM_DMD'],\n",
              " ['इतकी', 'QT_QTF'],\n",
              " ['वाळू', 'N_NN'],\n",
              " ['जमली', 'V_VM'],\n",
              " ['होती', 'V_VAUX'],\n",
              " ['की', 'CC_CCS'],\n",
              " ['कोणालाच', 'DM_DMQ'],\n",
              " ['ह्या', 'DM_DMR'],\n",
              " ['गोष्टीचा', 'N_NN'],\n",
              " ['अंदाज', 'N_NN'],\n",
              " ['नव्हता', 'V_VM'],\n",
              " ['की', 'CC_CCS'],\n",
              " ['खाली', 'N_NST'],\n",
              " ['काय', 'PR_PRQ'],\n",
              " ['आहे', 'V_VM'],\n",
              " ['.', 'RD_PUNC']]"
            ]
          },
          "metadata": {
            "tags": []
          },
          "execution_count": 6
        }
      ]
    },
    {
      "cell_type": "code",
      "metadata": {
        "id": "PB81jUU0nXBB"
      },
      "source": [
        "for i in range(len(all_lines0)):\n",
        "    for j in range(len(all_lines0[i])):\n",
        "        if j==0:\n",
        "            if len(all_lines0[i][j][0].split(\"\\t\"))==2:\n",
        "                 all_lines0[i][j][0]=all_lines0[i][j][0].split(\"\\t\")[1]"
      ],
      "execution_count": 7,
      "outputs": []
    },
    {
      "cell_type": "code",
      "metadata": {
        "colab": {
          "base_uri": "https://localhost:8080/"
        },
        "id": "GcT_TYKGOqT7",
        "outputId": "95861deb-8a69-4bd0-a1cf-d474b5b6bc9e"
      },
      "source": [
        "all_lines0[11223]"
      ],
      "execution_count": 8,
      "outputs": [
        {
          "output_type": "execute_result",
          "data": {
            "text/plain": [
              "[['जवळजवळ', 'RB'],\n",
              " ['२', 'QT_QTC'],\n",
              " ['हजार', 'QT_QTC'],\n",
              " ['वर्षापूर्वी', 'N_NN'],\n",
              " ['बनलेले', 'V_VM'],\n",
              " ['हे', 'DM_DMR'],\n",
              " ['मंदिर', 'N_NN'],\n",
              " ['समुद्र', 'N_NN'],\n",
              " ['देवता', 'N_NN'],\n",
              " ['टॉइस्टला', 'N_NNP'],\n",
              " ['समर्पित', 'JJ'],\n",
              " ['आहे', 'V_VM'],\n",
              " ['.', 'RD_PUNC']]"
            ]
          },
          "metadata": {
            "tags": []
          },
          "execution_count": 8
        }
      ]
    },
    {
      "cell_type": "code",
      "metadata": {
        "id": "PzhyonXJNEIi"
      },
      "source": [
        "for i in range(len(all_lines0)):\n",
        "    for j in range(len(all_lines0[i])):\n",
        "      if len(all_lines0[i][j])!=2:\n",
        "        all_lines0[i][j].remove(all_lines0[i][j][2])\n",
        "        print(all_lines0[i][j])"
      ],
      "execution_count": 10,
      "outputs": []
    },
    {
      "cell_type": "code",
      "metadata": {
        "id": "XBVeWCXHMN4i"
      },
      "source": [
        "for i in range(len(all_lines0)):\n",
        "    for j in range(len(all_lines0[i])):\n",
        "        if all_lines0[i][j][1]=='N_NN' or all_lines0[i][j][1]=='N_NN-' or all_lines0[i][j][1]=='N_NN.' or all_lines0[i][j][1]=='N_NN,':\n",
        "                all_lines0[i][j][1]='n'\n",
        "                    \n",
        "        elif all_lines0[i][j][1]=='N_NST' or all_lines0[i][j][1]=='N_NNP' or all_lines0[i][j][1]=='N_NNP' or all_lines0[i][j][1]=='N_NNP,':      \n",
        "            all_lines0[i][j][1]='n'\n",
        "                 \n",
        "        elif all_lines0[i][j][1]=='JJ' or all_lines0[i][j][1]=='JJ-' or all_lines0[i][j][1]=='JJ' or all_lines0[i][j][1]=='JJस्थळाच्या':   \n",
        "            all_lines0[i][j][1]='a'\n",
        "                \n",
        "        elif all_lines0[i][j][1]=='RB' or all_lines0[i][j][1]=='RB,':\n",
        "            all_lines0[i][j][1]='r'\n",
        "                    \n",
        "        elif all_lines0[i][j][1]=='V_VM' or all_lines0[i][j][1]=='V_VAM.' or all_lines0[i][j][1]=='V_VAX.' or all_lines0[i][j][1]=='V_VAUX' or all_lines0[i][j][1]=='V_VUAX.':   \n",
        "            all_lines0[i][j][1]='v'\n",
        "\n",
        "        elif all_lines0[i][j][1]=='V_VM.' or all_lines0[i][j][1]=='V_VAUX.' or all_lines0[i][j][1]=='V_VM':  \n",
        "            all_lines0[i][j][1]='v'    \n",
        "                \n",
        "        else: \n",
        "            all_lines0[i][j][1]='u'"
      ],
      "execution_count": 11,
      "outputs": []
    },
    {
      "cell_type": "code",
      "metadata": {
        "colab": {
          "base_uri": "https://localhost:8080/"
        },
        "id": "4UNnMk3mmD4M",
        "outputId": "99ee9da5-1b9d-4d84-a3b2-5f6c3c1b725e"
      },
      "source": [
        "all_lines0[2000]"
      ],
      "execution_count": 12,
      "outputs": [
        {
          "output_type": "execute_result",
          "data": {
            "text/plain": [
              "[['थायलंड', 'n'],\n",
              " ['येथील', 'u'],\n",
              " ['तुमची', 'u'],\n",
              " ['सुट्टी', 'n'],\n",
              " ['अविस्मरणीय', 'a'],\n",
              " ['ठरु', 'v'],\n",
              " ['शकते', 'v'],\n",
              " ['.', 'u']]"
            ]
          },
          "metadata": {
            "tags": []
          },
          "execution_count": 12
        }
      ]
    },
    {
      "cell_type": "code",
      "metadata": {
        "id": "9eXMgW-XmD8G"
      },
      "source": [
        "all_lines = []\n",
        "            \n",
        "for i in os.listdir(FILES_PATH2):\n",
        "    if i!=\".ipynb_checkpoints\":\n",
        "        text_file = open(os.path.join(FILES_PATH2, i), \"r\", encoding=\"utf-8\")\n",
        "        content = text_file.read()\n",
        "        content = content.split(\"\\n\")\n",
        "        lines = []\n",
        "        for i in content:\n",
        "            lines.append(i.split(\" \"))\n",
        "        line_words = []\n",
        "        for i in lines:\n",
        "            words = []\n",
        "            for j in i:\n",
        "                if \"#\" in j:\n",
        "                    words.append(j.split(\"#\"))\n",
        "            all_lines.append(words)"
      ],
      "execution_count": 13,
      "outputs": []
    },
    {
      "cell_type": "code",
      "metadata": {
        "id": "8X4LwveEmD-J"
      },
      "source": [
        "all_lines_word_info = []\n",
        "for line in all_lines:\n",
        "    words_info = []\n",
        "    if line != []:\n",
        "        for word in line:\n",
        "            word_info = {}\n",
        "            word_info[\"word\"] = word[0]\n",
        "            if word[1] !=\"\" and word[1][0] == \"{\":\n",
        "                word_info[\"root_word\"] = word[1][1:len(word[1])-1].split(\",\")\n",
        "            else:\n",
        "                word_info[\"root_word\"] = word[1]\n",
        "            word_info[\"pos\"] = word[2]\n",
        "            word_info[\"word_position\"] = word[3]\n",
        "            word_info[\"word_id\"] = word[4]\n",
        "            words_info.append(word_info)\n",
        "        all_lines_word_info.append(words_info)"
      ],
      "execution_count": 14,
      "outputs": []
    },
    {
      "cell_type": "code",
      "metadata": {
        "id": "oiAZjmSwmEEb"
      },
      "source": [
        "all_pos0 = []\n",
        "for i in all_lines0:\n",
        "    for word in i:\n",
        "        try:\n",
        "            if word[1] not in all_pos0:\n",
        "                all_pos0.append(word[1])\n",
        "        except:\n",
        "            pass"
      ],
      "execution_count": 16,
      "outputs": []
    },
    {
      "cell_type": "code",
      "metadata": {
        "colab": {
          "base_uri": "https://localhost:8080/"
        },
        "id": "Wshi4DLWoEpv",
        "outputId": "e9bca300-3d69-4795-8808-fbcd5ba417d3"
      },
      "source": [
        "all_pos0"
      ],
      "execution_count": 18,
      "outputs": [
        {
          "output_type": "execute_result",
          "data": {
            "text/plain": [
              "['u', 'n', 'v', 'a', 'r']"
            ]
          },
          "metadata": {
            "tags": []
          },
          "execution_count": 18
        }
      ]
    },
    {
      "cell_type": "code",
      "metadata": {
        "id": "D31vKD2w3gCW"
      },
      "source": [
        "all_pos = []\n",
        "for i in all_lines_word_info:\n",
        "    for word in i:\n",
        "        try:\n",
        "            if word[\"pos\"] not in all_pos:\n",
        "                all_pos.append(word[\"pos\"])\n",
        "        except:\n",
        "            pass"
      ],
      "execution_count": 19,
      "outputs": []
    },
    {
      "cell_type": "code",
      "metadata": {
        "colab": {
          "base_uri": "https://localhost:8080/"
        },
        "id": "sHKElSAvkEhR",
        "outputId": "40a42c9e-c9c1-4bb9-b1dc-acaf385db6fc"
      },
      "source": [
        "all_pos"
      ],
      "execution_count": 20,
      "outputs": [
        {
          "output_type": "execute_result",
          "data": {
            "text/plain": [
              "['u', 'a', 'n', 'v', 'r']"
            ]
          },
          "metadata": {
            "tags": []
          },
          "execution_count": 20
        }
      ]
    },
    {
      "cell_type": "code",
      "metadata": {
        "id": "Xyr4_DyR3mw6"
      },
      "source": [
        "PATH = \"/content/tourism/1_marathilexnew.txt\"\n",
        "text_file = open(PATH, \"r\", encoding=\"utf-8-sig\")\n",
        "content = text_file.read()"
      ],
      "execution_count": 21,
      "outputs": []
    },
    {
      "cell_type": "code",
      "metadata": {
        "colab": {
          "base_uri": "https://localhost:8080/"
        },
        "id": "To0WBDa93mzM",
        "outputId": "c95e90b9-94c7-4ea9-bab8-b5e0d345b9a5"
      },
      "source": [
        "len(content.split(\"\\n\"))"
      ],
      "execution_count": 22,
      "outputs": [
        {
          "output_type": "execute_result",
          "data": {
            "text/plain": [
              "28019"
            ]
          },
          "metadata": {
            "tags": []
          },
          "execution_count": 22
        }
      ]
    },
    {
      "cell_type": "code",
      "metadata": {
        "id": "l4Lu_78k3m3P"
      },
      "source": [
        "all_noun_words = []\n",
        "all_adjective_words = []\n",
        "all_verb_words = []\n",
        "all_adverb_words = []\n",
        "for word in content.split(\"\\n\"):\n",
        "    if \"noun\" in word:\n",
        "        all_noun_words.append(word)\n",
        "    elif \"adjective\" in word:\n",
        "        all_adjective_words.append(word)\n",
        "    elif \"verb\" in word:\n",
        "        all_verb_words.append(word)\n",
        "    elif \"adverb \":\n",
        "        all_adverb_words.append(word)"
      ],
      "execution_count": 23,
      "outputs": []
    },
    {
      "cell_type": "code",
      "metadata": {
        "colab": {
          "base_uri": "https://localhost:8080/"
        },
        "id": "qPd69lFg3m5I",
        "outputId": "fa4c0fd4-8737-4b64-9fb7-031f080a5928"
      },
      "source": [
        "print(f\"Nouns: {len(all_noun_words)}\")\n",
        "print(f\"Adjectives: {len(all_adjective_words)}\")\n",
        "print(f\"Verbs: {len(all_verb_words)}\")                \n",
        "print(f\"Adverbs: {len(all_adverb_words)}\")"
      ],
      "execution_count": 24,
      "outputs": [
        {
          "output_type": "stream",
          "text": [
            "Nouns: 16244\n",
            "Adjectives: 7849\n",
            "Verbs: 2142\n",
            "Adverbs: 1784\n"
          ],
          "name": "stdout"
        }
      ]
    },
    {
      "cell_type": "code",
      "metadata": {
        "id": "r6wHBm8Y3nEm"
      },
      "source": [
        "all_sentences = []\n",
        "all_tags = []\n",
        "\n",
        "for line in all_lines_word_info:\n",
        "    sentence = []\n",
        "    tag = []\n",
        "    for word in line:\n",
        "        sentence.append(word[\"word\"])\n",
        "        tag.append(word[\"pos\"])\n",
        "    all_sentences.append(sentence)\n",
        "    all_tags.append(tag)\n",
        "    \n",
        "for line in all_lines0:\n",
        "    sentence = []\n",
        "    tag = []\n",
        "    for word in line:\n",
        "        sentence.append(word[0])\n",
        "        tag.append(word[1])\n",
        "    all_sentences.append(sentence)\n",
        "    all_tags.append(tag)  "
      ],
      "execution_count": 25,
      "outputs": []
    },
    {
      "cell_type": "code",
      "metadata": {
        "colab": {
          "base_uri": "https://localhost:8080/"
        },
        "id": "eWcKv-pZ6dN5",
        "outputId": "9c554d28-3ebc-43ae-ec61-a1117d137c75"
      },
      "source": [
        "len(all_sentences)"
      ],
      "execution_count": 26,
      "outputs": [
        {
          "output_type": "execute_result",
          "data": {
            "text/plain": [
              "41371"
            ]
          },
          "metadata": {
            "tags": []
          },
          "execution_count": 26
        }
      ]
    },
    {
      "cell_type": "code",
      "metadata": {
        "id": "qapi14Ev46DY"
      },
      "source": [
        "all_new_nouns = ' :: '.join(all_noun_words)\n",
        "all_new_adjectives = ' :: '.join(all_adjective_words)\n",
        "all_new_verbs= ' :: '.join(all_verb_words)\n",
        "all_new_adverbs = ' :: '.join(all_adverb_words)\n",
        "for index in range(len(all_sentences)):\n",
        "    sentence = all_sentences[index]\n",
        "    for i in range(len(sentence)):\n",
        "        word_pos_tag = all_tags[index][i]\n",
        "        if word_pos_tag == 'u':\n",
        "            if sentence[i] in all_new_adjectives:\n",
        "                all_tags[index][i] = \"a\"\n",
        "            elif sentence[i] in all_new_nouns:\n",
        "                all_tags[index][i] = \"n\"\n",
        "            elif sentence[i] in all_new_verbs:\n",
        "                all_tags[index][i] = \"v\"\n",
        "            elif sentence[i] in all_new_adverbs:\n",
        "                all_tags[index][i] = \"r\""
      ],
      "execution_count": 27,
      "outputs": []
    },
    {
      "cell_type": "code",
      "metadata": {
        "colab": {
          "base_uri": "https://localhost:8080/"
        },
        "id": "ZsQ0q1z_46FZ",
        "outputId": "c0cb7dc8-f84c-431a-f433-81367d460d0a"
      },
      "source": [
        "print(f\"Nouns: {len(all_new_nouns)}\")\n",
        "print(f\"Adjectives: {len(all_new_adjectives)}\")\n",
        "print(f\"Verbs: {len(all_new_verbs)}\")\n",
        "print(f\"Adverbs: {len(all_new_adverbs)}\")"
      ],
      "execution_count": 28,
      "outputs": [
        {
          "output_type": "stream",
          "text": [
            "Nouns: 317583\n",
            "Adjectives: 190648\n",
            "Verbs: 60178\n",
            "Adverbs: 58307\n"
          ],
          "name": "stdout"
        }
      ]
    },
    {
      "cell_type": "code",
      "metadata": {
        "colab": {
          "base_uri": "https://localhost:8080/"
        },
        "id": "IkMT4F4y46I5",
        "outputId": "5a2af536-ca4c-4be4-eaee-6cb86320caf6"
      },
      "source": [
        "index = 16117\n",
        "print(all_sentences[index], len(all_sentences[index]))\n",
        "print(all_tags[index], len(all_tags[index]))"
      ],
      "execution_count": 29,
      "outputs": [
        {
          "output_type": "stream",
          "text": [
            "['पुढे', 'उताराने', 'रस्त्याचे', 'अस्तित्व', 'मिटवले', 'होते', '.'] 7\n",
            "['n', 'n', 'n', 'n', 'v', 'v', 'n'] 7\n"
          ],
          "name": "stdout"
        }
      ]
    },
    {
      "cell_type": "code",
      "metadata": {
        "id": "EVHsVh6P46LB"
      },
      "source": [
        "all_sent = []\n",
        "all_tag = []\n",
        "for i in range(len(all_sentences)):\n",
        "    if len(all_sentences[i]) != 1:\n",
        "        all_sent.append(all_sentences[i])\n",
        "        all_tag.append(all_tags[i])"
      ],
      "execution_count": 30,
      "outputs": []
    },
    {
      "cell_type": "code",
      "metadata": {
        "colab": {
          "base_uri": "https://localhost:8080/"
        },
        "id": "8rX3Vn0z46Oa",
        "outputId": "af2f5b5a-d4a3-4be4-a91f-e8cb42a074c9"
      },
      "source": [
        "all_sentences = all_sent\n",
        "all_tags = all_tag\n",
        "print(len(all_sentences), len(all_tags))"
      ],
      "execution_count": 31,
      "outputs": [
        {
          "output_type": "stream",
          "text": [
            "41160 41160\n"
          ],
          "name": "stdout"
        }
      ]
    },
    {
      "cell_type": "code",
      "metadata": {
        "colab": {
          "base_uri": "https://localhost:8080/"
        },
        "id": "0Uj60UmR46P6",
        "outputId": "0b28e440-b737-47ee-b7f3-acafba2ad1c1"
      },
      "source": [
        "index = 8\n",
        "print(all_sentences[index], len(all_sentences[index]))\n",
        "print(all_tags[index], len(all_tags[index]))"
      ],
      "execution_count": 32,
      "outputs": [
        {
          "output_type": "stream",
          "text": [
            "['उत्तरांचलच्या', 'लहान', 'शहरांमध्ये', ',', 'बॅंकांच्या', 'व्यवसायाचे', 'पर्याय', 'पूर्णपणे', 'मर्यादित', 'स्वरूपाचे', 'असतील', ',', 'सरकारी', 'बँकांच्या', 'लहान', 'शाखा', 'निर्बंध', 'असलेल्या', 'आहेत', 'ज्या', 'बर्\\u200dयाचशा', 'सुविधा', 'देत', 'नाहीत', 'आणि', 'त्या', 'डॉलर', 'आणि', 'स्टर्लिंग', 'पाऊंड', 'यांच्या', 'व्यतिरिक्त', 'चलन', 'बदली', 'करण्यास', 'असंभवनिय', 'आहेत', 'आणि', 'पुष्कळ', 'वेळा', 'ते', 'सुद्धा', 'करीत', 'नाही', '.'] 45\n",
            "['n', 'a', 'n', 'a', 'u', 'n', 'n', 'r', 'a', 'u', 'u', 'a', 'a', 'u', 'a', 'n', 'n', 'u', 'v', 'n', 'u', 'n', 'u', 'v', 'r', 'a', 'n', 'r', 'u', 'u', 'u', 'a', 'n', 'a', 'u', 'a', 'v', 'r', 'a', 'n', 'a', 'u', 'v', 'n', 'n'] 45\n"
          ],
          "name": "stdout"
        }
      ]
    },
    {
      "cell_type": "code",
      "metadata": {
        "id": "3x_DH5tw46TT"
      },
      "source": [
        "num_words = len(set([word for sentence in all_sentences for word in sentence]))\n",
        "num_tags = len(set([tag for sentence_tag in all_tags for tag in sentence_tag]))"
      ],
      "execution_count": 33,
      "outputs": []
    },
    {
      "cell_type": "code",
      "metadata": {
        "id": "ho3-BArl46VV"
      },
      "source": [
        "words = set([word for sentence in all_sentences for word in sentence])\n",
        "tags = set([tag for sentence_tag in all_tags for tag in sentence_tag])"
      ],
      "execution_count": 34,
      "outputs": []
    },
    {
      "cell_type": "code",
      "metadata": {
        "colab": {
          "base_uri": "https://localhost:8080/"
        },
        "id": "ZrzeBqq-46Yr",
        "outputId": "686c92d9-3fab-4702-ee8f-8812c1747a52"
      },
      "source": [
        "print(f\"Number of words: {num_words}\\nNumber of tags: {num_tags}\")"
      ],
      "execution_count": 35,
      "outputs": [
        {
          "output_type": "stream",
          "text": [
            "Number of words: 97881\n",
            "Number of tags: 5\n"
          ],
          "name": "stdout"
        }
      ]
    },
    {
      "cell_type": "code",
      "metadata": {
        "colab": {
          "base_uri": "https://localhost:8080/"
        },
        "id": "bNKVGf6946be",
        "outputId": "99e084d2-dd2f-4da7-bcf8-b04dbed9f1d9"
      },
      "source": [
        "print(f\"Number of Sentences: {len(all_sentences)}\")\n",
        "print(f\"Vocabulary Size: {num_words}\")\n",
        "print(f\"Total Tags: {num_tags}\")"
      ],
      "execution_count": 36,
      "outputs": [
        {
          "output_type": "stream",
          "text": [
            "Number of Sentences: 41160\n",
            "Vocabulary Size: 97881\n",
            "Total Tags: 5\n"
          ],
          "name": "stdout"
        }
      ]
    },
    {
      "cell_type": "code",
      "metadata": {
        "id": "8jsb99G27qcG"
      },
      "source": [
        "word_index = {word: i+2 for i,word in enumerate(list(words))}\n",
        "tag_index = {tag: i+1 for i,tag in enumerate(list(tags))}"
      ],
      "execution_count": 37,
      "outputs": []
    },
    {
      "cell_type": "code",
      "metadata": {
        "id": "pAFDO9dI7qeQ"
      },
      "source": [
        "all_sentences_numeric = []\n",
        "all_tags_numeric = []\n",
        "for i in range(len(all_sentences)):\n",
        "    sent = []\n",
        "    tag = []\n",
        "    for word in all_sentences[i]:\n",
        "        sent.append(word_index[word])\n",
        "    for t in all_tags[i]:\n",
        "        tag.append(tag_index[t])\n",
        "    all_sentences_numeric.append(sent)\n",
        "    all_tags_numeric.append(tag)"
      ],
      "execution_count": 38,
      "outputs": []
    },
    {
      "cell_type": "code",
      "metadata": {
        "colab": {
          "base_uri": "https://localhost:8080/"
        },
        "id": "UZ_Ma3mz7zu_",
        "outputId": "6ea0c758-18a4-4704-fed0-5f1f9dbdc9e9"
      },
      "source": [
        "print(all_sentences[0])\n",
        "print(all_sentences_numeric[0])\n",
        "print(all_tags[0])\n",
        "print(all_tags_numeric[0])"
      ],
      "execution_count": 39,
      "outputs": [
        {
          "output_type": "stream",
          "text": [
            "['\\ufeffउत्तर', 'प्रदेशाचे', 'सर्वात', 'मध्यावर', 'वसलेले', 'थंड', 'हवेच्या', 'ठिकाणांपैकी', 'एक', 'अलमोडा', 'जे', '१६४६', 'मीटर', 'उंचीवर', 'आहे', '.']\n",
            "[31178, 46890, 7878, 95273, 22813, 60618, 1795, 43843, 61434, 79599, 73873, 51713, 1474, 61132, 85429, 10682]\n",
            "['u', 'u', 'u', 'a', 'u', 'a', 'u', 'u', 'a', 'u', 'a', 'u', 'n', 'n', 'n', 'n']\n",
            "[5, 5, 5, 2, 5, 2, 5, 5, 2, 5, 2, 5, 3, 3, 3, 3]\n"
          ],
          "name": "stdout"
        }
      ]
    },
    {
      "cell_type": "code",
      "metadata": {
        "colab": {
          "base_uri": "https://localhost:8080/"
        },
        "id": "HZBbAM2R7zw6",
        "outputId": "887fc9cd-aa93-457f-f09a-7597faf00591"
      },
      "source": [
        "MAX_LENGTH = max([len(sentence) for sentence in all_sentences])\n",
        "print(MAX_LENGTH)"
      ],
      "execution_count": 40,
      "outputs": [
        {
          "output_type": "stream",
          "text": [
            "113\n"
          ],
          "name": "stdout"
        }
      ]
    },
    {
      "cell_type": "code",
      "metadata": {
        "colab": {
          "background_save": true,
          "base_uri": "https://localhost:8080/",
          "height": 317
        },
        "id": "ZWzzzvsM7z1K",
        "outputId": "d2c7e095-3954-4d6c-c96e-2461c0b921f9"
      },
      "source": [
        "sns.boxplot([len(sentence) for sentence in all_sentences])\n",
        "plt.show()"
      ],
      "execution_count": null,
      "outputs": [
        {
          "output_type": "stream",
          "text": [
            "/usr/local/lib/python3.7/dist-packages/seaborn/_decorators.py:43: FutureWarning: Pass the following variable as a keyword arg: x. From version 0.12, the only valid positional argument will be `data`, and passing other arguments without an explicit keyword will result in an error or misinterpretation.\n",
            "  FutureWarning\n"
          ],
          "name": "stderr"
        },
        {
          "output_type": "display_data",
          "data": {
            "image/png": "[encoded data removed]",
            "text/plain": [
              "<Figure size 432x288 with 1 Axes>"
            ]
          },
          "metadata": {
            "tags": []
          }
        }
      ]
    },
    {
      "cell_type": "code",
      "metadata": {
        "id": "J-HHimKA7z24"
      },
      "source": [
        "sentences_padded = pad_sequences(all_sentences_numeric, maxlen=MAX_LENGTH, padding=\"pre\", truncating=\"post\")\n",
        "tags_padded = pad_sequences(all_tags_numeric, maxlen=MAX_LENGTH, padding=\"pre\", truncating=\"post\")"
      ],
      "execution_count": 41,
      "outputs": []
    },
    {
      "cell_type": "code",
      "metadata": {
        "colab": {
          "base_uri": "https://localhost:8080/"
        },
        "id": "LARrLg477z5-",
        "outputId": "21bf6b59-5ef7-438c-cc6f-671a7b7f9fdd"
      },
      "source": [
        "print(sentences_padded[0])\n",
        "print(tags_padded[0])"
      ],
      "execution_count": 42,
      "outputs": [
        {
          "output_type": "stream",
          "text": [
            "[    0     0     0     0     0     0     0     0     0     0     0     0\n",
            "     0     0     0     0     0     0     0     0     0     0     0     0\n",
            "     0     0     0     0     0     0     0     0     0     0     0     0\n",
            "     0     0     0     0     0     0     0     0     0     0     0     0\n",
            "     0     0     0     0     0     0     0     0     0     0     0     0\n",
            "     0     0     0     0     0     0     0     0     0     0     0     0\n",
            "     0     0     0     0     0     0     0     0     0     0     0     0\n",
            "     0     0     0     0     0     0     0     0     0     0     0     0\n",
            "     0 31178 46890  7878 95273 22813 60618  1795 43843 61434 79599 73873\n",
            " 51713  1474 61132 85429 10682]\n",
            "[0 0 0 0 0 0 0 0 0 0 0 0 0 0 0 0 0 0 0 0 0 0 0 0 0 0 0 0 0 0 0 0 0 0 0 0 0\n",
            " 0 0 0 0 0 0 0 0 0 0 0 0 0 0 0 0 0 0 0 0 0 0 0 0 0 0 0 0 0 0 0 0 0 0 0 0 0\n",
            " 0 0 0 0 0 0 0 0 0 0 0 0 0 0 0 0 0 0 0 0 0 0 0 5 5 5 2 5 2 5 5 2 5 2 5 3 3\n",
            " 3 3]\n"
          ],
          "name": "stdout"
        }
      ]
    },
    {
      "cell_type": "code",
      "metadata": {
        "id": "IE5RgRyl7z7v"
      },
      "source": [
        "word_index[\"_PAD_\"] = 0\n",
        "word_index[\"_OOV_\"] = 1\n",
        "\n",
        "tag_index[\"_PAD_\"] = 0"
      ],
      "execution_count": 43,
      "outputs": []
    },
    {
      "cell_type": "code",
      "metadata": {
        "colab": {
          "base_uri": "https://localhost:8080/"
        },
        "id": "mtrxsD1M7z_C",
        "outputId": "360d506c-456b-4c8d-abe0-42542feb5022"
      },
      "source": [
        "sentences_padded.shape, tags_padded.shape"
      ],
      "execution_count": 44,
      "outputs": [
        {
          "output_type": "execute_result",
          "data": {
            "text/plain": [
              "((41160, 113), (41160, 113))"
            ]
          },
          "metadata": {
            "tags": []
          },
          "execution_count": 44
        }
      ]
    },
    {
      "cell_type": "code",
      "metadata": {
        "id": "brCVcN7F70BC"
      },
      "source": [
        "from tensorflow.keras.utils import to_categorical"
      ],
      "execution_count": 45,
      "outputs": []
    },
    {
      "cell_type": "code",
      "metadata": {
        "id": "bV-AQ9_N70Dr"
      },
      "source": [
        "y = to_categorical(tags_padded)"
      ],
      "execution_count": 46,
      "outputs": []
    },
    {
      "cell_type": "code",
      "metadata": {
        "id": "X10wX8BL70HZ"
      },
      "source": [
        "from sklearn.model_selection import train_test_split\n",
        "X_train, X_test, y_train, y_test = train_test_split(sentences_padded, y, test_size=0.2, random_state = 24)"
      ],
      "execution_count": 47,
      "outputs": []
    },
    {
      "cell_type": "code",
      "metadata": {
        "colab": {
          "base_uri": "https://localhost:8080/"
        },
        "id": "WPVMgtTj8mV4",
        "outputId": "fdde3f7e-fd17-41d4-917f-29bde6ba824b"
      },
      "source": [
        "X_train.shape"
      ],
      "execution_count": 48,
      "outputs": [
        {
          "output_type": "execute_result",
          "data": {
            "text/plain": [
              "(32928, 113)"
            ]
          },
          "metadata": {
            "tags": []
          },
          "execution_count": 48
        }
      ]
    },
    {
      "cell_type": "code",
      "metadata": {
        "colab": {
          "base_uri": "https://localhost:8080/"
        },
        "id": "y6erz4iR8mX8",
        "outputId": "f2b6eaff-eadc-4b6f-c0cf-90617c19e4dd"
      },
      "source": [
        "X_test.shape"
      ],
      "execution_count": 49,
      "outputs": [
        {
          "output_type": "execute_result",
          "data": {
            "text/plain": [
              "(8232, 113)"
            ]
          },
          "metadata": {
            "tags": []
          },
          "execution_count": 49
        }
      ]
    },
    {
      "cell_type": "code",
      "metadata": {
        "colab": {
          "base_uri": "https://localhost:8080/"
        },
        "id": "dSdeviHo8mcH",
        "outputId": "66354799-a76c-4d14-cfe7-ea92be2743e6"
      },
      "source": [
        "print(f\"Train Data: {X_train.shape}, {y_train.shape}\")\n",
        "print(f\"Test Data: {X_test.shape}, {y_test.shape}\")"
      ],
      "execution_count": 50,
      "outputs": [
        {
          "output_type": "stream",
          "text": [
            "Train Data: (32928, 113), (32928, 113, 6)\n",
            "Test Data: (8232, 113), (8232, 113, 6)\n"
          ],
          "name": "stdout"
        }
      ]
    },
    {
      "cell_type": "code",
      "metadata": {
        "id": "6tFSa8VM8mes"
      },
      "source": [
        "from tensorflow.keras.models import Sequential\n",
        "from tensorflow.keras.layers import Dense, Embedding, LSTM, Bidirectional, TimeDistributed, Activation, Flatten, Dropout"
      ],
      "execution_count": 51,
      "outputs": []
    },
    {
      "cell_type": "code",
      "metadata": {
        "id": "jNchhXyW8mhs"
      },
      "source": [
        "VOCAB_SIZE = len(word_index)\n",
        "NUM_CLASSES = len(tag_index)"
      ],
      "execution_count": 52,
      "outputs": []
    },
    {
      "cell_type": "code",
      "metadata": {
        "id": "A4bXH6G18mkn"
      },
      "source": [
        "model = Sequential()\n",
        "\n",
        "model.add(Embedding(\n",
        "    input_dim = VOCAB_SIZE,\n",
        "    output_dim = 128,\n",
        "    input_length = MAX_LENGTH\n",
        "))\n",
        "\n",
        "model.add(Bidirectional(LSTM(256, return_sequences=True)))\n",
        "model.add(Dropout(0.25))\n",
        "\n",
        "model.add(Bidirectional(LSTM(256, return_sequences=True)))\n",
        "model.add(Dropout(0.25))\n",
        "\n",
        "model.add(Bidirectional(LSTM(128, return_sequences=True)))\n",
        "model.add(Dropout(0.25))\n",
        "\n",
        "model.add(Bidirectional(LSTM(128, return_sequences=True)))\n",
        "model.add(Dropout(0.25))\n",
        "\n",
        "model.add(Dense(128, activation=\"relu\"))\n",
        "model.add(Dropout(0.25))\n",
        "\n",
        "model.add(Dense(64, activation=\"relu\"))\n",
        "model.add(Dropout(0.25))\n",
        "\n",
        "model.add(TimeDistributed(Dense(NUM_CLASSES, activation=\"softmax\")))"
      ],
      "execution_count": 54,
      "outputs": []
    },
    {
      "cell_type": "code",
      "metadata": {
        "id": "QGnD-M2i9D2f"
      },
      "source": [
        "model.compile(\n",
        "    loss=\"categorical_crossentropy\",\n",
        "    optimizer=\"adam\",\n",
        "    metrics=[\"accuracy\"]\n",
        ")"
      ],
      "execution_count": 55,
      "outputs": []
    },
    {
      "cell_type": "code",
      "metadata": {
        "colab": {
          "base_uri": "https://localhost:8080/"
        },
        "id": "ImFOwMxed3go",
        "outputId": "1ccb0fa2-1fc1-4f04-a09e-22513146c9d4"
      },
      "source": [
        "model.summary()"
      ],
      "execution_count": null,
      "outputs": [
        {
          "output_type": "stream",
          "text": [
            "Model: \"sequential_1\"\n",
            "_________________________________________________________________\n",
            "Layer (type)                 Output Shape              Param #   \n",
            "=================================================================\n",
            "embedding_1 (Embedding)      (None, 113, 128)          12529024  \n",
            "_________________________________________________________________\n",
            "bidirectional_4 (Bidirection (None, 113, 512)          788480    \n",
            "_________________________________________________________________\n",
            "dropout_6 (Dropout)          (None, 113, 512)          0         \n",
            "_________________________________________________________________\n",
            "bidirectional_5 (Bidirection (None, 113, 512)          1574912   \n",
            "_________________________________________________________________\n",
            "dropout_7 (Dropout)          (None, 113, 512)          0         \n",
            "_________________________________________________________________\n",
            "bidirectional_6 (Bidirection (None, 113, 256)          656384    \n",
            "_________________________________________________________________\n",
            "dropout_8 (Dropout)          (None, 113, 256)          0         \n",
            "_________________________________________________________________\n",
            "bidirectional_7 (Bidirection (None, 113, 256)          394240    \n",
            "_________________________________________________________________\n",
            "dropout_9 (Dropout)          (None, 113, 256)          0         \n",
            "_________________________________________________________________\n",
            "dense_3 (Dense)              (None, 113, 128)          32896     \n",
            "_________________________________________________________________\n",
            "dropout_10 (Dropout)         (None, 113, 128)          0         \n",
            "_________________________________________________________________\n",
            "dense_4 (Dense)              (None, 113, 64)           8256      \n",
            "_________________________________________________________________\n",
            "dropout_11 (Dropout)         (None, 113, 64)           0         \n",
            "_________________________________________________________________\n",
            "time_distributed_1 (TimeDist (None, 113, 6)            390       \n",
            "=================================================================\n",
            "Total params: 15,984,582\n",
            "Trainable params: 15,984,582\n",
            "Non-trainable params: 0\n",
            "_________________________________________________________________\n"
          ],
          "name": "stdout"
        }
      ]
    },
    {
      "cell_type": "code",
      "metadata": {
        "colab": {
          "base_uri": "https://localhost:8080/",
          "height": 1000
        },
        "id": "S4ETsVoPeJpG",
        "outputId": "e6af0be2-b5e9-4ade-f6b4-b943c5107e08"
      },
      "source": [
        "from tensorflow.keras.utils import plot_model\n",
        "plot_model(model, to_file='t0model.png', show_shapes=True, show_layer_names=True)"
      ],
      "execution_count": null,
      "outputs": [
        {
          "output_type": "execute_result",
          "data": {
            "image/png": "[encoded data removed]",
            "text/plain": [
              "<IPython.core.display.Image object>"
            ]
          },
          "metadata": {
            "tags": []
          },
          "execution_count": 8
        }
      ]
    },
    {
      "cell_type": "code",
      "metadata": {
        "colab": {
          "base_uri": "https://localhost:8080/"
        },
        "id": "UpgZ3whf9D8h",
        "outputId": "47fe56fd-3f45-490e-80a3-6f88c838e6d7"
      },
      "source": [
        "history = model.fit(\n",
        "    X_train,y_train,\n",
        "    validation_data=(X_test, y_test),\n",
        "    batch_size=128,\n",
        "    epochs=20\n",
        ")"
      ],
      "execution_count": 56,
      "outputs": [
        {
          "output_type": "stream",
          "text": [
            "Epoch 1/20\n",
            "258/258 [==============================] - 87s 275ms/step - loss: 0.2222 - accuracy: 0.9129 - val_loss: 0.1727 - val_accuracy: 0.9278\n",
            "Epoch 2/20\n",
            "258/258 [==============================] - 68s 263ms/step - loss: 0.1533 - accuracy: 0.9371 - val_loss: 0.0957 - val_accuracy: 0.9666\n",
            "Epoch 3/20\n",
            "258/258 [==============================] - 68s 263ms/step - loss: 0.0785 - accuracy: 0.9751 - val_loss: 0.0679 - val_accuracy: 0.9778\n",
            "Epoch 4/20\n",
            "258/258 [==============================] - 68s 263ms/step - loss: 0.0548 - accuracy: 0.9843 - val_loss: 0.0653 - val_accuracy: 0.9788\n",
            "Epoch 5/20\n",
            "258/258 [==============================] - 68s 263ms/step - loss: 0.0442 - accuracy: 0.9873 - val_loss: 0.0651 - val_accuracy: 0.9795\n",
            "Epoch 6/20\n",
            "258/258 [==============================] - 68s 263ms/step - loss: 0.0363 - accuracy: 0.9893 - val_loss: 0.0633 - val_accuracy: 0.9804\n",
            "Epoch 7/20\n",
            "258/258 [==============================] - 68s 263ms/step - loss: 0.0302 - accuracy: 0.9909 - val_loss: 0.0660 - val_accuracy: 0.9802\n",
            "Epoch 8/20\n",
            "258/258 [==============================] - 68s 263ms/step - loss: 0.0254 - accuracy: 0.9923 - val_loss: 0.0712 - val_accuracy: 0.9795\n",
            "Epoch 9/20\n",
            "258/258 [==============================] - 68s 262ms/step - loss: 0.0214 - accuracy: 0.9936 - val_loss: 0.0747 - val_accuracy: 0.9795\n",
            "Epoch 10/20\n",
            "258/258 [==============================] - 68s 262ms/step - loss: 0.0173 - accuracy: 0.9949 - val_loss: 0.0770 - val_accuracy: 0.9805\n",
            "Epoch 11/20\n",
            "258/258 [==============================] - 68s 262ms/step - loss: 0.0147 - accuracy: 0.9957 - val_loss: 0.0837 - val_accuracy: 0.9801\n",
            "Epoch 12/20\n",
            "258/258 [==============================] - 68s 264ms/step - loss: 0.0121 - accuracy: 0.9965 - val_loss: 0.0894 - val_accuracy: 0.9797\n",
            "Epoch 13/20\n",
            "258/258 [==============================] - 68s 262ms/step - loss: 0.0100 - accuracy: 0.9972 - val_loss: 0.0958 - val_accuracy: 0.9795\n",
            "Epoch 14/20\n",
            "258/258 [==============================] - 68s 263ms/step - loss: 0.0083 - accuracy: 0.9977 - val_loss: 0.1082 - val_accuracy: 0.9798\n",
            "Epoch 15/20\n",
            "258/258 [==============================] - 67s 262ms/step - loss: 0.0071 - accuracy: 0.9980 - val_loss: 0.1048 - val_accuracy: 0.9798\n",
            "Epoch 16/20\n",
            "258/258 [==============================] - 68s 263ms/step - loss: 0.0058 - accuracy: 0.9984 - val_loss: 0.1067 - val_accuracy: 0.9794\n",
            "Epoch 17/20\n",
            "258/258 [==============================] - 68s 263ms/step - loss: 0.0049 - accuracy: 0.9986 - val_loss: 0.1128 - val_accuracy: 0.9798\n",
            "Epoch 18/20\n",
            "258/258 [==============================] - 68s 263ms/step - loss: 0.0043 - accuracy: 0.9989 - val_loss: 0.1164 - val_accuracy: 0.9799\n",
            "Epoch 19/20\n",
            "258/258 [==============================] - 68s 263ms/step - loss: 0.0038 - accuracy: 0.9990 - val_loss: 0.1321 - val_accuracy: 0.9800\n",
            "Epoch 20/20\n",
            "258/258 [==============================] - 68s 263ms/step - loss: 0.0033 - accuracy: 0.9991 - val_loss: 0.1292 - val_accuracy: 0.9803\n"
          ],
          "name": "stdout"
        }
      ]
    },
    {
      "cell_type": "code",
      "metadata": {
        "colab": {
          "base_uri": "https://localhost:8080/",
          "height": 442
        },
        "id": "coONLxo_9D-P",
        "outputId": "a8494f24-d6cb-4b1b-d5e7-9ed86522f2e3"
      },
      "source": [
        "plt.figure(figsize=(9,7))\n",
        "plt.plot(history.history['loss'], 'r', label = 'Training Loss')\n",
        "plt.plot(history.history['val_loss'], label = 'Validation Loss')\n",
        "plt.xlabel('epochs')\n",
        "plt.ylabel('loss')\n",
        "plt.legend()\n",
        "plt.show()"
      ],
      "execution_count": 57,
      "outputs": [
        {
          "output_type": "display_data",
          "data": {
            "image/png": "[encoded data removed]",
            "text/plain": [
              "<Figure size 648x504 with 1 Axes>"
            ]
          },
          "metadata": {
            "tags": [],
            "needs_background": "light"
          }
        }
      ]
    },
    {
      "cell_type": "code",
      "metadata": {
        "colab": {
          "base_uri": "https://localhost:8080/",
          "height": 442
        },
        "id": "8uSiuDke9EBr",
        "outputId": "fc856acc-37f0-4d23-cfce-dfeb6f5d2f15"
      },
      "source": [
        "plt.figure(figsize=(9,7))\n",
        "plt.plot(history.history['accuracy'],'r',label='training accuracy')\n",
        "plt.plot(history.history['val_accuracy'],label='validation accuracy')\n",
        "plt.xlabel('epochs')\n",
        "plt.ylabel('Accuracy')\n",
        "plt.legend()\n",
        "plt.show()"
      ],
      "execution_count": 58,
      "outputs": [
        {
          "output_type": "display_data",
          "data": {
            "image/png": "[encoded data removed]",
            "text/plain": [
              "<Figure size 648x504 with 1 Axes>"
            ]
          },
          "metadata": {
            "tags": [],
            "needs_background": "light"
          }
        }
      ]
    },
    {
      "cell_type": "code",
      "metadata": {
        "id": "CMODq8Zj9EFG"
      },
      "source": [
        "pred=model.predict(X_test)"
      ],
      "execution_count": 59,
      "outputs": []
    },
    {
      "cell_type": "code",
      "metadata": {
        "colab": {
          "base_uri": "https://localhost:8080/"
        },
        "id": "hvi-442O7qig",
        "outputId": "b4fc8096-c22a-4e93-e0c7-37a64bcaacdc"
      },
      "source": [
        "for i in pred[21]:\n",
        "    print(np.argmax(i), end=\" \")"
      ],
      "execution_count": null,
      "outputs": [
        {
          "output_type": "stream",
          "text": [
            "0 0 0 0 0 0 0 0 0 0 0 0 0 0 0 0 0 0 0 0 0 0 0 0 0 0 0 0 0 0 0 0 0 0 0 0 0 0 0 0 0 0 0 0 0 0 0 0 0 0 0 0 0 0 0 0 0 0 0 0 0 0 0 0 0 0 0 0 0 0 0 0 0 0 0 0 0 0 0 0 0 0 0 0 0 0 0 0 0 0 0 0 0 0 0 0 0 0 0 0 0 2 1 5 5 5 5 5 2 1 5 4 4 "
          ],
          "name": "stdout"
        }
      ]
    },
    {
      "cell_type": "code",
      "metadata": {
        "colab": {
          "base_uri": "https://localhost:8080/"
        },
        "id": "5Lh_SPMTBK1-",
        "outputId": "f930219a-7484-4573-f403-f742416a6396"
      },
      "source": [
        "for i in y_test[21]:\n",
        "    print(np.argmax(i), end=\" \")"
      ],
      "execution_count": null,
      "outputs": [
        {
          "output_type": "stream",
          "text": [
            "0 0 0 0 0 0 0 0 0 0 0 0 0 0 0 0 0 0 0 0 0 0 0 0 0 0 0 0 0 0 0 0 0 0 0 0 0 0 0 0 0 0 0 0 0 0 0 0 0 0 0 0 0 0 0 0 0 0 0 0 0 0 0 0 0 0 0 0 0 0 0 0 0 0 0 0 0 0 0 0 0 0 0 0 0 0 0 0 0 0 0 0 0 0 0 0 0 0 0 0 0 2 1 5 2 2 5 1 2 5 5 4 4 "
          ],
          "name": "stdout"
        }
      ]
    },
    {
      "cell_type": "code",
      "metadata": {
        "id": "yLr0ut_VIbzr"
      },
      "source": [
        "prediction=[]\n",
        "for i in range(0,len(pred)):\n",
        "  for j in pred[i]:\n",
        "    prediction.append(np.argmax(j))\n",
        "\n",
        "test=[]\n",
        "for i in range(0,len(pred)):\n",
        "  for j in y_test[i]:\n",
        "    test.append(np.argmax(j))    "
      ],
      "execution_count": 60,
      "outputs": []
    },
    {
      "cell_type": "code",
      "metadata": {
        "id": "pupTyOFcIcB_"
      },
      "source": [
        "from sklearn.metrics import classification_report, confusion_matrix, plot_confusion_matrix"
      ],
      "execution_count": 61,
      "outputs": []
    },
    {
      "cell_type": "code",
      "metadata": {
        "colab": {
          "base_uri": "https://localhost:8080/"
        },
        "id": "v3BofDeXIcOp",
        "outputId": "fcfb6be0-1b1a-46ee-a530-18a687d47c21"
      },
      "source": [
        "print(confusion_matrix(test,prediction))"
      ],
      "execution_count": 62,
      "outputs": [
        {
          "output_type": "stream",
          "text": [
            "[[802187      0      0      0      0      0]\n",
            " [     0  12831    206   1105    146   1240]\n",
            " [     0    195  23934   1645    279    302]\n",
            " [     0    581   1565  47598    392   2592]\n",
            " [     0    188    373    284   6274    131]\n",
            " [     0   1006    432   5540    149  19041]]\n"
          ],
          "name": "stdout"
        }
      ]
    },
    {
      "cell_type": "code",
      "metadata": {
        "id": "j88H2pBcItqM"
      },
      "source": [
        "df=confusion_matrix(test,prediction)"
      ],
      "execution_count": 63,
      "outputs": []
    },
    {
      "cell_type": "code",
      "metadata": {
        "colab": {
          "base_uri": "https://localhost:8080/",
          "height": 603
        },
        "id": "OOHAGje0Itss",
        "outputId": "2c401271-932f-4b6f-8deb-5ab2668f9d03"
      },
      "source": [
        "import seaborn as sns\n",
        "df_cm = pd.DataFrame(df, range(6), range(6))\n",
        "plt.figure(figsize=(15,10))\n",
        "sns.set(font_scale=1.4) # for label size\n",
        "sns.heatmap(df_cm, annot=True, annot_kws={\"size\": 20}) # font size\n",
        "\n",
        "plt.show()"
      ],
      "execution_count": 64,
      "outputs": [
        {
          "output_type": "display_data",
          "data": {
            "image/png": "[encoded data removed]",
            "text/plain": [
              "<Figure size 1080x720 with 2 Axes>"
            ]
          },
          "metadata": {
            "tags": [],
            "needs_background": "light"
          }
        }
      ]
    },
    {
      "cell_type": "code",
      "metadata": {
        "id": "p--JHasZI-rQ"
      },
      "source": [
        "tag_idx={'_PAD_': 0, 'a': 2, 'n': 3, 'r': 4, 'u': 5, 'v': 1}"
      ],
      "execution_count": 67,
      "outputs": []
    },
    {
      "cell_type": "code",
      "metadata": {
        "colab": {
          "base_uri": "https://localhost:8080/"
        },
        "id": "6tvttcHQItwL",
        "outputId": "b3e1d1f9-357b-4981-d3b6-219b63216f47"
      },
      "source": [
        "print(classification_report(test,prediction,target_names=tag_idx))"
      ],
      "execution_count": 69,
      "outputs": [
        {
          "output_type": "stream",
          "text": [
            "              precision    recall  f1-score   support\n",
            "\n",
            "       _PAD_       1.00      1.00      1.00    802187\n",
            "           a       0.87      0.83      0.85     15528\n",
            "           n       0.90      0.91      0.91     26355\n",
            "           r       0.85      0.90      0.87     52728\n",
            "           u       0.87      0.87      0.87      7250\n",
            "           v       0.82      0.73      0.77     26168\n",
            "\n",
            "    accuracy                           0.98    930216\n",
            "   macro avg       0.88      0.87      0.88    930216\n",
            "weighted avg       0.98      0.98      0.98    930216\n",
            "\n"
          ],
          "name": "stdout"
        }
      ]
    },
    {
      "cell_type": "code",
      "metadata": {
        "id": "Adaue7DEBK4C"
      },
      "source": [
        "pred1=model.predict(X_train)"
      ],
      "execution_count": null,
      "outputs": []
    },
    {
      "cell_type": "code",
      "metadata": {
        "colab": {
          "base_uri": "https://localhost:8080/"
        },
        "id": "Zz0xVXfNBK8G",
        "outputId": "5694e6e7-7de4-4454-93ef-a4c32b354ff6"
      },
      "source": [
        "for i in pred1[50]:\n",
        "    print(np.argmax(i), end=\" \")"
      ],
      "execution_count": null,
      "outputs": [
        {
          "output_type": "stream",
          "text": [
            "0 0 0 0 0 0 0 0 0 0 0 0 0 0 0 0 0 0 0 0 0 0 0 0 0 0 0 0 0 0 0 0 0 0 0 0 0 0 0 0 0 0 0 0 0 0 0 0 0 0 0 0 0 0 0 0 0 0 0 0 0 0 0 0 0 0 0 0 0 0 0 0 0 0 0 0 0 0 0 0 1 2 5 2 5 2 4 5 2 5 5 5 2 1 5 5 5 1 1 4 2 2 1 5 2 1 2 1 1 1 4 1 5 "
          ],
          "name": "stdout"
        }
      ]
    },
    {
      "cell_type": "code",
      "metadata": {
        "colab": {
          "base_uri": "https://localhost:8080/"
        },
        "id": "ljU-Y0biBK-O",
        "outputId": "22fcc6c9-3fe1-4c34-b927-bd5c642728d4"
      },
      "source": [
        "for i in y_train[50]:\n",
        "    print(np.argmax(i), end=\" \")"
      ],
      "execution_count": null,
      "outputs": [
        {
          "output_type": "stream",
          "text": [
            "0 0 0 0 0 0 0 0 0 0 0 0 0 0 0 0 0 0 0 0 0 0 0 0 0 0 0 0 0 0 0 0 0 0 0 0 0 0 0 0 0 0 0 0 0 0 0 0 0 0 0 0 0 0 0 0 0 0 0 0 0 0 0 0 0 0 0 0 0 0 0 0 0 0 0 0 0 0 0 0 1 2 5 2 5 2 4 5 2 5 5 5 2 1 5 5 5 1 1 4 2 2 1 5 2 1 2 1 1 1 4 1 5 "
          ],
          "name": "stdout"
        }
      ]
    },
    {
      "cell_type": "code",
      "metadata": {
        "id": "KRVx0R1dBLC5"
      },
      "source": [
        "def preprocess_input_text(text, MAXLEN=MAX_LENGTH,word_index=word_index):\n",
        "    sentence = text.split(\" \")\n",
        "    sentence_numeric = []\n",
        "    for word in sentence:\n",
        "        try:\n",
        "            sentence_numeric.append(word_index[word])\n",
        "        except:\n",
        "            sentence_numeric.append(word_index[\"_OOV_\"])\n",
        "    sentence_numeric = pad_sequences([sentence_numeric], maxlen=MAXLEN, padding=\"pre\",truncating=\"post\")\n",
        "    return sentence_numeric.reshape((113,))"
      ],
      "execution_count": null,
      "outputs": []
    },
    {
      "cell_type": "code",
      "metadata": {
        "id": "r2EG3ElKBLE-"
      },
      "source": [
        "x = preprocess_input_text(\"एक ५०० मीटर लांबीची स्की लिफ्ट स्कीअर्सना उताराच्या माथ्यावर आणून सोडते . त्यामुळे एवढे अंतर परत चढण्याचा त्यांचा त्रास आणि वेळ त्यामुळे वाचतो . चढाई न झालेल्या ठिकाणांना भेटी देणे ज्यांना आवडते अशांना भारतातील पर्वतरांगांमधील श्वास रोखून धरायला लावणारे , उत्साहित करणारे मार्ग उपलब्ध आहेत . टरेकिंग एक खेळ असला तरी त्याला पूर्व प्रशिक्षण अथवा सरावाची गरज नसते. फक्त ट्रेकरची शारीरिक स्थिती उत्तम असावी . त्याशिवाय ट्रेकिंग करताना काही करायच्या आणि काही टाळायच्या गोष्टी असतात. त्यांचे त्याने पालन केले पाहिजे . पश्चिम किना~य़ावर मुंबई , गोवा आणि पुण्याच्या तलावांवर सेलिंग हा खेळ अनुभवता येतो . रिव्हर राफ्टिंगसाठी सर्वोत्तम काळ हा एप्रिल ते सप्टेंबर आहे\")"
      ],
      "execution_count": null,
      "outputs": []
    },
    {
      "cell_type": "code",
      "metadata": {
        "id": "Mx9bBhgzBc2q"
      },
      "source": [
        "x=x.reshape(1,MAX_LENGTH)"
      ],
      "execution_count": null,
      "outputs": []
    },
    {
      "cell_type": "code",
      "metadata": {
        "colab": {
          "base_uri": "https://localhost:8080/"
        },
        "id": "tXZ6riFVBc47",
        "outputId": "6c8db322-a092-4d14-95d3-1dfa2e2910be"
      },
      "source": [
        "pred2=model.predict(x)\n",
        "pred2.shape"
      ],
      "execution_count": null,
      "outputs": [
        {
          "output_type": "execute_result",
          "data": {
            "text/plain": [
              "(1, 113, 6)"
            ]
          },
          "metadata": {
            "tags": []
          },
          "execution_count": 145
        }
      ]
    },
    {
      "cell_type": "code",
      "metadata": {
        "colab": {
          "base_uri": "https://localhost:8080/"
        },
        "id": "p4XmUQCXBc8H",
        "outputId": "fccef2cf-f28c-4dc8-db4b-1554e4440a1a"
      },
      "source": [
        "for i in pred2[0]:\n",
        "    print(np.argmax(i), end=\" \")"
      ],
      "execution_count": null,
      "outputs": [
        {
          "output_type": "stream",
          "text": [
            "0 0 0 0 0 0 0 0 0 2 1 5 5 2 5 1 5 5 1 1 5 3 3 5 4 1 1 5 3 5 3 1 5 5 2 1 5 1 1 1 2 1 1 5 5 1 1 1 2 2 1 5 2 4 5 5 2 5 2 2 1 5 5 1 5 5 1 2 1 2 5 2 1 5 1 1 4 5 1 3 5 1 5 1 1 1 2 4 4 5 5 1 5 2 5 3 1 5 1 2 5 5 1 5 1 1 2 5 2 5 2 5 5 "
          ],
          "name": "stdout"
        }
      ]
    },
    {
      "cell_type": "code",
      "metadata": {
        "id": "K64u_nz5Bp2k"
      },
      "source": [
        "tag_index"
      ],
      "execution_count": 68,
      "outputs": []
    },
    {
      "cell_type": "code",
      "metadata": {
        "colab": {
          "base_uri": "https://localhost:8080/"
        },
        "id": "OnZxrnPUYx73",
        "outputId": "1d985ba7-4f4a-42f0-9cf3-a2252b4a55cb"
      },
      "source": [
        "model_json = model.to_json()\n",
        "with open(\"t0model.json\", \"w\") as json_file:\n",
        "    json_file.write(model_json)\n",
        "# serialize weights to HDF5\n",
        "model.save_weights(\"t0model.h5\")\n",
        "print(\"Saved model to disk\")"
      ],
      "execution_count": null,
      "outputs": [
        {
          "output_type": "stream",
          "text": [
            "Saved model to disk\n"
          ],
          "name": "stdout"
        }
      ]
    },
    {
      "cell_type": "code",
      "metadata": {
        "id": "jBy3jQmGBp8Q"
      },
      "source": [
        "import pickle"
      ],
      "execution_count": null,
      "outputs": []
    },
    {
      "cell_type": "code",
      "metadata": {
        "id": "V8Ld7L1mIRtK"
      },
      "source": [
        "pickle.dump(word_index, open(\"t0word_index.pkl\",\"wb\"))\n",
        "pickle.dump(tag_index, open(\"t0pos_index.pkl\", \"wb\"))"
      ],
      "execution_count": null,
      "outputs": []
    },
    {
      "cell_type": "code",
      "metadata": {
        "id": "EKcP-Q0jY_i3"
      },
      "source": [
        "from tensorflow.keras.models import model_from_json\n",
        "with open('t0model.json','r') as f:\n",
        "    json = f.read()\n",
        "model = model_from_json(json)\n",
        "#best m0del weight\n",
        "model.load_weights(\"t0model.h5\")"
      ],
      "execution_count": 2,
      "outputs": []
    }
  ]
}