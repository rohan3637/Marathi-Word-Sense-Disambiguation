{
  "nbformat": 4,
  "nbformat_minor": 0,
  "metadata": {
    "colab": {
      "name": "posHealth.ipynb",
      "provenance": [],
      "collapsed_sections": []
    },
    "kernelspec": {
      "name": "python3",
      "display_name": "Python 3"
    },
    "language_info": {
      "name": "python"
    }
  },
  "cells": [
    {
      "cell_type": "code",
      "metadata": {
        "id": "YLeem31-hO_j"
      },
      "source": [
        "import os\n",
        "import nltk\n",
        "import pandas as pd\n",
        "import numpy as np\n",
        "import matplotlib.pyplot as plt\n",
        "import seaborn as sns\n",
        "\n",
        "from tensorflow.keras.preprocessing.sequence import pad_sequences\n",
        "\n",
        "%matplotlib inline"
      ],
      "execution_count": 1,
      "outputs": []
    },
    {
      "cell_type": "code",
      "metadata": {
        "id": "dTaXQkJXkEYh",
        "colab": {
          "base_uri": "https://localhost:8080/"
        },
        "outputId": "8587a109-7a46-4b55-fee4-95d8703550d9"
      },
      "source": [
        "!unzip health.zip"
      ],
      "execution_count": 4,
      "outputs": [
        {
          "output_type": "stream",
          "text": [
            "Archive:  health.zip\n",
            "   creating: health/.ipynb_checkpoints/\n",
            "  inflating: health/1_marathilexnew.txt  \n",
            "   creating: health/3. MAR-HEALTH/\n",
            "   creating: health/3. MAR-HEALTH/MAR-HEALTH/\n",
            "  inflating: health/3. MAR-HEALTH/MAR-HEALTH/0003_mar_health.txt  \n",
            "  inflating: health/3. MAR-HEALTH/MAR-HEALTH/0004_mar_health.txt  \n",
            "  inflating: health/3. MAR-HEALTH/MAR-HEALTH/0005_mar_health.txt  \n",
            "  inflating: health/3. MAR-HEALTH/MAR-HEALTH/0009_mar_health.txt  \n",
            "  inflating: health/3. MAR-HEALTH/MAR-HEALTH/0010_mar_health.txt  \n",
            "  inflating: health/3. MAR-HEALTH/MAR-HEALTH/0013_mar_health.txt  \n",
            "  inflating: health/3. MAR-HEALTH/MAR-HEALTH/0014_mar_health.txt  \n",
            "  inflating: health/3. MAR-HEALTH/MAR-HEALTH/0015_mar_health.txt  \n",
            "  inflating: health/3. MAR-HEALTH/MAR-HEALTH/0019_mar_health.txt  \n",
            "  inflating: health/3. MAR-HEALTH/MAR-HEALTH/0020_mar_health.txt  \n",
            "  inflating: health/3. MAR-HEALTH/MAR-HEALTH/0023_mar_health.txt  \n",
            "  inflating: health/3. MAR-HEALTH/MAR-HEALTH/0024_mar_health.txt  \n",
            "  inflating: health/3. MAR-HEALTH/MAR-HEALTH/0025_mar_health.txt  \n",
            "  inflating: health/3. MAR-HEALTH/MAR-HEALTH/0029_mar_health.txt  \n",
            "  inflating: health/3. MAR-HEALTH/MAR-HEALTH/0030_mar_health.txt  \n",
            "  inflating: health/3. MAR-HEALTH/MAR-HEALTH/0033_mar_health.txt  \n",
            "  inflating: health/3. MAR-HEALTH/MAR-HEALTH/0034_mar_health.txt  \n",
            "  inflating: health/3. MAR-HEALTH/MAR-HEALTH/0035_mar_health.txt  \n",
            "  inflating: health/3. MAR-HEALTH/MAR-HEALTH/0039_mar_health.txt  \n",
            "  inflating: health/3. MAR-HEALTH/MAR-HEALTH/0040_mar_health.txt  \n",
            "  inflating: health/3. MAR-HEALTH/MAR-HEALTH/0043_mar_health.txt  \n",
            "  inflating: health/3. MAR-HEALTH/MAR-HEALTH/0044_mar_health.txt  \n",
            "  inflating: health/3. MAR-HEALTH/MAR-HEALTH/0045_mar_health.txt  \n",
            "  inflating: health/3. MAR-HEALTH/MAR-HEALTH/0049_mar_health.txt  \n",
            "  inflating: health/3. MAR-HEALTH/MAR-HEALTH/0050_mar_health.txt  \n",
            "  inflating: health/3. MAR-HEALTH/MAR-HEALTH/0053_mar_health.txt  \n",
            "  inflating: health/3. MAR-HEALTH/MAR-HEALTH/0054_mar_health.txt  \n",
            "  inflating: health/3. MAR-HEALTH/MAR-HEALTH/0055_mar_health.txt  \n",
            "  inflating: health/3. MAR-HEALTH/MAR-HEALTH/0059_mar_health.txt  \n",
            "  inflating: health/3. MAR-HEALTH/MAR-HEALTH/0060_mar_health.txt  \n",
            "  inflating: health/3. MAR-HEALTH/MAR-HEALTH/0061_mar_health.txt  \n",
            "  inflating: health/3. MAR-HEALTH/MAR-HEALTH/0064_mar_health.txt  \n",
            "  inflating: health/3. MAR-HEALTH/MAR-HEALTH/0065_mar_health.txt  \n",
            "  inflating: health/3. MAR-HEALTH/MAR-HEALTH/0066_mar_health.txt  \n",
            "  inflating: health/3. MAR-HEALTH/MAR-HEALTH/0070_mar_health.txt  \n",
            "  inflating: health/3. MAR-HEALTH/MAR-HEALTH/0071_mar_health.txt  \n",
            "  inflating: health/3. MAR-HEALTH/MAR-HEALTH/0074_mar_health.txt  \n",
            "  inflating: health/3. MAR-HEALTH/MAR-HEALTH/0075_mar_health.txt  \n",
            "  inflating: health/3. MAR-HEALTH/MAR-HEALTH/0076_mar_health.txt  \n",
            "  inflating: health/3. MAR-HEALTH/MAR-HEALTH/0080_mar_health.txt  \n",
            "  inflating: health/3. MAR-HEALTH/MAR-HEALTH/0081_mar_health.txt  \n",
            "  inflating: health/3. MAR-HEALTH/MAR-HEALTH/0084_mar_health.txt  \n",
            "  inflating: health/3. MAR-HEALTH/MAR-HEALTH/0085_mar_health.txt  \n",
            "  inflating: health/3. MAR-HEALTH/MAR-HEALTH/0086_mar_health.txt  \n",
            "  inflating: health/3. MAR-HEALTH/MAR-HEALTH/0090_mar_health.txt  \n",
            "  inflating: health/3. MAR-HEALTH/MAR-HEALTH/0093_mar_health.txt  \n",
            "  inflating: health/3. MAR-HEALTH/MAR-HEALTH/0094_mar_health.txt  \n",
            "  inflating: health/3. MAR-HEALTH/MAR-HEALTH/0095_mar_health.txt  \n",
            "  inflating: health/3. MAR-HEALTH/MAR-HEALTH/0099_mar_health.txt  \n",
            "  inflating: health/3. MAR-HEALTH/MAR-HEALTH/0100_mar_health.txt  \n",
            "  inflating: health/3. MAR-HEALTH/MAR-HEALTH/0103_mar_health.txt  \n",
            "  inflating: health/3. MAR-HEALTH/MAR-HEALTH/0104_mar_health.txt  \n",
            "  inflating: health/3. MAR-HEALTH/MAR-HEALTH/0105_mar_health.txt  \n",
            "  inflating: health/3. MAR-HEALTH/MAR-HEALTH/0113_mar_health.txt  \n",
            "  inflating: health/3. MAR-HEALTH/MAR-HEALTH/0114_mar_health.txt  \n",
            "  inflating: health/3. MAR-HEALTH/MAR-HEALTH/0115_mar_health.txt  \n",
            "  inflating: health/3. MAR-HEALTH/MAR-HEALTH/0119_mar_health.txt  \n",
            "  inflating: health/3. MAR-HEALTH/MAR-HEALTH/0120_mar_health.txt  \n",
            "  inflating: health/3. MAR-HEALTH/MAR-HEALTH/0123_mar_health.txt  \n",
            "  inflating: health/3. MAR-HEALTH/MAR-HEALTH/0124_mar_health.txt  \n",
            "  inflating: health/3. MAR-HEALTH/MAR-HEALTH/0125_mar_health.txt  \n",
            "  inflating: health/3. MAR-HEALTH/MAR-HEALTH/0129_mar_health.txt  \n",
            "  inflating: health/3. MAR-HEALTH/MAR-HEALTH/0130_mar_health.txt  \n",
            "  inflating: health/3. MAR-HEALTH/MAR-HEALTH/0135_mar_health.txt  \n",
            "  inflating: health/3. MAR-HEALTH/MAR-HEALTH/0139_mar_health.txt  \n",
            "  inflating: health/3. MAR-HEALTH/MAR-HEALTH/0143_mar_health.txt  \n",
            "  inflating: health/3. MAR-HEALTH/MAR-HEALTH/0144_mar_health.txt  \n",
            "  inflating: health/3. MAR-HEALTH/MAR-HEALTH/0145_mar_health.txt  \n",
            "  inflating: health/3. MAR-HEALTH/MAR-HEALTH/0150_mar_health.txt  \n",
            "   creating: health/Health Domain (Training & Testing)/\n",
            "   creating: health/Health Domain (Training & Testing)/Health Testing/\n",
            "  inflating: health/Health Domain (Training & Testing)/Health Testing/Testing_extra_mar_health_set1.txt  \n",
            "  inflating: health/Health Domain (Training & Testing)/Health Testing/Testing_extra_mar_health_set2.txt  \n",
            "  inflating: health/Health Domain (Training & Testing)/Health Testing/Testing_mar_health_set01.txt  \n",
            "  inflating: health/Health Domain (Training & Testing)/Health Testing/Testing_mar_health_set02.txt  \n",
            "  inflating: health/Health Domain (Training & Testing)/Health Testing/Testing_mar_health_set03.txt  \n",
            "  inflating: health/Health Domain (Training & Testing)/Health Testing/Testing_mar_health_set04.txt  \n",
            "  inflating: health/Health Domain (Training & Testing)/Health Testing/Testing_mar_health_set05.txt  \n",
            "  inflating: health/Health Domain (Training & Testing)/Health Testing/Testing_mar_health_set06.txt  \n",
            "  inflating: health/Health Domain (Training & Testing)/Health Testing/Testing_mar_health_set07.txt  \n",
            "  inflating: health/Health Domain (Training & Testing)/Health Testing/Testing_mar_health_set08.txt  \n",
            "  inflating: health/Health Domain (Training & Testing)/Health Testing/Testing_mar_health_set09.txt  \n",
            "  inflating: health/Health Domain (Training & Testing)/Health Testing/Testing_mar_health_set10.txt  \n",
            "  inflating: health/Health Domain (Training & Testing)/Health Testing/Testing_mar_health_set11.txt  \n",
            "  inflating: health/Health Domain (Training & Testing)/Health Testing/Testing_mar_health_set12.txt  \n",
            "  inflating: health/Health Domain (Training & Testing)/Health Testing/Testing_mar_health_set13.txt  \n",
            "  inflating: health/Health Domain (Training & Testing)/Health Testing/Testing_mar_health_set14.txt  \n",
            "  inflating: health/Health Domain (Training & Testing)/Health Testing/Testing_mar_health_set15.txt  \n",
            "  inflating: health/Health Domain (Training & Testing)/Health Testing/Testing_mar_health_set16.txt  \n",
            "  inflating: health/Health Domain (Training & Testing)/Health Testing/Testing_mar_health_set17.txt  \n",
            "  inflating: health/Health Domain (Training & Testing)/Health Testing/Testing_mar_health_set18.txt  \n",
            "  inflating: health/Health Domain (Training & Testing)/Health Testing/Testing_mar_health_set19.txt  \n",
            "  inflating: health/Health Domain (Training & Testing)/Health Testing/Testing_mar_health_set20.txt  \n",
            "  inflating: health/Health Domain (Training & Testing)/Health Testing/Testing_mar_health_set21.txt  \n",
            "  inflating: health/Health Domain (Training & Testing)/Health Testing/Testing_mar_health_set22.txt  \n",
            "  inflating: health/Health Domain (Training & Testing)/Health Testing/Testing_mar_health_set23.txt  \n",
            "  inflating: health/Health Domain (Training & Testing)/Health Testing/Testing_mar_health_set24.txt  \n",
            "  inflating: health/Health Domain (Training & Testing)/Health Testing/Testing_mar_health_set25.txt  \n",
            "   creating: health/Health Domain (Training & Testing)/Health Training/\n",
            "  inflating: health/Health Domain (Training & Testing)/Health Training/extra_mar_health_set1.txt  \n",
            "  inflating: health/Health Domain (Training & Testing)/Health Training/extra_mar_health_set2.txt  \n",
            "  inflating: health/Health Domain (Training & Testing)/Health Training/mar_health_set01.txt  \n",
            "  inflating: health/Health Domain (Training & Testing)/Health Training/mar_health_set02.txt  \n",
            "  inflating: health/Health Domain (Training & Testing)/Health Training/mar_health_set03.txt  \n",
            "  inflating: health/Health Domain (Training & Testing)/Health Training/mar_health_set04.txt  \n",
            "  inflating: health/Health Domain (Training & Testing)/Health Training/mar_health_set05.txt  \n",
            "  inflating: health/Health Domain (Training & Testing)/Health Training/mar_health_set06.txt  \n",
            "  inflating: health/Health Domain (Training & Testing)/Health Training/mar_health_set07.txt  \n",
            "  inflating: health/Health Domain (Training & Testing)/Health Training/mar_health_set08.txt  \n",
            "  inflating: health/Health Domain (Training & Testing)/Health Training/mar_health_set09.txt  \n",
            "  inflating: health/Health Domain (Training & Testing)/Health Training/mar_health_set10.txt  \n",
            "  inflating: health/Health Domain (Training & Testing)/Health Training/mar_health_set11.txt  \n",
            "  inflating: health/Health Domain (Training & Testing)/Health Training/mar_health_set12.txt  \n",
            "  inflating: health/Health Domain (Training & Testing)/Health Training/mar_health_set13.txt  \n",
            "  inflating: health/Health Domain (Training & Testing)/Health Training/mar_health_set14.txt  \n",
            "  inflating: health/Health Domain (Training & Testing)/Health Training/mar_health_set15.txt  \n",
            "  inflating: health/Health Domain (Training & Testing)/Health Training/mar_health_set16.txt  \n",
            "  inflating: health/Health Domain (Training & Testing)/Health Training/mar_health_set17.txt  \n",
            "  inflating: health/Health Domain (Training & Testing)/Health Training/mar_health_set18.txt  \n",
            "  inflating: health/Health Domain (Training & Testing)/Health Training/mar_health_set19.txt  \n",
            "  inflating: health/Health Domain (Training & Testing)/Health Training/mar_health_set20.txt  \n",
            "  inflating: health/Health Domain (Training & Testing)/Health Training/mar_health_set21.txt  \n",
            "  inflating: health/Health Domain (Training & Testing)/Health Training/mar_health_set22.txt  \n",
            "  inflating: health/Health Domain (Training & Testing)/Health Training/mar_health_set23.txt  \n",
            "  inflating: health/Health Domain (Training & Testing)/Health Training/mar_health_set24.txt  \n",
            "  inflating: health/Health Domain (Training & Testing)/Health Training/mar_health_set25.txt  \n",
            "   creating: health/Marathi Health Domain/\n",
            "   creating: health/Marathi Health Domain/Marathi Health Domain/\n",
            "  inflating: health/Marathi Health Domain/Marathi Health Domain/0003_mar_health.txt  \n",
            "  inflating: health/Marathi Health Domain/Marathi Health Domain/0004_mar_health.txt  \n",
            "  inflating: health/Marathi Health Domain/Marathi Health Domain/0005_mar_health.txt  \n",
            "  inflating: health/Marathi Health Domain/Marathi Health Domain/0009_mar_health.txt  \n",
            "  inflating: health/Marathi Health Domain/Marathi Health Domain/0010_mar_health.txt  \n",
            "  inflating: health/Marathi Health Domain/Marathi Health Domain/0013_mar_health.txt  \n",
            "  inflating: health/Marathi Health Domain/Marathi Health Domain/0014_mar_health.txt  \n",
            "  inflating: health/Marathi Health Domain/Marathi Health Domain/0015_mar_health.txt  \n",
            "  inflating: health/Marathi Health Domain/Marathi Health Domain/0019_mar_health.txt  \n",
            "  inflating: health/Marathi Health Domain/Marathi Health Domain/0020_mar_health.txt  \n",
            "  inflating: health/Marathi Health Domain/Marathi Health Domain/0023_mar_health.txt  \n",
            "  inflating: health/Marathi Health Domain/Marathi Health Domain/0024_mar_health.txt  \n",
            "  inflating: health/Marathi Health Domain/Marathi Health Domain/0025_mar_health.txt  \n",
            "  inflating: health/Marathi Health Domain/Marathi Health Domain/0029_mar_health.txt  \n",
            "  inflating: health/Marathi Health Domain/Marathi Health Domain/0030_mar_health.txt  \n",
            "  inflating: health/Marathi Health Domain/Marathi Health Domain/0033_mar_health.txt  \n",
            "  inflating: health/Marathi Health Domain/Marathi Health Domain/0034_mar_health.txt  \n",
            "  inflating: health/Marathi Health Domain/Marathi Health Domain/0035_mar_health.txt  \n",
            "  inflating: health/Marathi Health Domain/Marathi Health Domain/0039_mar_health.txt  \n",
            "  inflating: health/Marathi Health Domain/Marathi Health Domain/0040_mar_health.txt  \n",
            "  inflating: health/Marathi Health Domain/Marathi Health Domain/0043_mar_health.txt  \n",
            "  inflating: health/Marathi Health Domain/Marathi Health Domain/0044_mar_health.txt  \n",
            "  inflating: health/Marathi Health Domain/Marathi Health Domain/0045_mar_health.txt  \n",
            "  inflating: health/Marathi Health Domain/Marathi Health Domain/0049_mar_health.txt  \n",
            "  inflating: health/Marathi Health Domain/Marathi Health Domain/0050_mar_health.txt  \n",
            "  inflating: health/Marathi Health Domain/Marathi Health Domain/0053_mar_health.txt  \n",
            "  inflating: health/Marathi Health Domain/Marathi Health Domain/0054_mar_health.txt  \n",
            "  inflating: health/Marathi Health Domain/Marathi Health Domain/0055_mar_health.txt  \n",
            "  inflating: health/Marathi Health Domain/Marathi Health Domain/0059_mar_health.txt  \n",
            "  inflating: health/Marathi Health Domain/Marathi Health Domain/0060_mar_health.txt  \n",
            "  inflating: health/Marathi Health Domain/Marathi Health Domain/0061_mar_health.txt  \n",
            "  inflating: health/Marathi Health Domain/Marathi Health Domain/0064_mar_health.txt  \n",
            "  inflating: health/Marathi Health Domain/Marathi Health Domain/0065_mar_health.txt  \n",
            "  inflating: health/Marathi Health Domain/Marathi Health Domain/0066_mar_health.txt  \n",
            "  inflating: health/Marathi Health Domain/Marathi Health Domain/0070_mar_health.txt  \n",
            "  inflating: health/Marathi Health Domain/Marathi Health Domain/0071_mar_health.txt  \n",
            "  inflating: health/Marathi Health Domain/Marathi Health Domain/0074_mar_health.txt  \n",
            "  inflating: health/Marathi Health Domain/Marathi Health Domain/0075_mar_health.txt  \n",
            "  inflating: health/Marathi Health Domain/Marathi Health Domain/0076_mar_health.txt  \n",
            "  inflating: health/Marathi Health Domain/Marathi Health Domain/0080_mar_health.txt  \n",
            "  inflating: health/Marathi Health Domain/Marathi Health Domain/0081_mar_health.txt  \n",
            "  inflating: health/Marathi Health Domain/Marathi Health Domain/0084_mar_health.txt  \n",
            "  inflating: health/Marathi Health Domain/Marathi Health Domain/0085_mar_health.txt  \n",
            "  inflating: health/Marathi Health Domain/Marathi Health Domain/0086_mar_health.txt  \n",
            "  inflating: health/Marathi Health Domain/Marathi Health Domain/0090_mar_health.txt  \n",
            "  inflating: health/Marathi Health Domain/Marathi Health Domain/0093_mar_health.txt  \n",
            "  inflating: health/Marathi Health Domain/Marathi Health Domain/0094_mar_health.txt  \n",
            "  inflating: health/Marathi Health Domain/Marathi Health Domain/0095_mar_health.txt  \n",
            "  inflating: health/Marathi Health Domain/Marathi Health Domain/0099_mar_health.txt  \n",
            "  inflating: health/Marathi Health Domain/Marathi Health Domain/0100_mar_health.txt  \n",
            "  inflating: health/Marathi Health Domain/Marathi Health Domain/0103_mar_health.txt  \n",
            "  inflating: health/Marathi Health Domain/Marathi Health Domain/0104_mar_health.txt  \n",
            "  inflating: health/Marathi Health Domain/Marathi Health Domain/0105_mar_health.txt  \n",
            "  inflating: health/Marathi Health Domain/Marathi Health Domain/0113_mar_health.txt  \n",
            "  inflating: health/Marathi Health Domain/Marathi Health Domain/0114_mar_health.txt  \n",
            "  inflating: health/Marathi Health Domain/Marathi Health Domain/0115_mar_health.txt  \n",
            "  inflating: health/Marathi Health Domain/Marathi Health Domain/0119_mar_health.txt  \n",
            "  inflating: health/Marathi Health Domain/Marathi Health Domain/0120_mar_health.txt  \n",
            "  inflating: health/Marathi Health Domain/Marathi Health Domain/0123_mar_health.txt  \n",
            "  inflating: health/Marathi Health Domain/Marathi Health Domain/0124_mar_health.txt  \n",
            "  inflating: health/Marathi Health Domain/Marathi Health Domain/0125_mar_health.txt  \n",
            "  inflating: health/Marathi Health Domain/Marathi Health Domain/0129_mar_health.txt  \n",
            "  inflating: health/Marathi Health Domain/Marathi Health Domain/0130_mar_health.txt  \n",
            "  inflating: health/Marathi Health Domain/Marathi Health Domain/0135_mar_health.txt  \n",
            "  inflating: health/Marathi Health Domain/Marathi Health Domain/0139_mar_health.txt  \n",
            "  inflating: health/Marathi Health Domain/Marathi Health Domain/0143_mar_health.txt  \n",
            "  inflating: health/Marathi Health Domain/Marathi Health Domain/0144_mar_health.txt  \n",
            "  inflating: health/Marathi Health Domain/Marathi Health Domain/0145_mar_health.txt  \n",
            "  inflating: health/Marathi Health Domain/Marathi Health Domain/0150_mar_health.txt  \n"
          ],
          "name": "stdout"
        }
      ]
    },
    {
      "cell_type": "code",
      "metadata": {
        "id": "AeXevKYDkwU6"
      },
      "source": [
        "FILES_PATH1 = \"/content/health/3. MAR-HEALTH/MAR-HEALTH\"\n",
        "FILES_PATH2 = \"/content/health/Marathi Health Domain/Marathi Health Domain\"\n",
        "FILES_PATH3 = \"/content/health/Health Domain (Training & Testing)/Health Training\"\n",
        "FILES_PATH4 = \"/content/health/Health Domain (Training & Testing)/Health Testing\""
      ],
      "execution_count": 6,
      "outputs": []
    },
    {
      "cell_type": "code",
      "metadata": {
        "id": "Pmu4bmpbkEeT"
      },
      "source": [
        "all_lines0 = []\n",
        "for i in os.listdir(FILES_PATH3):\n",
        "    if i!=\".ipynb_checkpoints\":\n",
        "        text_file = open(os.path.join(FILES_PATH3, i), \"r\", encoding=\"utf-8-sig\")\n",
        "        content = text_file.read()\n",
        "        content = content.split(\"\\n\")\n",
        "        lines = []\n",
        "        for i in content:\n",
        "            lines.append(i.split(\" \"))\n",
        "        line_words = []\n",
        "        for i in lines:\n",
        "            words = []\n",
        "            cleaned_words=[]\n",
        "            for j in i:\n",
        "                if \"\\\\\" in j:\n",
        "                    words.append(j.split(\"\\\\\"))\n",
        "            all_lines0.append(words)\n",
        "\n",
        "for i in os.listdir(FILES_PATH4):\n",
        "    if i!=\".ipynb_checkpoints\":\n",
        "        text_file = open(os.path.join(FILES_PATH4, i), \"r\", encoding=\"utf-8-sig\")\n",
        "        content = text_file.read()\n",
        "        content = content.split(\"\\n\")\n",
        "        lines = []\n",
        "        for i in content:\n",
        "            lines.append(i.split(\" \"))\n",
        "        line_words = []\n",
        "        for i in lines:\n",
        "            words = []\n",
        "            cleaned_words=[]\n",
        "            for j in i:\n",
        "                if \"\\\\\" in j:\n",
        "                    words.append(j.split(\"\\\\\"))\n",
        "            all_lines0.append(words)            "
      ],
      "execution_count": 7,
      "outputs": []
    },
    {
      "cell_type": "code",
      "metadata": {
        "id": "PB81jUU0nXBB"
      },
      "source": [
        "for i in range(len(all_lines0)):\n",
        "    for j in range(len(all_lines0[i])):\n",
        "        if j==0:\n",
        "            if len(all_lines0[i][j][0].split(\"\\t\"))==2:\n",
        "                 all_lines0[i][j][0]=all_lines0[i][j][0].split(\"\\t\")[1]"
      ],
      "execution_count": 8,
      "outputs": []
    },
    {
      "cell_type": "code",
      "metadata": {
        "colab": {
          "base_uri": "https://localhost:8080/"
        },
        "id": "GcT_TYKGOqT7",
        "outputId": "1a4e67b0-5b0c-4d8d-b4e0-62a2853384f2"
      },
      "source": [
        "all_lines0[20770]"
      ],
      "execution_count": 9,
      "outputs": [
        {
          "output_type": "execute_result",
          "data": {
            "text/plain": [
              "[['हीच', 'DM_DMR'],\n",
              " ['त्याची', 'PR_PRP'],\n",
              " ['चालण्याची', 'V_VM'],\n",
              " ['सुरवात', 'N_NN'],\n",
              " ['असते.', 'V_VM']]"
            ]
          },
          "metadata": {
            "tags": []
          },
          "execution_count": 9
        }
      ]
    },
    {
      "cell_type": "code",
      "metadata": {
        "colab": {
          "base_uri": "https://localhost:8080/"
        },
        "id": "PzhyonXJNEIi",
        "outputId": "ca9247e5-d107-49ee-c69d-ba214069340d"
      },
      "source": [
        "for i in range(len(all_lines0)):\n",
        "    for j in range(len(all_lines0[i])):\n",
        "      if len(all_lines0[i][j])!=2:\n",
        "        all_lines0[i][j].remove(all_lines0[i][j][2])\n",
        "        print(all_lines0[i][j])"
      ],
      "execution_count": 10,
      "outputs": [
        {
          "output_type": "stream",
          "text": [
            "['ल्यूटिन', 'N_NNP,']\n",
            "['शरीर', 'N_NN,']\n",
            "['नव्हता', 'V_VUAX.']\n",
            "['रंग', 'N_NN,']\n",
            "['सुगंध', 'N_NN,']\n",
            "['तक्ता', 'N_NN,']\n",
            "['', 'संप्रेरक']\n",
            "['', 'मन']\n",
            "['दिसते', 'V_VAM.']\n",
            "['टाकून', 'N_NN,']\n",
            "['शकतात', 'V_VAX.']\n",
            "['जाते', 'V_VM']\n",
            "['सायकल', 'N_NN,']\n",
            "['परित्याग', 'N_NN', 'N_NN']\n",
            "['लागणे', 'V_VM,']\n",
            "['कार्यकर्त्यांची', 'PR_PRP']\n",
            "['दुरुस्ती', 'N_NN', 'N_NN']\n",
            "['शक्ती', 'N_NNचक्राच्या']\n",
            "['(', 'RD_SYMकरा', 'RD_SYM,', 'RD_PUNC']\n",
            "['साफ', 'JJ,']\n",
            "['करा', 'V_VM,']\n",
            "['साफ', 'JJ,']\n",
            "['लेप', 'N_NN', 'N_NN']\n",
            "['होतो', 'V_VM,']\n",
            "['.', 'RD_PUNC']\n",
            "['एक', 'QT_QTC-दोन']\n",
            "['(', 'RD_SYMकीडा', 'RD_SYM']\n",
            "['टाकतात', 'V_VM,']\n",
            "['लावतात', 'V_VM,']\n",
            "['उगवू', 'V_VM', 'V_VM']\n",
            "['तर', 'CC_CCS,']\n",
            "['४', 'QT_QTC-५']\n",
            "['``बातमीनुसार', 'N_NN,']\n",
            "['तरी', 'CC_CCS,']\n",
            "['असला', 'V_VM,']\n",
            "['वृद्ध', 'N_NN,']\n",
            "['मुले', 'N_NN,']\n",
            "['`', 'RD_PUNCसूत्रस्थानाचे']\n",
            "['१', 'QT_QTC.']\n",
            "['(', 'RD_SYMवात']\n",
            "['कफ', 'N_NN)']\n",
            "['आहे', 'V_VM,']\n",
            "['(', 'RD_SYMसूक्ष्मजंतू', 'RD_SYM']\n",
            "['आहे', 'V_VM,']\n",
            "['जाणतो', 'V_VM,']\n",
            "['सात्विक', 'JJ,']\n",
            "['तामसिक', 'JJ,']\n",
            "['प्रवृत्ति', 'N_NN,']\n",
            "['क्षमता', 'N_NN,']\n",
            "['विविधता', 'N_NN,']\n",
            "['सात्विक', 'JJ,']\n",
            "['होते', 'V_VM,']\n",
            "['इच्छा', 'N_NN,']\n",
            "['आहे', 'V_VM,']\n",
            "['बिघडते', 'V_VM,']\n",
            "['मिळते', 'V_VM,']\n",
            "['संहिताच्या', 'N_NN’']\n",
            "['नुसार', 'PSP,']\n",
            "['अवस्थामध्ये', 'N_NN,']\n",
            "['मन', 'N_NN,']\n",
            "['बुद्धी', 'N_NN,']\n",
            "['स्मृती', 'N_NN,']\n",
            "['अनुभूती', 'N_NN,']\n",
            "['भक्ती', 'N_NN,']\n",
            "['शील', 'N_NN,']\n",
            "['(', 'RD_SYMगतिविधी', 'RD_SYM']\n",
            "['``````शरीर', 'N_NN,']\n",
            "['होते', 'V_VM,']\n",
            "['`', 'RD_PUNCउत्साही']\n",
            "['``डॉ.', 'N_NN']\n",
            "['अनुकूल', 'JJ,']\n",
            "['ठेवणे', 'V_VM,']\n",
            "['एक', 'QT_QTC']\n",
            "['मिळते', 'V_VM,']\n",
            "['कामवासना', 'N_NN,']\n",
            "['क्रोध', 'N_NN,']\n",
            "['लोभ', 'N_NN,']\n",
            "['मोह', 'N_NN,']\n",
            "['द्वेष', 'N_NN,']\n",
            "['मद', 'N_NN,']\n",
            "['शोक', 'N_NN,']\n",
            "['चिंता', 'N_NN,']\n",
            "['भावना', 'N_NN,']\n",
            "['भय', 'N_NN,']\n",
            "['(', 'RD_SYMसायकोसिस', 'RD_SYM,', 'RD_PUNC']\n",
            "['(', 'RD_SYMफफरे', 'RD_SYM']\n",
            "['आजार', 'N_NN,']\n",
            "['म्हणतात', 'V_VM,']\n",
            "['``त्याच्यानुसार', 'DM,']\n",
            "['इत्यादी', 'JJ.']\n",
            "['होती', 'V_VAUX,']\n",
            "['आहेत', 'V_VAUX,']\n",
            "['शकतात', 'V_VAUX,']\n",
            "['Hernia', 'RD_RDF)']\n",
            "['करणारा', 'V_VM,']\n",
            "['(', 'RD_SYMUmbilical']\n",
            "['Hernia', 'RD_RDF)']\n",
            "['Hernia', 'RD_RDF)']\n",
            "['अंतर्गल', 'N_NN:']\n",
            "['म्हणजे', 'CC_CCD,']\n",
            "['छिद्र', 'N_NN,']\n",
            "['असते', 'V_VM,']\n",
            "['नाही', 'V_VAUX,']\n",
            "['अंतर्गल', 'N_NN,']\n",
            "['नाहीत', 'V_VAUX,']\n",
            "['``परिणामी', 'RB,']\n",
            "['लहान', 'JJ-मोठ्या']\n",
            "['जातो', 'V_VAUX,']\n",
            "['कारणांमुळे', 'N_NN,']\n",
            "['वयानुसार', 'N_NN,']\n",
            "['परिणामस्वरूप', 'N_NN', 'RD_PUNC']\n",
            "['खेचल्याने', 'V_VM,']\n",
            "['करणे', 'V_VM,']\n",
            "['वृद्धी', 'N_NN,']\n",
            "['होणे', 'V_VM,']\n",
            "['होतो', 'V_VM,']\n",
            "['उचलण्याने', 'V_VM,']\n",
            "['लक्षण', 'N_NN,']\n",
            "['(', 'RD_SYMग्रांइन', 'RD_SYM']\n",
            "['आहे', 'V_VM,']\n",
            "['(', 'RD_SYMहाइड्रोसिलच्या', 'RD_SYM']\n",
            "['दोन', 'QT_QTC-तीन']\n",
            "['पद्धतीनुसार', 'N_NN,']\n",
            "['(', 'RD_SYMलेन्स']\n",
            "['नळीच्या', 'N_NN)']\n",
            "['``हो', 'N_NN,']\n",
            "['लहान', 'JJ-मोठे']\n",
            "['संसर्ग', 'N_NN,']\n",
            "['करते', 'V_VM,']\n",
            "['सांगितले', 'V_VM,']\n",
            "['`', 'RD_PUNCस्वतः']\n",
            "['होते', 'V_VM,']\n",
            "['शिरांमध्ये', 'N_NN,']\n",
            "['नेफ्रोसिस', 'N_NN(', 'N_NN)', 'RD_SYM']\n",
            "['वाढेल', 'V_VM,']\n",
            "['तर', 'CC_CCS,']\n",
            "['आहोत', 'V_VM,']\n",
            "['आहेत', 'V_VAUX,']\n",
            "['`', 'RD_PUNCब्राउन']\n",
            "['ब्रेडचा', 'N_NN’']\n",
            "['(', 'RD_SYMब्राउन']\n",
            "['तुकडा', 'N_NN)', 'RD_PUNC``']\n",
            "['तर', 'CC_CCS,']\n",
            "['``कोला', 'N_NN,']\n",
            "['ब्लॅक', 'JJ(', 'JJ)', 'RD_SYM']\n",
            "['(', 'RD_SYMऑरेंज']\n",
            "['ज्यूस', 'N_NN)']\n",
            "['``पूरी', 'N_NN,']\n",
            "['फुलके', 'N_NN,']\n",
            "['चपाती', 'N_NN,']\n",
            "['समोसा', 'N_NN,']\n",
            "['असते', 'V_VM,']\n",
            "['तरी', 'CC_CCS,']\n",
            "['``बिर्याणी', 'N_NN,']\n",
            "['राइस', 'N_NN,']\n",
            "['बघा', 'V_VM,']\n",
            "['एक', 'QT_QTC-एक']\n",
            "['(', 'RD_SYMपॉवर']\n",
            "['योगा', 'N_NN)']\n",
            "['फलंदाजी', 'N_NN,']\n",
            "['चढा', 'V_VM-उतरा']\n",
            "['(', 'RD_SYMपरीघ']\n",
            "['प्रशिक्षण', 'N_NN)']\n",
            "['(', 'RD_SYMइलिप्टिकल']\n",
            "['ट्रेनर', 'N_NN,']\n",
            "['रोइंग', 'N_NN,']\n",
            "['मशीन', 'N_NN,']\n",
            "['स्पिनर', 'N_NN)', 'RD_PUNC``']\n",
            "['(', 'RD_SYMपॉवर']\n",
            "['योगा', 'N_NN)']\n",
            "['नाही', 'V_VM,']\n",
            "['वृद्धांना', 'N_NN,']\n",
            "['(', 'RD_SYMमूत्रात']\n",
            "['आढळणे', 'V_VM)']\n",
            "['असते', 'V_VM,']\n",
            "['``मधुमेहामध्ये', 'N_NN,']\n",
            "['वाढते', 'V_VM,']\n",
            "['’', 'RD_PUNCजुवेनाइल']\n",
            "['मधुमेह', 'N_NN’']\n",
            "['असते', 'V_VM,']\n",
            "['असते', 'V_VM,']\n",
            "['होतो', 'V_VM,']\n",
            "['करणे', 'V_VM,']\n",
            "['पिणे', 'V_VM,']\n",
            "['सूकणे', 'V_VM,']\n",
            "['येणे', 'V_VM,']\n",
            "['(', 'RD_SYMफास्टिंग']\n",
            "['शुगर', 'N_NN)']\n",
            "['(', 'RD_SYM१२६']\n",
            "['एमजी', 'N_NN']\n",
            "['जास्तच्या', 'QT_QTF)']\n",
            "['आई', 'N_NN-वडिलांसाठी']\n",
            "['शकते', 'V_VAUX,']\n",
            "['स्थितीमध्ये', 'N_NN,']\n",
            "['समजा', 'V_VM,']\n",
            "['.', 'RD_PUNC', 'DM_DMR']\n",
            "['द्या', 'V_VM,']\n",
            "['कार्बोहाइड्रेट्स', 'N_NN,']\n",
            "['मेद', 'N_NN,']\n",
            "['आणा', 'V_VM,']\n",
            "['द्या', 'V_VM,']\n",
            "['आहे', 'V_VAUX,']\n",
            "['पाहिजे', 'V_VAUX,']\n",
            "['त्रास', 'N_NN,']\n",
            "['दिला', 'V_VM,']\n",
            "['झाले', 'V_VM,']\n",
            "['घेणे', 'V_VM']\n",
            "['वाढते', 'V_VM,']\n",
            "['१०', 'QT_QTC-१२']\n",
            "['होते', 'V_VM,']\n",
            "['कालवा', 'N_NN,']\n",
            "['लहान', 'JJ-लहान']\n",
            "['लहान', 'JJ-लहान']\n",
            "['थकवा', 'N_NN,']\n",
            "['(', 'RD_SYMसुगंधी']\n",
            "['रंगाचा', 'N_NN)', 'RD_PUNC']\n",
            "['उन्ह', 'N_NN,']\n",
            "['ह्यांना', 'PR_PRP']\n",
            "['माइग्रेनची', 'N_NN', 'N_NN']\n",
            "['पसरणे', 'V_VM,']\n",
            "['२५', 'QT_QTC-५५']\n",
            "['असेल', 'V_VAUX,']\n",
            "['एक्यूट', 'N_NN’']\n",
            "['चिकित्सा', 'N_NN', 'N_NN']\n",
            "['`', 'RD_PUNCमाईग्रेन']\n",
            "['औरा', 'N_NN`']\n",
            "['`', 'RD_PUNCमाईग्रेन']\n",
            "['औरा', 'N_NN`']\n",
            "['भाज्या', 'N_NN,']\n",
            "['नट्स', 'N_NN,']\n",
            "['बिया', 'N_NN,']\n",
            "['धान्ये', 'N_NN,']\n",
            "['ठेवले', 'V_VM,']\n",
            "['होतो', 'V_VM,']\n",
            "['होतो', 'V_VM,']\n",
            "['असेल', 'V_VM,']\n",
            "['आहोत', 'V_VM,']\n",
            "['जठरत्रिदाह', 'N_NN(', 'JJ']\n",
            "['गैस्ट्रोएंट्राइट्समध्ये', 'N_NN)']\n",
            "['डोकेदुखी', 'N_NN,']\n",
            "['(', 'RD_SYMविषाणू']\n",
            "['संसर्गदोषाच्या', 'N_NN)']\n",
            "['``गैस्ट्रोएंट्राइट्स', 'N_NN', 'N_NN']\n",
            "['आहे', 'V_VM,']\n",
            "['.', 'RD_PUNC', 'PR_PRP']\n",
            "['गैस्ट्रोएंट्राइट्स', 'N_NN', 'N_NN']\n",
            "[',', 'RD_PUNCथियामीन']\n",
            "['(', 'RD_SYMलंग्स', 'RD_SYM']\n",
            "['करते', 'V_VM', 'N_NN']\n",
            "['अकार्बनी', 'JJ', 'JJ']\n",
            "['अॅसिड', 'N_NN,']\n",
            "['अॅसिड', 'N_NN,']\n",
            "['नक्की', 'RB', 'RB']\n",
            "['`', 'RD_PUNCग्लाइसेमिक']\n",
            "['इन्डेक्स', 'N_NN`']\n",
            "['आहे', 'V_VM,']\n",
            "['संधिवात', 'N_NN,']\n",
            "['(', 'RD_SYMऑक्सिडनरोधीची', 'RD_SYM']\n",
            "['जाते', 'V_VAUX']\n",
            "['बिल्व', 'N_NNीन']\n",
            "['बिल्व', 'N_NNीन']\n",
            "['.', 'RD_PUNC']\n",
            "['उत्तेज', 'N_NNक-पाचक']\n",
            "['कडू', 'JJ,']\n",
            "['असतो', 'V_VM,']\n",
            "['करणे', 'V_VM,']\n",
            "['करणे', 'V_VM,']\n",
            "['ताप', 'N_NN,']\n",
            "['करणे', 'V_VM,']\n",
            "['एक', 'QT_QTC-एक']\n",
            "['.', 'RD_PUNC']\n",
            "['एक', 'QT_QTC-एक']\n",
            "['घेणे', 'V_VM']\n",
            "['ह्यांना', 'PR_PRP']\n",
            "['एक', 'QT_QTC-दोन']\n",
            "['त्रास', 'N_NN,']\n",
            "['खुपणे', 'V_VM,']\n",
            "['``भाजल्यावर', 'V_VM,']\n",
            "['कुटून', 'V_VM-गाळून']\n",
            "['दोन', 'QT_QTC-दोन']\n",
            "['वेळा', 'N_NN,']\n",
            "['सकाळी', 'N_NN-दुपारी']\n",
            "['``(', 'RD_SYMबद्धकोष्ठ', 'RD_SYM']\n",
            "['गर्\\u200dयात', 'N_NN,']\n",
            "['सकाळ', 'N_NN-संध्यकाळ']\n",
            "['दहा', 'QT_QTC-दहा']\n",
            "['.', 'RD_PUNC', 'N_NN']\n",
            "['दहा', 'QT_QTC-दहा']\n",
            "['सकाळ', 'N_NN-संध्यकाळ']\n",
            "['तीन', 'QT_QTC-चार']\n",
            "['चूर्ण', 'N_NN,']\n",
            "['सकाळ', 'N_NN-संध्याकाळ']\n",
            "['(', 'RD_SYMश्वेत']\n",
            "['प्रदरात', 'N_NN)']\n",
            "['गर', 'N_NN,']\n",
            "['कुटून', 'V_VM-बारीक']\n",
            "['घ्या', 'V_VM,']\n",
            "['चूर्ण', 'N_NN,']\n",
            "['रस', 'N_NN,']\n",
            "['सकाळ', 'N_NN-संध्याकाळ']\n",
            "['उकळा', 'N_NN,']\n",
            "['मूळ', 'N_NN,']\n",
            "['डोके', 'N_NNदुखी', 'N_NN']\n",
            "['.', 'RD_PUNC', 'N_NNदुखी', 'JJ', 'N_NN']\n",
            "['.', 'RD_PUNC', 'N_NN']\n",
            "['होते', 'V_VM', 'JJ']\n",
            "['.', 'RD_PUNC', 'N_NN']\n",
            "['करण्यासाठी', 'V_VM,']\n",
            "['.', 'RD_PUNC', 'N_NN,', 'RD_PUNC']\n",
            "['असतो', 'V_VM', 'N_NN']\n",
            "['', 'सर्वात']\n",
            "['करतो', 'V_VM,']\n",
            "['(', 'RD_SYMआजार', 'RD_SYM']\n",
            "['करतो', 'V_VM,']\n",
            "['ठेवतो', 'V_VM,']\n",
            "['(', 'RD_SYMठेवतो', 'RD_SYM']\n",
            "['कॅल्शिअम', 'N_NN,']\n",
            "['पदार्थ', 'N_NN,']\n",
            "['अ', 'N_NN,']\n",
            "['ब', 'N_NN,']\n",
            "['राहणारी', 'V_VM', 'V_VM']\n",
            "['``सर्दी', 'N_NN,']\n",
            "['सकाळ', 'N_NN-संध्याकाळ']\n",
            "['कफ', 'N_NN(', 'N_NN)', 'RD_SYM']\n",
            "['आहे', 'V_VM,']\n",
            "['असते', 'V_VM,']\n",
            "['असे', 'JJ.']\n",
            "['', 'सतराव्या']\n",
            "['', 'सफरचंद']\n",
            "['``तसेच', 'CC_CCD,']\n",
            "['`', 'RD_PUNCक', 'RD_PUNC']\n",
            "['``लोह', 'N_NN,']\n",
            "['आरोग्यवर्धक', 'JJ', 'JJ']\n",
            "['(', 'RD_SYMजळजळ', 'RD_SYM']\n",
            "['(', 'RD_SYMइकाई', 'RD_SYM,', 'RD_PUNC']\n",
            "['चेतापेशी', 'N_NN(', 'N_NN)', 'RD_SYM']\n",
            "['असते', 'V_VM,']\n",
            "['फूड', 'N_NN,']\n",
            "['कुरकुरे', 'N_NN,']\n",
            "['वेदना', 'N_NN,']\n",
            "['ताप', 'N_NN,']\n",
            "['करावे', 'V_VM?']\n",
            "['आहे', 'V_VM?']\n",
            "['का', 'PR_PRQ?']\n"
          ],
          "name": "stdout"
        }
      ]
    },
    {
      "cell_type": "code",
      "metadata": {
        "id": "XBVeWCXHMN4i"
      },
      "source": [
        "for i in range(len(all_lines0)):\n",
        "    for j in range(len(all_lines0[i])):\n",
        "        if all_lines0[i][j][1]=='N_NN' or all_lines0[i][j][1]=='N_NN,' or all_lines0[i][j][1]=='N_NN':\n",
        "                all_lines0[i][j][1]='n'\n",
        "                    \n",
        "        elif all_lines0[i][j][1]=='N_NST' or all_lines0[i][j][1]=='N_NN)' or all_lines0[i][j][1]=='N_NN’' or all_lines0[i][j][1]=='N_NN:' or all_lines0[i][j][1]=='N_NN`':      \n",
        "            all_lines0[i][j][1]='n'\n",
        "                \n",
        "        elif all_lines0[i][j][1]=='N_NNP' or all_lines0[i][j][1]=='N_NNP,' or all_lines0[i][j][1]=='N_NN(':\n",
        "            all_lines0[i][j][1]='n'\n",
        "                \n",
        "        elif all_lines0[i][j][1]=='JJ' or all_lines0[i][j][1]=='JJ,' or all_lines0[i][j][1]=='JJ.' or all_lines0[i][j][1]=='JJ(' or all_lines0[i][j][1]=='JJ':   \n",
        "            all_lines0[i][j][1]='a'\n",
        "                \n",
        "        elif all_lines0[i][j][1]=='RB' or all_lines0[i][j][1]=='RB,':\n",
        "            all_lines0[i][j][1]='r'\n",
        "                    \n",
        "        elif all_lines0[i][j][1]=='V_VM':   \n",
        "            all_lines0[i][j][1]='v'\n",
        "                \n",
        "        elif all_lines0[i][j][1]=='V_VAUX':\n",
        "            all_lines0[i][j][1]='r'    \n",
        "                \n",
        "        else: \n",
        "            all_lines0[i][j][1]='u'"
      ],
      "execution_count": 11,
      "outputs": []
    },
    {
      "cell_type": "code",
      "metadata": {
        "colab": {
          "base_uri": "https://localhost:8080/"
        },
        "id": "4UNnMk3mmD4M",
        "outputId": "10888084-6f44-446e-a81c-cceafcba7a21"
      },
      "source": [
        "all_lines0[2000]"
      ],
      "execution_count": 12,
      "outputs": [
        {
          "output_type": "execute_result",
          "data": {
            "text/plain": [
              "[['जिला', 'u'],\n",
              " ['ह्रदयरोग', 'n'],\n",
              " ['असण्याचा', 'v'],\n",
              " ['धोका', 'n'],\n",
              " ['अहे', 'v'],\n",
              " ['.', 'u']]"
            ]
          },
          "metadata": {
            "tags": []
          },
          "execution_count": 12
        }
      ]
    },
    {
      "cell_type": "code",
      "metadata": {
        "id": "9eXMgW-XmD8G"
      },
      "source": [
        "all_lines = []\n",
        "for i in os.listdir(FILES_PATH1):\n",
        "    if i!=\".ipynb_checkpoints\":\n",
        "        text_file = open(os.path.join(FILES_PATH1, i), \"r\", encoding=\"utf-8-sig\")\n",
        "        content = text_file.read()\n",
        "        content = content.split(\"\\n\")\n",
        "        lines = []\n",
        "        for i in content:\n",
        "            lines.append(i.split(\" \"))\n",
        "        line_words = []\n",
        "        for i in lines:\n",
        "            words = []\n",
        "            for j in i:\n",
        "                if \"#\" in j:\n",
        "                    words.append(j.split(\"#\"))\n",
        "            all_lines.append(words)\n",
        "            \n",
        "for i in os.listdir(FILES_PATH2):\n",
        "    if i!=\".ipynb_checkpoints\":\n",
        "        text_file = open(os.path.join(FILES_PATH2, i), \"r\", encoding=\"utf-8\")\n",
        "        content = text_file.read()\n",
        "        content = content.split(\"\\n\")\n",
        "        lines = []\n",
        "        for i in content:\n",
        "            lines.append(i.split(\" \"))\n",
        "        line_words = []\n",
        "        for i in lines:\n",
        "            words = []\n",
        "            for j in i:\n",
        "                if \"#\" in j:\n",
        "                    words.append(j.split(\"#\"))\n",
        "            all_lines.append(words)"
      ],
      "execution_count": 13,
      "outputs": []
    },
    {
      "cell_type": "code",
      "metadata": {
        "id": "8X4LwveEmD-J"
      },
      "source": [
        "all_lines_word_info = []\n",
        "for line in all_lines:\n",
        "    words_info = []\n",
        "    if line != []:\n",
        "        for word in line:\n",
        "            word_info = {}\n",
        "            word_info[\"word\"] = word[0]\n",
        "            if word[1] !=\"\" and word[1][0] == \"{\":\n",
        "                word_info[\"root_word\"] = word[1][1:len(word[1])-1].split(\",\")\n",
        "            else:\n",
        "                word_info[\"root_word\"] = word[1]\n",
        "            word_info[\"pos\"] = word[2]\n",
        "            word_info[\"word_position\"] = word[3]\n",
        "            word_info[\"word_id\"] = word[4]\n",
        "            words_info.append(word_info)\n",
        "        all_lines_word_info.append(words_info)"
      ],
      "execution_count": 14,
      "outputs": []
    },
    {
      "cell_type": "code",
      "metadata": {
        "id": "oiAZjmSwmEEb"
      },
      "source": [
        "all_pos0 = []\n",
        "for i in all_lines0:\n",
        "    for word in i:\n",
        "        try:\n",
        "            if word[1] not in all_pos0:\n",
        "                all_pos0.append(word[1])\n",
        "        except:\n",
        "            pass"
      ],
      "execution_count": 17,
      "outputs": []
    },
    {
      "cell_type": "code",
      "metadata": {
        "colab": {
          "base_uri": "https://localhost:8080/"
        },
        "id": "Wshi4DLWoEpv",
        "outputId": "54c21030-53dc-4b81-85c6-3e973155c357"
      },
      "source": [
        "all_pos0"
      ],
      "execution_count": 18,
      "outputs": [
        {
          "output_type": "execute_result",
          "data": {
            "text/plain": [
              "['u', 'n', 'a', 'v', 'r']"
            ]
          },
          "metadata": {
            "tags": []
          },
          "execution_count": 18
        }
      ]
    },
    {
      "cell_type": "code",
      "metadata": {
        "id": "D31vKD2w3gCW"
      },
      "source": [
        "all_pos = []\n",
        "for i in all_lines_word_info:\n",
        "    for word in i:\n",
        "        try:\n",
        "            if word[\"pos\"] not in all_pos:\n",
        "                all_pos.append(word[\"pos\"])\n",
        "        except:\n",
        "            pass"
      ],
      "execution_count": 19,
      "outputs": []
    },
    {
      "cell_type": "code",
      "metadata": {
        "colab": {
          "base_uri": "https://localhost:8080/"
        },
        "id": "sHKElSAvkEhR",
        "outputId": "6fd90a88-24bd-4c2c-c0f8-e66df107199a"
      },
      "source": [
        "all_pos"
      ],
      "execution_count": 20,
      "outputs": [
        {
          "output_type": "execute_result",
          "data": {
            "text/plain": [
              "['u', 'n', 'a', 'r', 'v']"
            ]
          },
          "metadata": {
            "tags": []
          },
          "execution_count": 20
        }
      ]
    },
    {
      "cell_type": "code",
      "metadata": {
        "id": "Xyr4_DyR3mw6"
      },
      "source": [
        "PATH = \"/content/health/1_marathilexnew.txt\"\n",
        "text_file = open(PATH, \"r\", encoding=\"utf-8-sig\")\n",
        "content = text_file.read()"
      ],
      "execution_count": 21,
      "outputs": []
    },
    {
      "cell_type": "code",
      "metadata": {
        "colab": {
          "base_uri": "https://localhost:8080/"
        },
        "id": "To0WBDa93mzM",
        "outputId": "55f3d54c-e7ef-48c0-97a3-68c5227e92bd"
      },
      "source": [
        "len(content.split(\"\\n\"))"
      ],
      "execution_count": 22,
      "outputs": [
        {
          "output_type": "execute_result",
          "data": {
            "text/plain": [
              "28019"
            ]
          },
          "metadata": {
            "tags": []
          },
          "execution_count": 22
        }
      ]
    },
    {
      "cell_type": "code",
      "metadata": {
        "id": "l4Lu_78k3m3P"
      },
      "source": [
        "all_noun_words = []\n",
        "all_adjective_words = []\n",
        "all_verb_words = []\n",
        "all_adverb_words = []\n",
        "for word in content.split(\"\\n\"):\n",
        "    if \"noun\" in word:\n",
        "        all_noun_words.append(word)\n",
        "    elif \"adjective\" in word:\n",
        "        all_adjective_words.append(word)\n",
        "    elif \"verb\" in word:\n",
        "        all_verb_words.append(word)\n",
        "    elif \"adverb \":\n",
        "        all_adverb_words.append(word)"
      ],
      "execution_count": 23,
      "outputs": []
    },
    {
      "cell_type": "code",
      "metadata": {
        "colab": {
          "base_uri": "https://localhost:8080/"
        },
        "id": "qPd69lFg3m5I",
        "outputId": "7d428b86-5800-40d4-8da6-bd08399a97f4"
      },
      "source": [
        "print(f\"Nouns: {len(all_noun_words)}\")\n",
        "print(f\"Adjectives: {len(all_adjective_words)}\")\n",
        "print(f\"Verbs: {len(all_verb_words)}\")                \n",
        "print(f\"Adverbs: {len(all_adverb_words)}\")"
      ],
      "execution_count": 24,
      "outputs": [
        {
          "output_type": "stream",
          "text": [
            "Nouns: 16244\n",
            "Adjectives: 7849\n",
            "Verbs: 2142\n",
            "Adverbs: 1784\n"
          ],
          "name": "stdout"
        }
      ]
    },
    {
      "cell_type": "code",
      "metadata": {
        "id": "r6wHBm8Y3nEm"
      },
      "source": [
        "all_sentences = []\n",
        "all_tags = []\n",
        "\n",
        "for line in all_lines_word_info:\n",
        "    sentence = []\n",
        "    tag = []\n",
        "    for word in line:\n",
        "        sentence.append(word[\"word\"])\n",
        "        tag.append(word[\"pos\"])\n",
        "    all_sentences.append(sentence)\n",
        "    all_tags.append(tag)\n",
        "    \n",
        "for line in all_lines0:\n",
        "    sentence = []\n",
        "    tag = []\n",
        "    for word in line:\n",
        "        sentence.append(word[0])\n",
        "        tag.append(word[1])\n",
        "    all_sentences.append(sentence)\n",
        "    all_tags.append(tag)  "
      ],
      "execution_count": 25,
      "outputs": []
    },
    {
      "cell_type": "code",
      "metadata": {
        "colab": {
          "base_uri": "https://localhost:8080/"
        },
        "id": "eWcKv-pZ6dN5",
        "outputId": "6a791924-548f-479c-97df-b26565d85d44"
      },
      "source": [
        "all_sentences[20000]"
      ],
      "execution_count": 26,
      "outputs": [
        {
          "output_type": "execute_result",
          "data": {
            "text/plain": [
              "['घाबरट', 'असणे', 'हादेखील', 'मानसिक', 'आजार', 'आहे', '.']"
            ]
          },
          "metadata": {
            "tags": []
          },
          "execution_count": 26
        }
      ]
    },
    {
      "cell_type": "code",
      "metadata": {
        "colab": {
          "base_uri": "https://localhost:8080/"
        },
        "id": "y4rzpxckzIzh",
        "outputId": "b3f29f28-dbe7-4bfb-db83-2187cc76e71b"
      },
      "source": [
        "all_tags[20000]"
      ],
      "execution_count": 27,
      "outputs": [
        {
          "output_type": "execute_result",
          "data": {
            "text/plain": [
              "['a', 'v', 'u', 'a', 'n', 'v', 'u']"
            ]
          },
          "metadata": {
            "tags": []
          },
          "execution_count": 27
        }
      ]
    },
    {
      "cell_type": "code",
      "metadata": {
        "id": "qapi14Ev46DY"
      },
      "source": [
        "all_new_nouns = ' :: '.join(all_noun_words)\n",
        "all_new_adjectives = ' :: '.join(all_adjective_words)\n",
        "all_new_verbs= ' :: '.join(all_verb_words)\n",
        "all_new_adverbs = ' :: '.join(all_adverb_words)\n",
        "for index in range(len(all_sentences)):\n",
        "    sentence = all_sentences[index]\n",
        "    for i in range(len(sentence)):\n",
        "        word_pos_tag = all_tags[index][i]\n",
        "        if word_pos_tag == 'u':\n",
        "            if sentence[i] in all_new_adjectives:\n",
        "                all_tags[index][i] = \"a\"\n",
        "            elif sentence[i] in all_new_nouns:\n",
        "                all_tags[index][i] = \"n\"\n",
        "            elif sentence[i] in all_new_verbs:\n",
        "                all_tags[index][i] = \"v\"\n",
        "            elif sentence[i] in all_new_adverbs:\n",
        "                all_tags[index][i] = \"r\""
      ],
      "execution_count": 28,
      "outputs": []
    },
    {
      "cell_type": "code",
      "metadata": {
        "colab": {
          "base_uri": "https://localhost:8080/"
        },
        "id": "ZsQ0q1z_46FZ",
        "outputId": "89c51853-2610-455f-ec0f-8da3389d00b9"
      },
      "source": [
        "print(f\"Nouns: {len(all_new_nouns)}\")\n",
        "print(f\"Adjectives: {len(all_new_adjectives)}\")\n",
        "print(f\"Verbs: {len(all_new_verbs)}\")\n",
        "print(f\"Adverbs: {len(all_new_adverbs)}\")"
      ],
      "execution_count": 29,
      "outputs": [
        {
          "output_type": "stream",
          "text": [
            "Nouns: 317583\n",
            "Adjectives: 190648\n",
            "Verbs: 60178\n",
            "Adverbs: 58307\n"
          ],
          "name": "stdout"
        }
      ]
    },
    {
      "cell_type": "code",
      "metadata": {
        "colab": {
          "base_uri": "https://localhost:8080/"
        },
        "id": "IkMT4F4y46I5",
        "outputId": "e9af7867-5e93-4d5f-fd5e-370fe2667302"
      },
      "source": [
        "index = 16117\n",
        "print(all_sentences[index], len(all_sentences[index]))\n",
        "print(all_tags[index], len(all_tags[index]))"
      ],
      "execution_count": 30,
      "outputs": [
        {
          "output_type": "stream",
          "text": [
            "['कानांच्या', 'आजारांची', 'नैसर्गिक', 'चिकित्सेत', 'पाणी', 'व', 'रबर', 'ह्यांनी', 'नेती', 'करत', 'राहतात', '.'] 12\n",
            "['n', 'n', 'a', 'n', 'n', 'a', 'n', 'u', 'n', 'v', 'r', 'n'] 12\n"
          ],
          "name": "stdout"
        }
      ]
    },
    {
      "cell_type": "code",
      "metadata": {
        "id": "EVHsVh6P46LB"
      },
      "source": [
        "all_sent = []\n",
        "all_tag = []\n",
        "for i in range(len(all_sentences)):\n",
        "    if len(all_sentences[i]) != 1:\n",
        "        all_sent.append(all_sentences[i])\n",
        "        all_tag.append(all_tags[i])"
      ],
      "execution_count": 31,
      "outputs": []
    },
    {
      "cell_type": "code",
      "metadata": {
        "colab": {
          "base_uri": "https://localhost:8080/"
        },
        "id": "8rX3Vn0z46Oa",
        "outputId": "0c548ff5-91d2-49b8-8a82-4a3776f8e119"
      },
      "source": [
        "all_sentences = all_sent\n",
        "all_tags = all_tag\n",
        "print(len(all_sentences), len(all_tags))"
      ],
      "execution_count": 32,
      "outputs": [
        {
          "output_type": "stream",
          "text": [
            "39495 39495\n"
          ],
          "name": "stdout"
        }
      ]
    },
    {
      "cell_type": "code",
      "metadata": {
        "colab": {
          "base_uri": "https://localhost:8080/"
        },
        "id": "0Uj60UmR46P6",
        "outputId": "8b2f215f-8d09-48ab-a82f-4f7e68d38951"
      },
      "source": [
        "index = 8\n",
        "print(all_sentences[index], len(all_sentences[index]))\n",
        "print(all_tags[index], len(all_tags[index]))"
      ],
      "execution_count": 33,
      "outputs": [
        {
          "output_type": "stream",
          "text": [
            "['एखाद्या', 'निरोगी', 'माणसाच्या', 'घशातील', 'द्रव्य', 'लागलेला', 'तपासणी', '-', 'बोळा', 'घेतला', 'व', 'त्याची', 'सूक्ष्मदर्शकाखाली', 'तपासणी', 'केली', 'तर', 'आपल्याला', 'तो', 'अनेक', 'रोगांच्या', 'जिवाणूंनी', 'लिप्त', 'झालेला', 'दिसेल', '.'] 25\n",
            "['r', 'a', 'n', 'u', 'a', 'u', 'n', 'a', 'n', 'u', 'a', 'n', 'n', 'n', 'n', 'a', 'u', 'a', 'a', 'n', 'n', 'n', 'u', 'u', 'n'] 25\n"
          ],
          "name": "stdout"
        }
      ]
    },
    {
      "cell_type": "code",
      "metadata": {
        "id": "3x_DH5tw46TT"
      },
      "source": [
        "num_words = len(set([word for sentence in all_sentences for word in sentence]))\n",
        "num_tags = len(set([tag for sentence_tag in all_tags for tag in sentence_tag]))"
      ],
      "execution_count": 34,
      "outputs": []
    },
    {
      "cell_type": "code",
      "metadata": {
        "id": "ho3-BArl46VV"
      },
      "source": [
        "words = set([word for sentence in all_sentences for word in sentence])\n",
        "tags = set([tag for sentence_tag in all_tags for tag in sentence_tag])"
      ],
      "execution_count": 35,
      "outputs": []
    },
    {
      "cell_type": "code",
      "metadata": {
        "colab": {
          "base_uri": "https://localhost:8080/"
        },
        "id": "ZrzeBqq-46Yr",
        "outputId": "0c488abe-407b-448d-aabd-9a1bcf293f64"
      },
      "source": [
        "print(f\"Number of words: {num_words}\\nNumber of tags: {num_tags}\")"
      ],
      "execution_count": 36,
      "outputs": [
        {
          "output_type": "stream",
          "text": [
            "Number of words: 61208\n",
            "Number of tags: 5\n"
          ],
          "name": "stdout"
        }
      ]
    },
    {
      "cell_type": "code",
      "metadata": {
        "colab": {
          "base_uri": "https://localhost:8080/"
        },
        "id": "bNKVGf6946be",
        "outputId": "5eb1c188-cd4c-4a30-89e9-0138c106b3ad"
      },
      "source": [
        "print(f\"Number of Sentences: {len(all_sentences)}\")\n",
        "print(f\"Vocabulary Size: {num_words}\")\n",
        "print(f\"Total Tags: {num_tags}\")"
      ],
      "execution_count": 37,
      "outputs": [
        {
          "output_type": "stream",
          "text": [
            "Number of Sentences: 39495\n",
            "Vocabulary Size: 61208\n",
            "Total Tags: 5\n"
          ],
          "name": "stdout"
        }
      ]
    },
    {
      "cell_type": "code",
      "metadata": {
        "id": "8jsb99G27qcG"
      },
      "source": [
        "word_index = {word: i+2 for i,word in enumerate(list(words))}\n",
        "tag_index = {tag: i+1 for i,tag in enumerate(list(tags))}"
      ],
      "execution_count": 38,
      "outputs": []
    },
    {
      "cell_type": "code",
      "metadata": {
        "id": "pAFDO9dI7qeQ"
      },
      "source": [
        "all_sentences_numeric = []\n",
        "all_tags_numeric = []\n",
        "for i in range(len(all_sentences)):\n",
        "    sent = []\n",
        "    tag = []\n",
        "    for word in all_sentences[i]:\n",
        "        sent.append(word_index[word])\n",
        "    for t in all_tags[i]:\n",
        "        tag.append(tag_index[t])\n",
        "    all_sentences_numeric.append(sent)\n",
        "    all_tags_numeric.append(tag)"
      ],
      "execution_count": 39,
      "outputs": []
    },
    {
      "cell_type": "code",
      "metadata": {
        "colab": {
          "base_uri": "https://localhost:8080/"
        },
        "id": "UZ_Ma3mz7zu_",
        "outputId": "4f8e0257-cf69-4e6a-c757-b277a36cc441"
      },
      "source": [
        "print(all_sentences[1])\n",
        "print(all_sentences_numeric[1])\n",
        "print(all_tags[1])\n",
        "print(all_tags_numeric[1])"
      ],
      "execution_count": 40,
      "outputs": [
        {
          "output_type": "stream",
          "text": [
            "['हिंदू', 'धर्मग्रंथ', 'असा', 'सल्ला', 'देतात', 'की', 'वाढणार्या', 'अर्भकाच्या', 'मनात', 'योग्य', 'बीजाची', 'पेरणी', 'झाली', 'पाहिजे', 'ह्याकरिता', 'गर्भधारणेदरम्यान', 'आईला', 'एक', 'प्रशांत', 'वातावरण', 'लाभले', 'पाहिजे', ',', 'तिला', 'चांगली', 'पुस्तके', 'व', 'धार्मिक', 'साहित्य', 'वाचायला', 'व', 'चांगले', 'संगीत', 'ऐकायला', 'लावले', 'पाहिजे', '.']\n",
            "[9302, 46346, 48018, 47272, 9215, 10668, 21336, 32214, 46430, 10802, 58928, 23921, 57172, 52064, 18847, 8110, 33126, 210, 37784, 10454, 55999, 52064, 4099, 27880, 17272, 5572, 24304, 13330, 20863, 55974, 24304, 8938, 55354, 22237, 31652, 52064, 46864]\n",
            "['n', 'n', 'a', 'n', 'u', 'a', 'n', 'n', 'n', 'a', 'u', 'n', 'u', 'v', 'u', 'u', 'n', 'n', 'u', 'n', 'u', 'v', 'a', 'u', 'r', 'n', 'a', 'a', 'n', 'v', 'a', 'r', 'n', 'v', 'a', 'v', 'n']\n",
            "[4, 4, 1, 4, 5, 1, 4, 4, 4, 1, 5, 4, 5, 2, 5, 5, 4, 4, 5, 4, 5, 2, 1, 5, 3, 4, 1, 1, 4, 2, 1, 3, 4, 2, 1, 2, 4]\n"
          ],
          "name": "stdout"
        }
      ]
    },
    {
      "cell_type": "code",
      "metadata": {
        "colab": {
          "base_uri": "https://localhost:8080/"
        },
        "id": "HZBbAM2R7zw6",
        "outputId": "5daa493d-98ff-4248-eafc-016e0c569c38"
      },
      "source": [
        "MAX_LENGTH = max([len(sentence) for sentence in all_sentences])\n",
        "print(MAX_LENGTH)"
      ],
      "execution_count": 41,
      "outputs": [
        {
          "output_type": "stream",
          "text": [
            "92\n"
          ],
          "name": "stdout"
        }
      ]
    },
    {
      "cell_type": "code",
      "metadata": {
        "id": "9vBgM893X6Ar"
      },
      "source": [
        "MAX_LENGTH=100"
      ],
      "execution_count": 42,
      "outputs": []
    },
    {
      "cell_type": "code",
      "metadata": {
        "colab": {
          "base_uri": "https://localhost:8080/",
          "height": 317
        },
        "id": "ZWzzzvsM7z1K",
        "outputId": "15ec60ac-b6cf-43a7-b96d-c0e36cb1ee7e"
      },
      "source": [
        "sns.boxplot([len(sentence) for sentence in all_sentences])\n",
        "plt.show()"
      ],
      "execution_count": null,
      "outputs": [
        {
          "output_type": "stream",
          "text": [
            "/usr/local/lib/python3.7/dist-packages/seaborn/_decorators.py:43: FutureWarning: Pass the following variable as a keyword arg: x. From version 0.12, the only valid positional argument will be `data`, and passing other arguments without an explicit keyword will result in an error or misinterpretation.\n",
            "  FutureWarning\n"
          ],
          "name": "stderr"
        },
        {
          "output_type": "display_data",
          "data": {
            "image/png": "[encoded data removed]",
            "text/plain": [
              "<Figure size 432x288 with 1 Axes>"
            ]
          },
          "metadata": {
            "tags": [],
            "needs_background": "light"
          }
        }
      ]
    },
    {
      "cell_type": "code",
      "metadata": {
        "id": "J-HHimKA7z24"
      },
      "source": [
        "sentences_padded = pad_sequences(all_sentences_numeric, maxlen=MAX_LENGTH, padding=\"pre\", truncating=\"post\")\n",
        "tags_padded = pad_sequences(all_tags_numeric, maxlen=MAX_LENGTH, padding=\"pre\", truncating=\"post\")"
      ],
      "execution_count": 43,
      "outputs": []
    },
    {
      "cell_type": "code",
      "metadata": {
        "colab": {
          "base_uri": "https://localhost:8080/"
        },
        "id": "LARrLg477z5-",
        "outputId": "f8769a1d-4685-49fa-b4a7-e5d0858111e1"
      },
      "source": [
        "print(sentences_padded[0])\n",
        "print(tags_padded[0])"
      ],
      "execution_count": 44,
      "outputs": [
        {
          "output_type": "stream",
          "text": [
            "[    0     0     0     0     0     0     0     0     0     0     0     0\n",
            "     0     0     0     0     0     0     0     0     0     0     0     0\n",
            "     0     0     0     0     0     0     0     0     0     0     0     0\n",
            "     0     0     0     0     0     0     0     0     0     0     0     0\n",
            "     0     0     0     0     0     0     0     0     0     0     0     0\n",
            "     0     0     0     0     0     0     0     0     0     0     0     0\n",
            "     0     0     0     0     0     0     0     0     0     0     0 23299\n",
            " 38597  8691 29880 57056 10668 17188  5271 40922 40703 32482 41785 32611\n",
            " 11858 56681 18026 46864]\n",
            "[0 0 0 0 0 0 0 0 0 0 0 0 0 0 0 0 0 0 0 0 0 0 0 0 0 0 0 0 0 0 0 0 0 0 0 0 0\n",
            " 0 0 0 0 0 0 0 0 0 0 0 0 0 0 0 0 0 0 0 0 0 0 0 0 0 0 0 0 0 0 0 0 0 0 0 0 0\n",
            " 0 0 0 0 0 0 0 0 0 5 4 1 5 5 1 1 4 1 4 4 4 1 4 5 2 4]\n"
          ],
          "name": "stdout"
        }
      ]
    },
    {
      "cell_type": "code",
      "metadata": {
        "id": "IE5RgRyl7z7v"
      },
      "source": [
        "word_index[\"_PAD_\"] = 0\n",
        "word_index[\"_OOV_\"] = 1\n",
        "\n",
        "tag_index[\"_PAD_\"] = 0"
      ],
      "execution_count": 45,
      "outputs": []
    },
    {
      "cell_type": "code",
      "metadata": {
        "colab": {
          "base_uri": "https://localhost:8080/"
        },
        "id": "mtrxsD1M7z_C",
        "outputId": "2b8cfd87-dc6d-468a-ed51-88d8f6d87a06"
      },
      "source": [
        "sentences_padded.shape, tags_padded.shape"
      ],
      "execution_count": 46,
      "outputs": [
        {
          "output_type": "execute_result",
          "data": {
            "text/plain": [
              "((39495, 100), (39495, 100))"
            ]
          },
          "metadata": {
            "tags": []
          },
          "execution_count": 46
        }
      ]
    },
    {
      "cell_type": "code",
      "metadata": {
        "id": "brCVcN7F70BC"
      },
      "source": [
        "from tensorflow.keras.utils import to_categorical"
      ],
      "execution_count": 47,
      "outputs": []
    },
    {
      "cell_type": "code",
      "metadata": {
        "id": "bV-AQ9_N70Dr"
      },
      "source": [
        "y = to_categorical(tags_padded)"
      ],
      "execution_count": 48,
      "outputs": []
    },
    {
      "cell_type": "code",
      "metadata": {
        "id": "X10wX8BL70HZ"
      },
      "source": [
        "from sklearn.model_selection import train_test_split\n",
        "X_train, X_test, y_train, y_test = train_test_split(sentences_padded, y, test_size=0.2, random_state = 24)"
      ],
      "execution_count": 49,
      "outputs": []
    },
    {
      "cell_type": "code",
      "metadata": {
        "colab": {
          "base_uri": "https://localhost:8080/"
        },
        "id": "WPVMgtTj8mV4",
        "outputId": "075c4415-9221-4f15-d98e-0734f3334bd1"
      },
      "source": [
        "X_train.shape"
      ],
      "execution_count": 50,
      "outputs": [
        {
          "output_type": "execute_result",
          "data": {
            "text/plain": [
              "(31596, 100)"
            ]
          },
          "metadata": {
            "tags": []
          },
          "execution_count": 50
        }
      ]
    },
    {
      "cell_type": "code",
      "metadata": {
        "colab": {
          "base_uri": "https://localhost:8080/"
        },
        "id": "y6erz4iR8mX8",
        "outputId": "6f8406df-bedb-430a-9162-fb687c56d430"
      },
      "source": [
        "X_test.shape"
      ],
      "execution_count": 51,
      "outputs": [
        {
          "output_type": "execute_result",
          "data": {
            "text/plain": [
              "(7899, 100)"
            ]
          },
          "metadata": {
            "tags": []
          },
          "execution_count": 51
        }
      ]
    },
    {
      "cell_type": "code",
      "metadata": {
        "colab": {
          "base_uri": "https://localhost:8080/"
        },
        "id": "dSdeviHo8mcH",
        "outputId": "a8dcd2e7-74ac-4359-dd94-4ea7129bc8ff"
      },
      "source": [
        "print(f\"Train Data: {X_train.shape}, {y_train.shape}\")\n",
        "print(f\"Test Data: {X_test.shape}, {y_test.shape}\")"
      ],
      "execution_count": 52,
      "outputs": [
        {
          "output_type": "stream",
          "text": [
            "Train Data: (31596, 100), (31596, 100, 6)\n",
            "Test Data: (7899, 100), (7899, 100, 6)\n"
          ],
          "name": "stdout"
        }
      ]
    },
    {
      "cell_type": "code",
      "metadata": {
        "id": "6tFSa8VM8mes"
      },
      "source": [
        "from tensorflow.keras.models import Sequential\n",
        "from tensorflow.keras.layers import Dense, Embedding, LSTM, Bidirectional, TimeDistributed, Activation, Flatten, Dropout"
      ],
      "execution_count": 58,
      "outputs": []
    },
    {
      "cell_type": "code",
      "metadata": {
        "id": "jNchhXyW8mhs"
      },
      "source": [
        "VOCAB_SIZE = len(word_index)\n",
        "NUM_CLASSES = len(tag_index)"
      ],
      "execution_count": 59,
      "outputs": []
    },
    {
      "cell_type": "code",
      "metadata": {
        "id": "A4bXH6G18mkn"
      },
      "source": [
        "model = Sequential()\n",
        "\n",
        "model.add(Embedding(\n",
        "    input_dim = VOCAB_SIZE,\n",
        "    output_dim = 128,\n",
        "    input_length = MAX_LENGTH\n",
        "))\n",
        "\n",
        "model.add(Bidirectional(LSTM(256, return_sequences=True)))\n",
        "model.add(Dropout(0.25))\n",
        "\n",
        "model.add(Bidirectional(LSTM(256, return_sequences=True)))\n",
        "model.add(Dropout(0.25))\n",
        "\n",
        "model.add(Bidirectional(LSTM(128, return_sequences=True)))\n",
        "model.add(Dropout(0.25))\n",
        "\n",
        "model.add(Bidirectional(LSTM(128, return_sequences=True)))\n",
        "model.add(Dropout(0.25))\n",
        "\n",
        "model.add(Dense(128, activation=\"relu\"))\n",
        "model.add(Dropout(0.25))\n",
        "\n",
        "model.add(Dense(64, activation=\"relu\"))\n",
        "model.add(Dropout(0.25))\n",
        "\n",
        "model.add(TimeDistributed(Dense(NUM_CLASSES, activation=\"softmax\")))"
      ],
      "execution_count": 60,
      "outputs": []
    },
    {
      "cell_type": "code",
      "metadata": {
        "id": "QGnD-M2i9D2f"
      },
      "source": [
        "model.compile(\n",
        "    loss=\"categorical_crossentropy\",\n",
        "    optimizer=\"adam\",\n",
        "    metrics=[\"accuracy\"]\n",
        ")"
      ],
      "execution_count": 61,
      "outputs": []
    },
    {
      "cell_type": "code",
      "metadata": {
        "colab": {
          "base_uri": "https://localhost:8080/"
        },
        "id": "Npj9ipba9D42",
        "outputId": "77c9f1fc-b73c-4027-b861-b773de7fc076"
      },
      "source": [
        "model.summary()"
      ],
      "execution_count": 62,
      "outputs": [
        {
          "output_type": "stream",
          "text": [
            "Model: \"sequential\"\n",
            "_________________________________________________________________\n",
            "Layer (type)                 Output Shape              Param #   \n",
            "=================================================================\n",
            "embedding (Embedding)        (None, 100, 128)          7834880   \n",
            "_________________________________________________________________\n",
            "bidirectional (Bidirectional (None, 100, 512)          788480    \n",
            "_________________________________________________________________\n",
            "dropout (Dropout)            (None, 100, 512)          0         \n",
            "_________________________________________________________________\n",
            "bidirectional_1 (Bidirection (None, 100, 512)          1574912   \n",
            "_________________________________________________________________\n",
            "dropout_1 (Dropout)          (None, 100, 512)          0         \n",
            "_________________________________________________________________\n",
            "bidirectional_2 (Bidirection (None, 100, 256)          656384    \n",
            "_________________________________________________________________\n",
            "dropout_2 (Dropout)          (None, 100, 256)          0         \n",
            "_________________________________________________________________\n",
            "bidirectional_3 (Bidirection (None, 100, 256)          394240    \n",
            "_________________________________________________________________\n",
            "dropout_3 (Dropout)          (None, 100, 256)          0         \n",
            "_________________________________________________________________\n",
            "dense (Dense)                (None, 100, 128)          32896     \n",
            "_________________________________________________________________\n",
            "dropout_4 (Dropout)          (None, 100, 128)          0         \n",
            "_________________________________________________________________\n",
            "dense_1 (Dense)              (None, 100, 64)           8256      \n",
            "_________________________________________________________________\n",
            "dropout_5 (Dropout)          (None, 100, 64)           0         \n",
            "_________________________________________________________________\n",
            "time_distributed (TimeDistri (None, 100, 6)            390       \n",
            "=================================================================\n",
            "Total params: 11,290,438\n",
            "Trainable params: 11,290,438\n",
            "Non-trainable params: 0\n",
            "_________________________________________________________________\n"
          ],
          "name": "stdout"
        }
      ]
    },
    {
      "cell_type": "code",
      "metadata": {
        "colab": {
          "base_uri": "https://localhost:8080/",
          "height": 1000
        },
        "id": "BqV_3Tb0ft2b",
        "outputId": "8b57bfd9-4a5f-450d-ac17-ce17692996f5"
      },
      "source": [
        "from tensorflow.keras.utils import plot_model\n",
        "plot_model(model, to_file='h0model.png', show_shapes=True, show_layer_names=True)"
      ],
      "execution_count": null,
      "outputs": [
        {
          "output_type": "execute_result",
          "data": {
            "image/png": "[encoded data removed]",
            "text/plain": [
              "<IPython.core.display.Image object>"
            ]
          },
          "metadata": {
            "tags": []
          },
          "execution_count": 4
        }
      ]
    },
    {
      "cell_type": "code",
      "metadata": {
        "id": "UpgZ3whf9D8h",
        "colab": {
          "base_uri": "https://localhost:8080/"
        },
        "outputId": "fd7026d9-bb77-4003-ab2c-3719765792a7"
      },
      "source": [
        "history = model.fit(\n",
        "    X_train,y_train,\n",
        "    validation_data=(X_test, y_test),\n",
        "    batch_size=128,\n",
        "    epochs=20\n",
        ")"
      ],
      "execution_count": 63,
      "outputs": [
        {
          "output_type": "stream",
          "text": [
            "Epoch 1/20\n",
            "247/247 [==============================] - 64s 216ms/step - loss: 0.2549 - accuracy: 0.9030 - val_loss: 0.2070 - val_accuracy: 0.9162\n",
            "Epoch 2/20\n",
            "247/247 [==============================] - 52s 209ms/step - loss: 0.2007 - accuracy: 0.9164 - val_loss: 0.1825 - val_accuracy: 0.9234\n",
            "Epoch 3/20\n",
            "247/247 [==============================] - 52s 209ms/step - loss: 0.1103 - accuracy: 0.9616 - val_loss: 0.0696 - val_accuracy: 0.9796\n",
            "Epoch 4/20\n",
            "247/247 [==============================] - 52s 209ms/step - loss: 0.0587 - accuracy: 0.9836 - val_loss: 0.0584 - val_accuracy: 0.9834\n",
            "Epoch 5/20\n",
            "247/247 [==============================] - 51s 207ms/step - loss: 0.0470 - accuracy: 0.9868 - val_loss: 0.0555 - val_accuracy: 0.9845\n",
            "Epoch 6/20\n",
            "247/247 [==============================] - 51s 208ms/step - loss: 0.0397 - accuracy: 0.9885 - val_loss: 0.0535 - val_accuracy: 0.9854\n",
            "Epoch 7/20\n",
            "247/247 [==============================] - 51s 207ms/step - loss: 0.0344 - accuracy: 0.9897 - val_loss: 0.0531 - val_accuracy: 0.9859\n",
            "Epoch 8/20\n",
            "247/247 [==============================] - 51s 208ms/step - loss: 0.0297 - accuracy: 0.9909 - val_loss: 0.0543 - val_accuracy: 0.9861\n",
            "Epoch 9/20\n",
            "247/247 [==============================] - 51s 207ms/step - loss: 0.0258 - accuracy: 0.9920 - val_loss: 0.0538 - val_accuracy: 0.9869\n",
            "Epoch 10/20\n",
            "247/247 [==============================] - 51s 207ms/step - loss: 0.0217 - accuracy: 0.9933 - val_loss: 0.0538 - val_accuracy: 0.9876\n",
            "Epoch 11/20\n",
            "247/247 [==============================] - 51s 207ms/step - loss: 0.0183 - accuracy: 0.9944 - val_loss: 0.0523 - val_accuracy: 0.9882\n",
            "Epoch 12/20\n",
            "247/247 [==============================] - 51s 207ms/step - loss: 0.0150 - accuracy: 0.9955 - val_loss: 0.0581 - val_accuracy: 0.9882\n",
            "Epoch 13/20\n",
            "247/247 [==============================] - 51s 207ms/step - loss: 0.0124 - accuracy: 0.9964 - val_loss: 0.0590 - val_accuracy: 0.9890\n",
            "Epoch 14/20\n",
            "247/247 [==============================] - 51s 207ms/step - loss: 0.0105 - accuracy: 0.9970 - val_loss: 0.0610 - val_accuracy: 0.9888\n",
            "Epoch 15/20\n",
            "247/247 [==============================] - 51s 207ms/step - loss: 0.0089 - accuracy: 0.9974 - val_loss: 0.0584 - val_accuracy: 0.9889\n",
            "Epoch 16/20\n",
            "247/247 [==============================] - 51s 206ms/step - loss: 0.0077 - accuracy: 0.9978 - val_loss: 0.0641 - val_accuracy: 0.9893\n",
            "Epoch 17/20\n",
            "247/247 [==============================] - 51s 207ms/step - loss: 0.0066 - accuracy: 0.9981 - val_loss: 0.0626 - val_accuracy: 0.9898\n",
            "Epoch 18/20\n",
            "247/247 [==============================] - 51s 207ms/step - loss: 0.0058 - accuracy: 0.9984 - val_loss: 0.0648 - val_accuracy: 0.9895\n",
            "Epoch 19/20\n",
            "247/247 [==============================] - 51s 207ms/step - loss: 0.0050 - accuracy: 0.9986 - val_loss: 0.0675 - val_accuracy: 0.9896\n",
            "Epoch 20/20\n",
            "247/247 [==============================] - 51s 206ms/step - loss: 0.0044 - accuracy: 0.9988 - val_loss: 0.0711 - val_accuracy: 0.9899\n"
          ],
          "name": "stdout"
        }
      ]
    },
    {
      "cell_type": "code",
      "metadata": {
        "id": "coONLxo_9D-P",
        "colab": {
          "base_uri": "https://localhost:8080/",
          "height": 442
        },
        "outputId": "26a2124e-fd9f-4f3d-ee2a-69a872f73413"
      },
      "source": [
        "plt.figure(figsize=(9,7))\n",
        "plt.plot(history.history['loss'], 'r', label = 'Training Loss')\n",
        "plt.plot(history.history['val_loss'], label = 'Validation Loss')\n",
        "plt.xlabel('epochs')\n",
        "plt.ylabel('loss')\n",
        "plt.legend()\n",
        "plt.show()"
      ],
      "execution_count": 64,
      "outputs": [
        {
          "output_type": "display_data",
          "data": {
            "image/png": "[encoded data removed]",
            "text/plain": [
              "<Figure size 648x504 with 1 Axes>"
            ]
          },
          "metadata": {
            "tags": [],
            "needs_background": "light"
          }
        }
      ]
    },
    {
      "cell_type": "code",
      "metadata": {
        "id": "ehy4vI-Wgvi_"
      },
      "source": [
        ""
      ],
      "execution_count": null,
      "outputs": []
    },
    {
      "cell_type": "code",
      "metadata": {
        "id": "8uSiuDke9EBr",
        "colab": {
          "base_uri": "https://localhost:8080/",
          "height": 442
        },
        "outputId": "7bb0921f-d65b-4560-8b89-4215bb43d92b"
      },
      "source": [
        "plt.figure(figsize=(9,7))\n",
        "plt.plot(history.history['accuracy'],'r',label='training accuracy')\n",
        "plt.plot(history.history['val_accuracy'],label='validation accuracy')\n",
        "plt.xlabel('epochs')\n",
        "plt.ylabel('Accuracy')\n",
        "plt.legend()\n",
        "plt.show()"
      ],
      "execution_count": null,
      "outputs": [
        {
          "output_type": "display_data",
          "data": {
            "image/png": "[encoded data removed]",
            "text/plain": [
              "<Figure size 648x504 with 1 Axes>"
            ]
          },
          "metadata": {
            "tags": [],
            "needs_background": "light"
          }
        }
      ]
    },
    {
      "cell_type": "code",
      "metadata": {
        "id": "CMODq8Zj9EFG"
      },
      "source": [
        "pred=model.predict(X_test)"
      ],
      "execution_count": 65,
      "outputs": []
    },
    {
      "cell_type": "code",
      "metadata": {
        "id": "hvi-442O7qig",
        "colab": {
          "base_uri": "https://localhost:8080/"
        },
        "outputId": "e39e2abb-ac63-4794-e6bf-4924aa41b606"
      },
      "source": [
        "for i in pred[21]:\n",
        "    print(np.argmax(i), end=\" \")"
      ],
      "execution_count": 71,
      "outputs": [
        {
          "output_type": "stream",
          "text": [
            "0 0 0 0 0 0 0 0 0 0 0 0 0 0 0 0 0 0 0 0 0 0 0 0 0 0 0 0 0 0 0 0 0 0 0 0 0 0 0 0 0 0 0 0 0 0 0 0 0 0 0 0 0 0 0 0 0 0 0 0 0 0 0 0 0 0 0 0 0 0 0 0 0 0 0 0 0 0 0 0 0 0 0 0 0 0 0 0 0 0 1 4 4 1 4 4 2 4 2 4 "
          ],
          "name": "stdout"
        }
      ]
    },
    {
      "cell_type": "code",
      "metadata": {
        "id": "ZRUwGzZirEQB"
      },
      "source": [
        "prediction=[]\n",
        "for i in range(0,len(pred)):\n",
        "  for j in pred[i]:\n",
        "    prediction.append(np.argmax(j))"
      ],
      "execution_count": 81,
      "outputs": []
    },
    {
      "cell_type": "code",
      "metadata": {
        "id": "l6NF8zpercTq"
      },
      "source": [
        "test=[]\n",
        "for i in range(0,len(pred)):\n",
        "  for j in y_test[i]:\n",
        "    test.append(np.argmax(j))"
      ],
      "execution_count": 82,
      "outputs": []
    },
    {
      "cell_type": "code",
      "metadata": {
        "colab": {
          "base_uri": "https://localhost:8080/"
        },
        "id": "5Lh_SPMTBK1-",
        "outputId": "7dfa31f3-c2f9-45fa-f51b-73f50dad6e6a"
      },
      "source": [
        "for i in y_test[21]:\n",
        "    print(np.argmax(i), end=\" \")"
      ],
      "execution_count": 72,
      "outputs": [
        {
          "output_type": "stream",
          "text": [
            "0 0 0 0 0 0 0 0 0 0 0 0 0 0 0 0 0 0 0 0 0 0 0 0 0 0 0 0 0 0 0 0 0 0 0 0 0 0 0 0 0 0 0 0 0 0 0 0 0 0 0 0 0 0 0 0 0 0 0 0 0 0 0 0 0 0 0 0 0 0 0 0 0 0 0 0 0 0 0 0 0 0 0 0 0 0 0 0 0 0 1 4 4 1 4 4 2 1 2 4 "
          ],
          "name": "stdout"
        }
      ]
    },
    {
      "cell_type": "code",
      "metadata": {
        "id": "51X9aWl8f_B2"
      },
      "source": [
        "from sklearn.metrics import classification_report, confusion_matrix, plot_confusion_matrix"
      ],
      "execution_count": 69,
      "outputs": []
    },
    {
      "cell_type": "code",
      "metadata": {
        "colab": {
          "base_uri": "https://localhost:8080/"
        },
        "id": "E9OSM-tYpUxb",
        "outputId": "f184e857-b455-42b7-fbd0-bf8bd30a266a"
      },
      "source": [
        "print(confusion_matrix(test,prediction))"
      ],
      "execution_count": 83,
      "outputs": [
        {
          "output_type": "stream",
          "text": [
            "[[668579      0      0      0      0      0]\n",
            " [     0  25793     78    175    816     75]\n",
            " [     0     98  13640    385    895    423]\n",
            " [     0    174    540   8814    340     74]\n",
            " [     0   1066    320    321  49831    447]\n",
            " [     0    133    365     65   1189  15264]]\n"
          ],
          "name": "stdout"
        }
      ]
    },
    {
      "cell_type": "code",
      "metadata": {
        "id": "7ukxtvBztLha"
      },
      "source": [
        "df=confusion_matrix(test,prediction)"
      ],
      "execution_count": 89,
      "outputs": []
    },
    {
      "cell_type": "code",
      "metadata": {
        "colab": {
          "base_uri": "https://localhost:8080/",
          "height": 598
        },
        "id": "NbagTd4tshAb",
        "outputId": "b63a0425-6afc-4bbb-e861-3b873372a88c"
      },
      "source": [
        "df_cm = pd.DataFrame(df, range(6), range(6))\n",
        "plt.figure(figsize=(15,10))\n",
        "sns.set(font_scale=1.4) # for label size\n",
        "sns.heatmap(df_cm, annot=True, annot_kws={\"size\": 20}) # font size\n",
        "\n",
        "plt.show()"
      ],
      "execution_count": 97,
      "outputs": [
        {
          "output_type": "display_data",
          "data": {
            "image/png": "[encoded data removed]",
            "text/plain": [
              "<Figure size 1080x720 with 2 Axes>"
            ]
          },
          "metadata": {
            "tags": []
          }
        }
      ]
    },
    {
      "cell_type": "code",
      "metadata": {
        "colab": {
          "base_uri": "https://localhost:8080/"
        },
        "id": "eaoCUgRErp5b",
        "outputId": "64ebc152-12cd-4649-8138-0ff786681fbc"
      },
      "source": [
        "print(classification_report(test,prediction,target_names=tag_idx))"
      ],
      "execution_count": 103,
      "outputs": [
        {
          "output_type": "stream",
          "text": [
            "              precision    recall  f1-score   support\n",
            "\n",
            "       _PAD_       1.00      1.00      1.00    668579\n",
            "           a       0.95      0.96      0.95     26937\n",
            "           n       0.91      0.88      0.90     15441\n",
            "           r       0.90      0.89      0.89      9942\n",
            "           u       0.94      0.96      0.95     51985\n",
            "           v       0.94      0.90      0.92     17016\n",
            "\n",
            "    accuracy                           0.99    789900\n",
            "   macro avg       0.94      0.93      0.93    789900\n",
            "weighted avg       0.99      0.99      0.99    789900\n",
            "\n"
          ],
          "name": "stdout"
        }
      ]
    },
    {
      "cell_type": "code",
      "metadata": {
        "id": "Adaue7DEBK4C"
      },
      "source": [
        "pred1=model.predict(X_train)"
      ],
      "execution_count": null,
      "outputs": []
    },
    {
      "cell_type": "code",
      "metadata": {
        "colab": {
          "base_uri": "https://localhost:8080/"
        },
        "id": "Zz0xVXfNBK8G",
        "outputId": "dc35d4cf-dba0-45d0-b860-875d5cbe9610"
      },
      "source": [
        "for i in pred1[50]:\n",
        "    print(np.argmax(i), end=\" \")"
      ],
      "execution_count": null,
      "outputs": [
        {
          "output_type": "stream",
          "text": [
            "0 0 0 0 0 0 0 0 0 0 0 0 0 0 0 0 0 0 0 0 0 0 0 0 0 0 0 0 0 0 0 0 0 0 0 0 0 0 0 0 0 0 0 0 0 0 0 0 0 0 0 0 0 0 0 0 0 0 0 0 0 0 0 0 0 0 0 0 0 0 0 0 0 0 0 0 0 0 0 0 0 0 0 0 0 0 0 0 0 0 0 5 4 4 1 4 4 4 2 1 "
          ],
          "name": "stdout"
        }
      ]
    },
    {
      "cell_type": "code",
      "metadata": {
        "colab": {
          "base_uri": "https://localhost:8080/"
        },
        "id": "ljU-Y0biBK-O",
        "outputId": "8db8b432-9aa0-426f-904b-35cc94be9367"
      },
      "source": [
        "for i in y_train[50]:\n",
        "    print(np.argmax(i), end=\" \")"
      ],
      "execution_count": null,
      "outputs": [
        {
          "output_type": "stream",
          "text": [
            "0 0 0 0 0 0 0 0 0 0 0 0 0 0 0 0 0 0 0 0 0 0 0 0 0 0 0 0 0 0 0 0 0 0 0 0 0 0 0 0 0 0 0 0 0 0 0 0 0 0 0 0 0 0 0 0 0 0 0 0 0 0 0 0 0 0 0 0 0 0 0 0 0 0 0 0 0 0 0 0 0 0 0 0 0 0 0 0 0 0 0 5 4 4 1 4 4 4 2 1 "
          ],
          "name": "stdout"
        }
      ]
    },
    {
      "cell_type": "code",
      "metadata": {
        "id": "KRVx0R1dBLC5"
      },
      "source": [
        "def preprocess_input_text(text, MAXLEN=MAX_LENGTH,word_index=word_index):\n",
        "    sentence = text.split(\" \")\n",
        "    sentence_numeric = []\n",
        "    for word in sentence:\n",
        "        try:\n",
        "            sentence_numeric.append(word_index[word])\n",
        "        except:\n",
        "            sentence_numeric.append(word_index[\"_OOV_\"])\n",
        "    sentence_numeric = pad_sequences([sentence_numeric], maxlen=MAXLEN, padding=\"pre\",truncating=\"post\")\n",
        "    return sentence_numeric.reshape((100,))"
      ],
      "execution_count": null,
      "outputs": []
    },
    {
      "cell_type": "code",
      "metadata": {
        "id": "r2EG3ElKBLE-"
      },
      "source": [
        "x = preprocess_input_text(\"विजन सिंड्रोम झाल्यावर व्यक्तिची सतत तपासणी करून घेतली पाहिजे. डॉक्टरांच्या सल्ल्याशिवाय कोणतेही औषध डोळ्यांत घालू नये . जर एखाद्या व्यक्तिच्या काकाला , मामाला , बाबांना , तसेच आईला मोतीबिंदू असेल तर नियमित तपासणी केली पाहिजे . मोतीबिंदूने डोळ्यांचा दाब वाढू  शकतो  वज्यामुळे शिरा खराब होऊ शकतात . कित्येक वेळा डोळ्यांमध्ये लवकर मोतीबिंदू होतो .\")"
      ],
      "execution_count": null,
      "outputs": []
    },
    {
      "cell_type": "code",
      "metadata": {
        "id": "Mx9bBhgzBc2q"
      },
      "source": [
        "x=x.reshape(1,MAX_LENGTH)"
      ],
      "execution_count": null,
      "outputs": []
    },
    {
      "cell_type": "code",
      "metadata": {
        "colab": {
          "base_uri": "https://localhost:8080/"
        },
        "id": "tXZ6riFVBc47",
        "outputId": "f73c58d0-2f7d-44bf-af9d-b6fb07ba9849"
      },
      "source": [
        "pred2=model.predict(x)\n",
        "pred2.shape"
      ],
      "execution_count": null,
      "outputs": [
        {
          "output_type": "execute_result",
          "data": {
            "text/plain": [
              "(1, 100, 6)"
            ]
          },
          "metadata": {
            "tags": []
          },
          "execution_count": 441
        }
      ]
    },
    {
      "cell_type": "code",
      "metadata": {
        "colab": {
          "base_uri": "https://localhost:8080/"
        },
        "id": "p4XmUQCXBc8H",
        "outputId": "6dfe6df5-799b-4bb8-faea-175d032004c8"
      },
      "source": [
        "for i in pred2[0]:\n",
        "    print(np.argmax(i), end=\" \")"
      ],
      "execution_count": null,
      "outputs": [
        {
          "output_type": "stream",
          "text": [
            "0 0 0 0 0 0 0 0 0 0 0 0 0 0 0 0 0 0 0 0 0 0 0 0 0 0 0 0 0 0 0 0 0 0 0 0 0 0 0 0 0 0 0 0 4 4 2 4 4 4 2 1 4 4 4 3 4 4 2 1 4 5 5 4 4 5 4 5 4 5 3 4 4 2 5 5 4 2 1 4 4 4 4 4 5 2 5 4 4 5 2 1 4 5 4 4 4 4 2 4 "
          ],
          "name": "stdout"
        }
      ]
    },
    {
      "cell_type": "code",
      "metadata": {
        "colab": {
          "base_uri": "https://localhost:8080/"
        },
        "id": "K64u_nz5Bp2k",
        "outputId": "92ed12db-507e-4ff6-fa0f-d2f98878b90b"
      },
      "source": [
        "tag_index"
      ],
      "execution_count": 100,
      "outputs": [
        {
          "output_type": "execute_result",
          "data": {
            "text/plain": [
              "{'_PAD_': 0, 'a': 1, 'n': 4, 'r': 3, 'u': 5, 'v': 2}"
            ]
          },
          "metadata": {
            "tags": []
          },
          "execution_count": 100
        }
      ]
    },
    {
      "cell_type": "code",
      "metadata": {
        "colab": {
          "base_uri": "https://localhost:8080/"
        },
        "id": "hxVSw30CBp4s",
        "outputId": "2fa22ca2-6ea5-4183-aa18-41452f9a65f4"
      },
      "source": [
        "model_json = model.to_json()\n",
        "with open(\"h3model.json\", \"w\") as json_file:\n",
        "    json_file.write(model_json)\n",
        "# serialize weights to HDF5\n",
        "model.save_weights(\"h3model.h5\")\n",
        "print(\"Saved model to disk\")"
      ],
      "execution_count": null,
      "outputs": [
        {
          "output_type": "stream",
          "text": [
            "Saved model to disk\n"
          ],
          "name": "stdout"
        }
      ]
    },
    {
      "cell_type": "code",
      "metadata": {
        "id": "jBy3jQmGBp8Q"
      },
      "source": [
        "import pickle"
      ],
      "execution_count": 3,
      "outputs": []
    },
    {
      "cell_type": "code",
      "metadata": {
        "id": "V8Ld7L1mIRtK"
      },
      "source": [
        "pickle.dump(word_index, open(\"h3word_index.pkl\",\"wb\"))\n",
        "pickle.dump(tag_index, open(\"h3pos_index.pkl\", \"wb\"))"
      ],
      "execution_count": null,
      "outputs": []
    },
    {
      "cell_type": "code",
      "metadata": {
        "id": "RpBX7sjdcdYl"
      },
      "source": [
        "from tensorflow.keras.models import model_from_json\n",
        "with open('h0model.json','r') as f:\n",
        "    json = f.read()\n",
        "model = model_from_json(json)\n",
        "#best m0del weight\n",
        "model.load_weights(\"h0model.h5\")"
      ],
      "execution_count": 2,
      "outputs": []
    }
  ]
}