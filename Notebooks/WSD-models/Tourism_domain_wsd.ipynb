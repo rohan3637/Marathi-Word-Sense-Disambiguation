{
  "nbformat": 4,
  "nbformat_minor": 0,
  "metadata": {
    "accelerator": "GPU",
    "colab": {
      "name": "tourism_domain.ipynb",
      "provenance": [],
      "collapsed_sections": []
    },
    "kernelspec": {
      "display_name": "Python 3",
      "name": "python3"
    },
    "language_info": {
      "name": "python"
    }
  },
  "cells": [
    {
      "cell_type": "code",
      "metadata": {
        "colab": {
          "background_save": true
        },
        "id": "YLeem31-hO_j"
      },
      "source": [
        "import os\n",
        "import nltk\n",
        "import pandas as pd\n",
        "import numpy as np\n",
        "import matplotlib.pyplot as plt\n",
        "import seaborn as sns\n",
        "\n",
        "from tensorflow.keras.preprocessing.sequence import pad_sequences\n",
        "\n",
        "%matplotlib inline"
      ],
      "execution_count": null,
      "outputs": []
    },
    {
      "cell_type": "code",
      "metadata": {
        "colab": {
          "background_save": true,
          "base_uri": "https://localhost:8080/"
        },
        "id": "dTaXQkJXkEYh",
        "outputId": "06ee7d73-01b5-48c4-cfff-00fd24f95750"
      },
      "source": [
        "!unzip tourism.zip"
      ],
      "execution_count": null,
      "outputs": [
        {
          "output_type": "stream",
          "text": [
            "Archive:  tourism.zip\n",
            "  End-of-central-directory signature not found.  Either this file is not\n",
            "  a zipfile, or it constitutes one disk of a multi-part archive.  In the\n",
            "  latter case the central directory and zipfile comment will be found on\n",
            "  the last disk(s) of this archive.\n",
            "unzip:  cannot find zipfile directory in one of tourism.zip or\n",
            "        tourism.zip.zip, and cannot find tourism.zip.ZIP, period.\n"
          ],
          "name": "stdout"
        }
      ]
    },
    {
      "cell_type": "code",
      "metadata": {
        "id": "AeXevKYDkwU6"
      },
      "source": [
        "FILES_PATH2 = \"/content/tourism/Marathi Tourism Domain/Marathi Tourism Domain\"\n",
        "FILES_PATH3 = \"/content/tourism/Tourism Domain (Training & Testing)/Tourism Training\"\n",
        "FILES_PATH4 = \"/content/tourism/Tourism Domain (Training & Testing)/Tourism Testing\""
      ],
      "execution_count": null,
      "outputs": []
    },
    {
      "cell_type": "code",
      "metadata": {
        "id": "Pmu4bmpbkEeT"
      },
      "source": [
        "all_lines0 = []\n",
        "for i in os.listdir(FILES_PATH3):\n",
        "    if i!=\".ipynb_checkpoints\":\n",
        "        text_file = open(os.path.join(FILES_PATH3, i), \"r\", encoding=\"utf-8-sig\",errors='ignore')\n",
        "        content = text_file.read()\n",
        "        content = content.split(\"\\n\")\n",
        "        lines = []\n",
        "        for i in content:\n",
        "            lines.append(i.split(\" \"))\n",
        "        line_words = []\n",
        "        for i in lines:\n",
        "            words = []\n",
        "            cleaned_words=[]\n",
        "            for j in i:\n",
        "                if \"\\\\\" in j:\n",
        "                    words.append(j.split(\"\\\\\"))\n",
        "            all_lines0.append(words)\n",
        "\n",
        "for i in os.listdir(FILES_PATH4):\n",
        "    if i!=\".ipynb_checkpoints\":\n",
        "        text_file = open(os.path.join(FILES_PATH4, i), \"r\", encoding=\"utf-8-sig\",errors='ignore')\n",
        "        content = text_file.read()\n",
        "        content = content.split(\"\\n\")\n",
        "        lines = []\n",
        "        for i in content:\n",
        "            lines.append(i.split(\" \"))\n",
        "        line_words = []\n",
        "        for i in lines:\n",
        "            words = []\n",
        "            cleaned_words=[]\n",
        "            for j in i:\n",
        "                if \"\\\\\" in j:\n",
        "                    words.append(j.split(\"\\\\\"))\n",
        "            all_lines0.append(words)            "
      ],
      "execution_count": null,
      "outputs": []
    },
    {
      "cell_type": "code",
      "metadata": {
        "colab": {
          "base_uri": "https://localhost:8080/"
        },
        "id": "UC6ok9UZuiJ8",
        "outputId": "913af136-a0aa-4c6c-99ca-5d6395698c62"
      },
      "source": [
        "all_lines0[1]"
      ],
      "execution_count": null,
      "outputs": [
        {
          "output_type": "execute_result",
          "data": {
            "text/plain": [
              "[['htd21099\\tयेथे', 'DM_DMD'],\n",
              " ['इतकी', 'QT_QTF'],\n",
              " ['वाळू', 'N_NN'],\n",
              " ['जमली', 'V_VM'],\n",
              " ['होती', 'V_VAUX'],\n",
              " ['की', 'CC_CCS'],\n",
              " ['कोणालाच', 'DM_DMQ'],\n",
              " ['ह्या', 'DM_DMR'],\n",
              " ['गोष्टीचा', 'N_NN'],\n",
              " ['अंदाज', 'N_NN'],\n",
              " ['नव्हता', 'V_VM'],\n",
              " ['की', 'CC_CCS'],\n",
              " ['खाली', 'N_NST'],\n",
              " ['काय', 'PR_PRQ'],\n",
              " ['आहे', 'V_VM'],\n",
              " ['.', 'RD_PUNC']]"
            ]
          },
          "metadata": {
            "tags": []
          },
          "execution_count": 14
        }
      ]
    },
    {
      "cell_type": "code",
      "metadata": {
        "id": "PB81jUU0nXBB"
      },
      "source": [
        "for i in range(len(all_lines0)):\n",
        "    for j in range(len(all_lines0[i])):\n",
        "        if j==0:\n",
        "            if len(all_lines0[i][j][0].split(\"\\t\"))==2:\n",
        "                 all_lines0[i][j][0]=all_lines0[i][j][0].split(\"\\t\")[1]"
      ],
      "execution_count": null,
      "outputs": []
    },
    {
      "cell_type": "code",
      "metadata": {
        "colab": {
          "base_uri": "https://localhost:8080/"
        },
        "id": "GcT_TYKGOqT7",
        "outputId": "0a714387-3c78-43e1-b0ab-bd26f34ccf27"
      },
      "source": [
        "all_lines0[11223]"
      ],
      "execution_count": null,
      "outputs": [
        {
          "output_type": "execute_result",
          "data": {
            "text/plain": [
              "[['तेथील', 'DM_DMD'],\n",
              " ['स्टार', 'N_NNP'],\n",
              " ['फोर्ट', 'N_NN'],\n",
              " ['खूप', 'QT_QTF'],\n",
              " ['छोटेसे', 'JJ'],\n",
              " ['परंतू', 'CC_CCD'],\n",
              " ['डच', 'N_NN'],\n",
              " ['शिल्पाचा', 'N_NN'],\n",
              " ['उत्तम', 'JJ'],\n",
              " ['नमूना', 'N_NN'],\n",
              " ['आहे', 'V_VM'],\n",
              " ['.', 'RD_PUNC']]"
            ]
          },
          "metadata": {
            "tags": []
          },
          "execution_count": 16
        }
      ]
    },
    {
      "cell_type": "code",
      "metadata": {
        "id": "PzhyonXJNEIi"
      },
      "source": [
        "for i in range(len(all_lines0)):\n",
        "    for j in range(len(all_lines0[i])):\n",
        "      if len(all_lines0[i][j])!=2:\n",
        "        all_lines0[i][j].remove(all_lines0[i][j][2])\n",
        "        print(all_lines0[i][j])"
      ],
      "execution_count": null,
      "outputs": []
    },
    {
      "cell_type": "code",
      "metadata": {
        "id": "XBVeWCXHMN4i"
      },
      "source": [
        "for i in range(len(all_lines0)):\n",
        "    for j in range(len(all_lines0[i])):\n",
        "        if all_lines0[i][j][1]=='N_NN' or all_lines0[i][j][1]=='N_NN-' or all_lines0[i][j][1]=='N_NN.' or all_lines0[i][j][1]=='N_NN,':\n",
        "                all_lines0[i][j][1]='n'\n",
        "                    \n",
        "        elif all_lines0[i][j][1]=='N_NST' or all_lines0[i][j][1]=='N_NNP' or all_lines0[i][j][1]=='N_NNP' or all_lines0[i][j][1]=='N_NNP,':      \n",
        "            all_lines0[i][j][1]='n'\n",
        "                 \n",
        "        elif all_lines0[i][j][1]=='JJ' or all_lines0[i][j][1]=='JJ-' or all_lines0[i][j][1]=='JJ' or all_lines0[i][j][1]=='JJस्थळाच्या':   \n",
        "            all_lines0[i][j][1]='a'\n",
        "                \n",
        "        elif all_lines0[i][j][1]=='RB' or all_lines0[i][j][1]=='RB,':\n",
        "            all_lines0[i][j][1]='r'\n",
        "                    \n",
        "        elif all_lines0[i][j][1]=='V_VM' or all_lines0[i][j][1]=='V_VAM.' or all_lines0[i][j][1]=='V_VAX.' or all_lines0[i][j][1]=='V_VAUX' or all_lines0[i][j][1]=='V_VUAX.':   \n",
        "            all_lines0[i][j][1]='v'\n",
        "\n",
        "        elif all_lines0[i][j][1]=='V_VM.' or all_lines0[i][j][1]=='V_VAUX.' or all_lines0[i][j][1]=='V_VM':  \n",
        "            all_lines0[i][j][1]='v'    \n",
        "                \n",
        "        else: \n",
        "            all_lines0[i][j][1]='u'"
      ],
      "execution_count": null,
      "outputs": []
    },
    {
      "cell_type": "code",
      "metadata": {
        "colab": {
          "base_uri": "https://localhost:8080/"
        },
        "id": "4UNnMk3mmD4M",
        "outputId": "6ef5c9da-22fa-45e4-ab51-f36dc6c19e2d"
      },
      "source": [
        "all_lines0[2000]"
      ],
      "execution_count": null,
      "outputs": [
        {
          "output_type": "execute_result",
          "data": {
            "text/plain": [
              "[['त्यावर', 'u'],\n",
              " ['बंदी', 'n'],\n",
              " ['घातली', 'v'],\n",
              " ['पाहिजे', 'v'],\n",
              " ['तसेच', 'u'],\n",
              " ['दोषी', 'n'],\n",
              " ['तत्त्वांना', 'n'],\n",
              " ['शिक्षा', 'n'],\n",
              " ['दिली', 'v'],\n",
              " ['पाहिजे.', 'v']]"
            ]
          },
          "metadata": {
            "tags": []
          },
          "execution_count": 21
        }
      ]
    },
    {
      "cell_type": "code",
      "metadata": {
        "id": "9eXMgW-XmD8G"
      },
      "source": [
        "all_lines = []\n",
        "            \n",
        "for i in os.listdir(FILES_PATH2):\n",
        "    if i!=\".ipynb_checkpoints\":\n",
        "        text_file = open(os.path.join(FILES_PATH2, i), \"r\", encoding=\"utf-8\")\n",
        "        content = text_file.read()\n",
        "        content = content.split(\"\\n\")\n",
        "        lines = []\n",
        "        for i in content:\n",
        "            lines.append(i.split(\" \"))\n",
        "        line_words = []\n",
        "        for i in lines:\n",
        "            words = []\n",
        "            for j in i:\n",
        "                if \"#\" in j:\n",
        "                    words.append(j.split(\"#\"))\n",
        "            all_lines.append(words)"
      ],
      "execution_count": null,
      "outputs": []
    },
    {
      "cell_type": "code",
      "metadata": {
        "id": "8X4LwveEmD-J"
      },
      "source": [
        "all_lines_word_info = []\n",
        "for line in all_lines:\n",
        "    words_info = []\n",
        "    if line != []:\n",
        "        for word in line:\n",
        "            word_info = {}\n",
        "            word_info[\"word\"] = word[0]\n",
        "            if word[1] !=\"\" and word[1][0] == \"{\":\n",
        "                word_info[\"root_word\"] = word[1][1:len(word[1])-1].split(\",\")\n",
        "            else:\n",
        "                word_info[\"root_word\"] = word[1]\n",
        "            word_info[\"pos\"] = word[2]\n",
        "            word_info[\"word_position\"] = word[3]\n",
        "            word_info[\"word_id\"] = word[4]\n",
        "            words_info.append(word_info)\n",
        "        all_lines_word_info.append(words_info)"
      ],
      "execution_count": null,
      "outputs": []
    },
    {
      "cell_type": "code",
      "metadata": {
        "id": "oiAZjmSwmEEb"
      },
      "source": [
        "all_pos0 = []\n",
        "for i in all_lines0:\n",
        "    for word in i:\n",
        "        try:\n",
        "            if word[1] not in all_pos0:\n",
        "                all_pos0.append(word[1])\n",
        "        except:\n",
        "            pass"
      ],
      "execution_count": null,
      "outputs": []
    },
    {
      "cell_type": "code",
      "metadata": {
        "colab": {
          "base_uri": "https://localhost:8080/"
        },
        "id": "Wshi4DLWoEpv",
        "outputId": "b6efb1be-7257-4a3c-b877-b078f0f4eaa8"
      },
      "source": [
        "all_pos0"
      ],
      "execution_count": null,
      "outputs": [
        {
          "output_type": "execute_result",
          "data": {
            "text/plain": [
              "['u', 'n', 'v', 'a', 'r']"
            ]
          },
          "metadata": {
            "tags": []
          },
          "execution_count": 25
        }
      ]
    },
    {
      "cell_type": "code",
      "metadata": {
        "id": "D31vKD2w3gCW"
      },
      "source": [
        "all_pos = []\n",
        "for i in all_lines_word_info:\n",
        "    for word in i:\n",
        "        try:\n",
        "            if word[\"pos\"] not in all_pos:\n",
        "                all_pos.append(word[\"pos\"])\n",
        "        except:\n",
        "            pass"
      ],
      "execution_count": null,
      "outputs": []
    },
    {
      "cell_type": "code",
      "metadata": {
        "colab": {
          "base_uri": "https://localhost:8080/"
        },
        "id": "sHKElSAvkEhR",
        "outputId": "2b899686-1939-4930-9812-6275770e141e"
      },
      "source": [
        "all_pos"
      ],
      "execution_count": null,
      "outputs": [
        {
          "output_type": "execute_result",
          "data": {
            "text/plain": [
              "['u', 'a', 'n', 'r', 'v']"
            ]
          },
          "metadata": {
            "tags": []
          },
          "execution_count": 27
        }
      ]
    },
    {
      "cell_type": "code",
      "metadata": {
        "id": "Xyr4_DyR3mw6"
      },
      "source": [
        "PATH = \"/content/tourism/1_marathilexnew.txt\"\n",
        "text_file = open(PATH, \"r\", encoding=\"utf-8-sig\")\n",
        "content = text_file.read()"
      ],
      "execution_count": null,
      "outputs": []
    },
    {
      "cell_type": "code",
      "metadata": {
        "colab": {
          "base_uri": "https://localhost:8080/"
        },
        "id": "To0WBDa93mzM",
        "outputId": "41df777f-a1b6-4953-d78e-2108819411b6"
      },
      "source": [
        "len(content.split(\"\\n\"))"
      ],
      "execution_count": null,
      "outputs": [
        {
          "output_type": "execute_result",
          "data": {
            "text/plain": [
              "28019"
            ]
          },
          "metadata": {
            "tags": []
          },
          "execution_count": 29
        }
      ]
    },
    {
      "cell_type": "code",
      "metadata": {
        "id": "l4Lu_78k3m3P"
      },
      "source": [
        "all_noun_words = []\n",
        "all_adjective_words = []\n",
        "all_verb_words = []\n",
        "all_adverb_words = []\n",
        "for word in content.split(\"\\n\"):\n",
        "    if \"noun\" in word:\n",
        "        all_noun_words.append(word)\n",
        "    elif \"adjective\" in word:\n",
        "        all_adjective_words.append(word)\n",
        "    elif \"verb\" in word:\n",
        "        all_verb_words.append(word)\n",
        "    elif \"adverb \":\n",
        "        all_adverb_words.append(word)"
      ],
      "execution_count": null,
      "outputs": []
    },
    {
      "cell_type": "code",
      "metadata": {
        "colab": {
          "base_uri": "https://localhost:8080/"
        },
        "id": "qPd69lFg3m5I",
        "outputId": "bb32d633-ff8d-43d6-89ef-47697f1c61c7"
      },
      "source": [
        "print(f\"Nouns: {len(all_noun_words)}\")\n",
        "print(f\"Adjectives: {len(all_adjective_words)}\")\n",
        "print(f\"Verbs: {len(all_verb_words)}\")                \n",
        "print(f\"Adverbs: {len(all_adverb_words)}\")"
      ],
      "execution_count": null,
      "outputs": [
        {
          "output_type": "stream",
          "text": [
            "Nouns: 16244\n",
            "Adjectives: 7849\n",
            "Verbs: 2142\n",
            "Adverbs: 1784\n"
          ],
          "name": "stdout"
        }
      ]
    },
    {
      "cell_type": "code",
      "metadata": {
        "id": "r6wHBm8Y3nEm"
      },
      "source": [
        "all_sentences = []\n",
        "all_tags = []\n",
        "\n",
        "for line in all_lines_word_info:\n",
        "    sentence = []\n",
        "    tag = []\n",
        "    for word in line:\n",
        "        sentence.append(word[\"word\"])\n",
        "        tag.append(word[\"pos\"])\n",
        "    all_sentences.append(sentence)\n",
        "    all_tags.append(tag)\n",
        "    \n",
        "for line in all_lines0:\n",
        "    sentence = []\n",
        "    tag = []\n",
        "    for word in line:\n",
        "        sentence.append(word[0])\n",
        "        tag.append(word[1])\n",
        "    all_sentences.append(sentence)\n",
        "    all_tags.append(tag)  "
      ],
      "execution_count": null,
      "outputs": []
    },
    {
      "cell_type": "code",
      "metadata": {
        "colab": {
          "base_uri": "https://localhost:8080/"
        },
        "id": "eWcKv-pZ6dN5",
        "outputId": "9bde6b52-aabf-4bcd-b32b-72e92b22dc2a"
      },
      "source": [
        "len(all_sentences)"
      ],
      "execution_count": null,
      "outputs": [
        {
          "output_type": "execute_result",
          "data": {
            "text/plain": [
              "41371"
            ]
          },
          "metadata": {
            "tags": []
          },
          "execution_count": 33
        }
      ]
    },
    {
      "cell_type": "code",
      "metadata": {
        "colab": {
          "background_save": true
        },
        "id": "qapi14Ev46DY"
      },
      "source": [
        "all_new_nouns = ' :: '.join(all_noun_words)\n",
        "all_new_adjectives = ' :: '.join(all_adjective_words)\n",
        "all_new_verbs= ' :: '.join(all_verb_words)\n",
        "all_new_adverbs = ' :: '.join(all_adverb_words)\n",
        "for index in range(len(all_sentences)):\n",
        "    sentence = all_sentences[index]\n",
        "    for i in range(len(sentence)):\n",
        "        word_pos_tag = all_tags[index][i]\n",
        "        if word_pos_tag == 'u':\n",
        "            if sentence[i] in all_new_adjectives:\n",
        "                all_tags[index][i] = \"a\"\n",
        "            elif sentence[i] in all_new_nouns:\n",
        "                all_tags[index][i] = \"n\"\n",
        "            elif sentence[i] in all_new_verbs:\n",
        "                all_tags[index][i] = \"v\"\n",
        "            elif sentence[i] in all_new_adverbs:\n",
        "                all_tags[index][i] = \"r\""
      ],
      "execution_count": null,
      "outputs": []
    },
    {
      "cell_type": "code",
      "metadata": {
        "colab": {
          "background_save": true,
          "base_uri": "https://localhost:8080/"
        },
        "id": "ZsQ0q1z_46FZ",
        "outputId": "f638ba22-5ad3-4baa-f85f-e9904953d114"
      },
      "source": [
        "print(f\"Nouns: {len(all_new_nouns)}\")\n",
        "print(f\"Adjectives: {len(all_new_adjectives)}\")\n",
        "print(f\"Verbs: {len(all_new_verbs)}\")\n",
        "print(f\"Adverbs: {len(all_new_adverbs)}\")"
      ],
      "execution_count": null,
      "outputs": [
        {
          "output_type": "stream",
          "text": [
            "Nouns: 317583\n",
            "Adjectives: 190648\n",
            "Verbs: 60178\n",
            "Adverbs: 58307\n"
          ],
          "name": "stdout"
        }
      ]
    },
    {
      "cell_type": "code",
      "metadata": {
        "colab": {
          "background_save": true,
          "base_uri": "https://localhost:8080/"
        },
        "id": "IkMT4F4y46I5",
        "outputId": "ce963094-01e8-41bc-c2b3-bae6136a5374"
      },
      "source": [
        "index = 16117\n",
        "print(all_sentences[index], len(all_sentences[index]))\n",
        "print(all_tags[index], len(all_tags[index]))"
      ],
      "execution_count": null,
      "outputs": [
        {
          "output_type": "stream",
          "text": [
            "['गुडालूर', 'मुखुर्थी', 'राष्\\u200dट्रीय', 'उद्यानाचे', 'जवळचे', 'शहर', 'आणि', 'जवळचे', 'मुख्य', 'पर्वतीय', 'स्थान', 'ऊटकमंड', 'आहे.'] 13\n",
            "['u', 'u', 'u', 'u', 'r', 'n', 'r', 'r', 'a', 'a', 'n', 'u', 'v'] 13\n"
          ],
          "name": "stdout"
        }
      ]
    },
    {
      "cell_type": "code",
      "metadata": {
        "colab": {
          "background_save": true
        },
        "id": "EVHsVh6P46LB"
      },
      "source": [
        "all_sent = []\n",
        "all_tag = []\n",
        "for i in range(len(all_sentences)):\n",
        "    if len(all_sentences[i]) != 1:\n",
        "        all_sent.append(all_sentences[i])\n",
        "        all_tag.append(all_tags[i])"
      ],
      "execution_count": null,
      "outputs": []
    },
    {
      "cell_type": "code",
      "metadata": {
        "colab": {
          "background_save": true,
          "base_uri": "https://localhost:8080/"
        },
        "id": "8rX3Vn0z46Oa",
        "outputId": "8a77f012-8082-4b1c-f6ec-38c9c0472268"
      },
      "source": [
        "all_sentences = all_sent\n",
        "all_tags = all_tag\n",
        "print(len(all_sentences), len(all_tags))"
      ],
      "execution_count": null,
      "outputs": [
        {
          "output_type": "stream",
          "text": [
            "41160 41160\n"
          ],
          "name": "stdout"
        }
      ]
    },
    {
      "cell_type": "code",
      "metadata": {
        "colab": {
          "background_save": true,
          "base_uri": "https://localhost:8080/"
        },
        "id": "0Uj60UmR46P6",
        "outputId": "4265f5ec-695e-4a91-f0e3-26989d178b01"
      },
      "source": [
        "index = 8\n",
        "print(all_sentences[index], len(all_sentences[index]))\n",
        "print(all_tags[index], len(all_tags[index]))"
      ],
      "execution_count": null,
      "outputs": [
        {
          "output_type": "stream",
          "text": [
            "[':', '13', ':', 'सामूहिक', 'स्वंयपाक', 'घराला', 'सुद्धा', 'बघा', 'येथे', '१०', ',', '०००', 'तीर्थयात्रिंना', 'प्रतिदिन', 'स्वेच्छेने', 'आणि', 'परस्पर', 'पूरक', 'असे', 'अन्न', 'दिले', 'जाते', '.'] 23\n",
            "['a', 'u', 'a', 'n', 'u', 'n', 'u', 'u', 'r', 'u', 'a', 'u', 'u', 'u', 'r', 'r', 'a', 'a', 'v', 'n', 'u', 'n', 'n'] 23\n"
          ],
          "name": "stdout"
        }
      ]
    },
    {
      "cell_type": "code",
      "metadata": {
        "colab": {
          "background_save": true
        },
        "id": "3x_DH5tw46TT"
      },
      "source": [
        "num_words = len(set([word for sentence in all_sentences for word in sentence]))\n",
        "num_tags = len(set([tag for sentence_tag in all_tags for tag in sentence_tag]))"
      ],
      "execution_count": null,
      "outputs": []
    },
    {
      "cell_type": "code",
      "metadata": {
        "colab": {
          "background_save": true
        },
        "id": "ho3-BArl46VV"
      },
      "source": [
        "words = set([word for sentence in all_sentences for word in sentence])\n",
        "tags = set([tag for sentence_tag in all_tags for tag in sentence_tag])"
      ],
      "execution_count": null,
      "outputs": []
    },
    {
      "cell_type": "code",
      "metadata": {
        "colab": {
          "background_save": true,
          "base_uri": "https://localhost:8080/"
        },
        "id": "ZrzeBqq-46Yr",
        "outputId": "79dfdbf7-a042-42be-9afb-66814f6c516a"
      },
      "source": [
        "print(f\"Number of words: {num_words}\\nNumber of tags: {num_tags}\")"
      ],
      "execution_count": null,
      "outputs": [
        {
          "output_type": "stream",
          "text": [
            "Number of words: 97881\n",
            "Number of tags: 5\n"
          ],
          "name": "stdout"
        }
      ]
    },
    {
      "cell_type": "code",
      "metadata": {
        "colab": {
          "background_save": true,
          "base_uri": "https://localhost:8080/"
        },
        "id": "bNKVGf6946be",
        "outputId": "69dfda71-8c80-4804-e680-089924d8c60f"
      },
      "source": [
        "print(f\"Number of Sentences: {len(all_sentences)}\")\n",
        "print(f\"Vocabulary Size: {num_words}\")\n",
        "print(f\"Total Tags: {num_tags}\")"
      ],
      "execution_count": null,
      "outputs": [
        {
          "output_type": "stream",
          "text": [
            "Number of Sentences: 41160\n",
            "Vocabulary Size: 97881\n",
            "Total Tags: 5\n"
          ],
          "name": "stdout"
        }
      ]
    },
    {
      "cell_type": "code",
      "metadata": {
        "colab": {
          "background_save": true
        },
        "id": "8jsb99G27qcG"
      },
      "source": [
        "word_index = {word: i+2 for i,word in enumerate(list(words))}\n",
        "tag_index = {tag: i+1 for i,tag in enumerate(list(tags))}"
      ],
      "execution_count": null,
      "outputs": []
    },
    {
      "cell_type": "code",
      "metadata": {
        "colab": {
          "background_save": true
        },
        "id": "pAFDO9dI7qeQ"
      },
      "source": [
        "all_sentences_numeric = []\n",
        "all_tags_numeric = []\n",
        "for i in range(len(all_sentences)):\n",
        "    sent = []\n",
        "    tag = []\n",
        "    for word in all_sentences[i]:\n",
        "        sent.append(word_index[word])\n",
        "    for t in all_tags[i]:\n",
        "        tag.append(tag_index[t])\n",
        "    all_sentences_numeric.append(sent)\n",
        "    all_tags_numeric.append(tag)"
      ],
      "execution_count": null,
      "outputs": []
    },
    {
      "cell_type": "code",
      "metadata": {
        "colab": {
          "background_save": true,
          "base_uri": "https://localhost:8080/"
        },
        "id": "UZ_Ma3mz7zu_",
        "outputId": "bd7fff08-bbba-447d-fa76-54327b28bdde"
      },
      "source": [
        "print(all_sentences[0])\n",
        "print(all_sentences_numeric[0])\n",
        "print(all_tags[0])\n",
        "print(all_tags_numeric[0])"
      ],
      "execution_count": null,
      "outputs": [
        {
          "output_type": "stream",
          "text": [
            "['\\ufeff', ':', '2', ':', 'ओरिसातील', 'सर्वात', 'उंच', '(', '६५', 'मीटर', ')', 'मंदिर', 'असून', 'जगन्नाथ', 'मंदिर', 'भारतातील', 'सर्वात', 'भव्य', 'स्मारकाच्या', 'रचनांपैकी', 'एक', 'आहे', '.']\n",
            "[92724, 17783, 63794, 17783, 93118, 45927, 62649, 13342, 10055, 28686, 42231, 76430, 12996, 8040, 76430, 11914, 45927, 7682, 21692, 89888, 79221, 78216, 22528]\n",
            "['v', 'a', 'u', 'a', 'u', 'u', 'a', 'u', 'u', 'n', 'u', 'n', 'u', 'n', 'n', 'u', 'u', 'a', 'n', 'u', 'a', 'n', 'n']\n",
            "[4, 2, 1, 2, 1, 1, 2, 1, 1, 5, 1, 5, 1, 5, 5, 1, 1, 2, 5, 1, 2, 5, 5]\n"
          ],
          "name": "stdout"
        }
      ]
    },
    {
      "cell_type": "code",
      "metadata": {
        "colab": {
          "background_save": true,
          "base_uri": "https://localhost:8080/"
        },
        "id": "HZBbAM2R7zw6",
        "outputId": "529806b9-21ce-4f74-cfdf-87579ff4f883"
      },
      "source": [
        "MAX_LENGTH = max([len(sentence) for sentence in all_sentences])\n",
        "print(MAX_LENGTH)"
      ],
      "execution_count": null,
      "outputs": [
        {
          "output_type": "stream",
          "text": [
            "113\n"
          ],
          "name": "stdout"
        }
      ]
    },
    {
      "cell_type": "code",
      "metadata": {
        "colab": {
          "background_save": true
        },
        "id": "9vBgM893X6Ar"
      },
      "source": [
        ""
      ],
      "execution_count": null,
      "outputs": []
    },
    {
      "cell_type": "code",
      "metadata": {
        "colab": {
          "background_save": true,
          "base_uri": "https://localhost:8080/",
          "height": 317
        },
        "id": "ZWzzzvsM7z1K",
        "outputId": "d2c7e095-3954-4d6c-c96e-2461c0b921f9"
      },
      "source": [
        "sns.boxplot([len(sentence) for sentence in all_sentences])\n",
        "plt.show()"
      ],
      "execution_count": null,
      "outputs": [
        {
          "output_type": "stream",
          "text": [
            "/usr/local/lib/python3.7/dist-packages/seaborn/_decorators.py:43: FutureWarning: Pass the following variable as a keyword arg: x. From version 0.12, the only valid positional argument will be `data`, and passing other arguments without an explicit keyword will result in an error or misinterpretation.\n",
            "  FutureWarning\n"
          ],
          "name": "stderr"
        },
        {
          "output_type": "display_data",
          "data": {
            "image/png": "[encoded data removed]",
            "text/plain": [
              "<Figure size 432x288 with 1 Axes>"
            ]
          },
          "metadata": {
            "tags": []
          }
        }
      ]
    },
    {
      "cell_type": "code",
      "metadata": {
        "colab": {
          "background_save": true
        },
        "id": "J-HHimKA7z24"
      },
      "source": [
        "sentences_padded = pad_sequences(all_sentences_numeric, maxlen=MAX_LENGTH, padding=\"pre\", truncating=\"post\")\n",
        "tags_padded = pad_sequences(all_tags_numeric, maxlen=MAX_LENGTH, padding=\"pre\", truncating=\"post\")"
      ],
      "execution_count": null,
      "outputs": []
    },
    {
      "cell_type": "code",
      "metadata": {
        "colab": {
          "background_save": true,
          "base_uri": "https://localhost:8080/"
        },
        "id": "LARrLg477z5-",
        "outputId": "8969e4f6-96ac-4ad3-a601-b5d9e9e24733"
      },
      "source": [
        "print(sentences_padded[0])\n",
        "print(tags_padded[0])"
      ],
      "execution_count": null,
      "outputs": [
        {
          "output_type": "stream",
          "text": [
            "[    0     0     0     0     0     0     0     0     0     0     0     0\n",
            "     0     0     0     0     0     0     0     0     0     0     0     0\n",
            "     0     0     0     0     0     0     0     0     0     0     0     0\n",
            "     0     0     0     0     0     0     0     0     0     0     0     0\n",
            "     0     0     0     0     0     0     0     0     0     0     0     0\n",
            "     0     0     0     0     0     0     0     0     0     0     0     0\n",
            "     0     0     0     0     0     0     0     0     0     0     0     0\n",
            "     0     0     0     0     0     0 92724 17783 63794 17783 93118 45927\n",
            " 62649 13342 10055 28686 42231 76430 12996  8040 76430 11914 45927  7682\n",
            " 21692 89888 79221 78216 22528]\n",
            "[0 0 0 0 0 0 0 0 0 0 0 0 0 0 0 0 0 0 0 0 0 0 0 0 0 0 0 0 0 0 0 0 0 0 0 0 0\n",
            " 0 0 0 0 0 0 0 0 0 0 0 0 0 0 0 0 0 0 0 0 0 0 0 0 0 0 0 0 0 0 0 0 0 0 0 0 0\n",
            " 0 0 0 0 0 0 0 0 0 0 0 0 0 0 0 0 4 2 1 2 1 1 2 1 1 5 1 5 1 5 5 1 1 2 5 1 2\n",
            " 5 5]\n"
          ],
          "name": "stdout"
        }
      ]
    },
    {
      "cell_type": "code",
      "metadata": {
        "colab": {
          "background_save": true
        },
        "id": "IE5RgRyl7z7v"
      },
      "source": [
        "word_index[\"_PAD_\"] = 0\n",
        "word_index[\"_OOV_\"] = 1\n",
        "\n",
        "tag_index[\"_PAD_\"] = 0"
      ],
      "execution_count": null,
      "outputs": []
    },
    {
      "cell_type": "code",
      "metadata": {
        "colab": {
          "background_save": true,
          "base_uri": "https://localhost:8080/"
        },
        "id": "mtrxsD1M7z_C",
        "outputId": "6e29cbce-6001-4cf6-bc3d-9e30b4dd57fa"
      },
      "source": [
        "sentences_padded.shape, tags_padded.shape"
      ],
      "execution_count": null,
      "outputs": [
        {
          "output_type": "execute_result",
          "data": {
            "text/plain": [
              "((41160, 113), (41160, 113))"
            ]
          },
          "metadata": {
            "tags": []
          },
          "execution_count": 0
        }
      ]
    },
    {
      "cell_type": "code",
      "metadata": {
        "colab": {
          "background_save": true
        },
        "id": "brCVcN7F70BC"
      },
      "source": [
        "from tensorflow.keras.utils import to_categorical"
      ],
      "execution_count": null,
      "outputs": []
    },
    {
      "cell_type": "code",
      "metadata": {
        "colab": {
          "background_save": true
        },
        "id": "bV-AQ9_N70Dr"
      },
      "source": [
        "y = to_categorical(tags_padded)"
      ],
      "execution_count": null,
      "outputs": []
    },
    {
      "cell_type": "code",
      "metadata": {
        "colab": {
          "background_save": true
        },
        "id": "X10wX8BL70HZ"
      },
      "source": [
        "from sklearn.model_selection import train_test_split\n",
        "X_train, X_test, y_train, y_test = train_test_split(sentences_padded, y, test_size=0.2, random_state = 24)"
      ],
      "execution_count": null,
      "outputs": []
    },
    {
      "cell_type": "code",
      "metadata": {
        "colab": {
          "background_save": true,
          "base_uri": "https://localhost:8080/"
        },
        "id": "WPVMgtTj8mV4",
        "outputId": "fe26f656-81a0-4e77-8057-c903f5317939"
      },
      "source": [
        "X_train.shape"
      ],
      "execution_count": null,
      "outputs": [
        {
          "output_type": "execute_result",
          "data": {
            "text/plain": [
              "(32928, 113)"
            ]
          },
          "metadata": {
            "tags": []
          },
          "execution_count": 0
        }
      ]
    },
    {
      "cell_type": "code",
      "metadata": {
        "colab": {
          "background_save": true,
          "base_uri": "https://localhost:8080/"
        },
        "id": "y6erz4iR8mX8",
        "outputId": "36f0da01-fc26-4db2-8cda-bf83297ebe9a"
      },
      "source": [
        "X_test.shape"
      ],
      "execution_count": null,
      "outputs": [
        {
          "output_type": "execute_result",
          "data": {
            "text/plain": [
              "(8232, 113)"
            ]
          },
          "metadata": {
            "tags": []
          },
          "execution_count": 0
        }
      ]
    },
    {
      "cell_type": "code",
      "metadata": {
        "colab": {
          "background_save": true,
          "base_uri": "https://localhost:8080/"
        },
        "id": "dSdeviHo8mcH",
        "outputId": "a3400094-725f-4191-be33-c89b2faac7ae"
      },
      "source": [
        "print(f\"Train Data: {X_train.shape}, {y_train.shape}\")\n",
        "print(f\"Test Data: {X_test.shape}, {y_test.shape}\")"
      ],
      "execution_count": null,
      "outputs": [
        {
          "output_type": "stream",
          "text": [
            "Train Data: (32928, 113), (32928, 113, 6)\n",
            "Test Data: (8232, 113), (8232, 113, 6)\n"
          ],
          "name": "stdout"
        }
      ]
    },
    {
      "cell_type": "code",
      "metadata": {
        "colab": {
          "background_save": true
        },
        "id": "6tFSa8VM8mes"
      },
      "source": [
        "from tensorflow.keras.models import Sequential\n",
        "from tensorflow.keras.layers import Dense, Embedding, LSTM, Bidirectional, TimeDistributed, Activation, Flatten, Dropout"
      ],
      "execution_count": null,
      "outputs": []
    },
    {
      "cell_type": "code",
      "metadata": {
        "colab": {
          "background_save": true
        },
        "id": "jNchhXyW8mhs"
      },
      "source": [
        "VOCAB_SIZE = len(word_index)\n",
        "NUM_CLASSES = len(tag_index)"
      ],
      "execution_count": null,
      "outputs": []
    },
    {
      "cell_type": "code",
      "metadata": {
        "colab": {
          "background_save": true
        },
        "id": "A4bXH6G18mkn"
      },
      "source": [
        "model = Sequential()\n",
        "\n",
        "model.add(Embedding(\n",
        "    input_dim = VOCAB_SIZE,\n",
        "    output_dim = 128,\n",
        "    input_length = MAX_LENGTH\n",
        "))\n",
        "\n",
        "model.add(Bidirectional(LSTM(256, return_sequences=True)))\n",
        "model.add(Dropout(0.25))\n",
        "\n",
        "model.add(Bidirectional(LSTM(256, return_sequences=True)))\n",
        "model.add(Dropout(0.25)\n",
        "\n",
        "model.add(Bidirectional(LSTM(128, return_sequences=True)))\n",
        "model.add(Dropout(0.25))\n",
        "\n",
        "model.add(Bidirectional(LSTM(128, return_sequences=True)))\n",
        "model.add(Dropout(0.25))\n",
        "\n",
        "model.add(Dense(128, activation=\"relu\"))\n",
        "model.add(Dropout(0.25))\n",
        "\n",
        "model.add(Dense(64, activation=\"relu\"))\n",
        "model.add(Dropout(0.25))\n",
        "\n",
        "model.add(TimeDistributed(Dense(NUM_CLASSES, activation=\"softmax\")))"
      ],
      "execution_count": null,
      "outputs": []
    },
    {
      "cell_type": "code",
      "metadata": {
        "colab": {
          "background_save": true
        },
        "id": "QGnD-M2i9D2f"
      },
      "source": [
        "model.compile(\n",
        "    loss=\"categorical_crossentropy\",\n",
        "    optimizer=\"adam\",\n",
        "    metrics=[\"accuracy\"]\n",
        ")"
      ],
      "execution_count": null,
      "outputs": []
    },
    {
      "cell_type": "code",
      "metadata": {
        "colab": {
          "base_uri": "https://localhost:8080/"
        },
        "id": "ImFOwMxed3go",
        "outputId": "1ccb0fa2-1fc1-4f04-a09e-22513146c9d4"
      },
      "source": [
        "model.summary()"
      ],
      "execution_count": 6,
      "outputs": [
        {
          "output_type": "stream",
          "text": [
            "Model: \"sequential_1\"\n",
            "_________________________________________________________________\n",
            "Layer (type)                 Output Shape              Param #   \n",
            "=================================================================\n",
            "embedding_1 (Embedding)      (None, 113, 128)          12529024  \n",
            "_________________________________________________________________\n",
            "bidirectional_4 (Bidirection (None, 113, 512)          788480    \n",
            "_________________________________________________________________\n",
            "dropout_6 (Dropout)          (None, 113, 512)          0         \n",
            "_________________________________________________________________\n",
            "bidirectional_5 (Bidirection (None, 113, 512)          1574912   \n",
            "_________________________________________________________________\n",
            "dropout_7 (Dropout)          (None, 113, 512)          0         \n",
            "_________________________________________________________________\n",
            "bidirectional_6 (Bidirection (None, 113, 256)          656384    \n",
            "_________________________________________________________________\n",
            "dropout_8 (Dropout)          (None, 113, 256)          0         \n",
            "_________________________________________________________________\n",
            "bidirectional_7 (Bidirection (None, 113, 256)          394240    \n",
            "_________________________________________________________________\n",
            "dropout_9 (Dropout)          (None, 113, 256)          0         \n",
            "_________________________________________________________________\n",
            "dense_3 (Dense)              (None, 113, 128)          32896     \n",
            "_________________________________________________________________\n",
            "dropout_10 (Dropout)         (None, 113, 128)          0         \n",
            "_________________________________________________________________\n",
            "dense_4 (Dense)              (None, 113, 64)           8256      \n",
            "_________________________________________________________________\n",
            "dropout_11 (Dropout)         (None, 113, 64)           0         \n",
            "_________________________________________________________________\n",
            "time_distributed_1 (TimeDist (None, 113, 6)            390       \n",
            "=================================================================\n",
            "Total params: 15,984,582\n",
            "Trainable params: 15,984,582\n",
            "Non-trainable params: 0\n",
            "_________________________________________________________________\n"
          ],
          "name": "stdout"
        }
      ]
    },
    {
      "cell_type": "code",
      "metadata": {
        "colab": {
          "base_uri": "https://localhost:8080/",
          "height": 1000
        },
        "id": "S4ETsVoPeJpG",
        "outputId": "e6af0be2-b5e9-4ade-f6b4-b943c5107e08"
      },
      "source": [
        "from tensorflow.keras.utils import plot_model\n",
        "plot_model(model, to_file='t0model.png', show_shapes=True, show_layer_names=True)"
      ],
      "execution_count": 8,
      "outputs": [
        {
          "output_type": "execute_result",
          "data": {
            "image/png": "[encoded data removed]",
            "text/plain": [
              "<IPython.core.display.Image object>"
            ]
          },
          "metadata": {
            "tags": []
          },
          "execution_count": 8
        }
      ]
    },
    {
      "cell_type": "code",
      "metadata": {
        "colab": {
          "background_save": true,
          "base_uri": "https://localhost:8080/"
        },
        "id": "UpgZ3whf9D8h",
        "outputId": "95c7df4f-fce8-4602-80d2-f31805739ab2"
      },
      "source": [
        "history = model.fit(\n",
        "    X_train,y_train,\n",
        "    validation_data=(X_test, y_test),\n",
        "    batch_size=128,\n",
        "    epochs=20\n",
        ")"
      ],
      "execution_count": null,
      "outputs": [
        {
          "output_type": "stream",
          "text": [
            "Epoch 1/20\n",
            "258/258 [==============================] - 150s 514ms/step - loss: 0.2288 - accuracy: 0.9101 - val_loss: 0.1814 - val_accuracy: 0.9225\n",
            "Epoch 2/20\n",
            "258/258 [==============================] - 128s 498ms/step - loss: 0.1711 - accuracy: 0.9285 - val_loss: 0.1242 - val_accuracy: 0.9527\n",
            "Epoch 3/20\n",
            "258/258 [==============================] - 128s 497ms/step - loss: 0.0942 - accuracy: 0.9684 - val_loss: 0.0710 - val_accuracy: 0.9770\n",
            "Epoch 4/20\n",
            "258/258 [==============================] - 129s 500ms/step - loss: 0.0600 - accuracy: 0.9825 - val_loss: 0.0666 - val_accuracy: 0.9782\n",
            "Epoch 5/20\n",
            "258/258 [==============================] - 128s 497ms/step - loss: 0.0482 - accuracy: 0.9860 - val_loss: 0.0655 - val_accuracy: 0.9793\n",
            "Epoch 6/20\n",
            "258/258 [==============================] - 129s 501ms/step - loss: 0.0413 - accuracy: 0.9878 - val_loss: 0.0640 - val_accuracy: 0.9801\n",
            "Epoch 7/20\n",
            "258/258 [==============================] - 129s 500ms/step - loss: 0.0361 - accuracy: 0.9891 - val_loss: 0.0689 - val_accuracy: 0.9797\n",
            "Epoch 8/20\n",
            "258/258 [==============================] - 128s 497ms/step - loss: 0.0310 - accuracy: 0.9905 - val_loss: 0.0737 - val_accuracy: 0.9796\n",
            "Epoch 9/20\n",
            "258/258 [==============================] - 129s 499ms/step - loss: 0.0268 - accuracy: 0.9917 - val_loss: 0.0739 - val_accuracy: 0.9796\n",
            "Epoch 10/20\n",
            "258/258 [==============================] - 128s 497ms/step - loss: 0.0228 - accuracy: 0.9929 - val_loss: 0.0781 - val_accuracy: 0.9785\n",
            "Epoch 11/20\n",
            "258/258 [==============================] - 129s 500ms/step - loss: 0.0189 - accuracy: 0.9942 - val_loss: 0.0823 - val_accuracy: 0.9792\n",
            "Epoch 12/20\n",
            "258/258 [==============================] - 129s 498ms/step - loss: 0.0150 - accuracy: 0.9955 - val_loss: 0.0820 - val_accuracy: 0.9800\n",
            "Epoch 13/20\n",
            "258/258 [==============================] - 129s 500ms/step - loss: 0.0117 - accuracy: 0.9966 - val_loss: 0.0868 - val_accuracy: 0.9805\n",
            "Epoch 14/20\n",
            "258/258 [==============================] - 129s 500ms/step - loss: 0.0093 - accuracy: 0.9973 - val_loss: 0.0919 - val_accuracy: 0.9801\n",
            "Epoch 15/20\n",
            "258/258 [==============================] - 129s 498ms/step - loss: 0.0075 - accuracy: 0.9978 - val_loss: 0.1015 - val_accuracy: 0.9803\n",
            "Epoch 16/20\n",
            "258/258 [==============================] - 128s 497ms/step - loss: 0.0064 - accuracy: 0.9982 - val_loss: 0.1042 - val_accuracy: 0.9808\n",
            "Epoch 17/20\n",
            "258/258 [==============================] - 128s 495ms/step - loss: 0.0053 - accuracy: 0.9985 - val_loss: 0.1079 - val_accuracy: 0.9802\n",
            "Epoch 18/20\n",
            "258/258 [==============================] - 128s 497ms/step - loss: 0.0045 - accuracy: 0.9987 - val_loss: 0.1146 - val_accuracy: 0.9805\n",
            "Epoch 19/20\n",
            "258/258 [==============================] - 127s 494ms/step - loss: 0.0040 - accuracy: 0.9989 - val_loss: 0.1132 - val_accuracy: 0.9800\n",
            "Epoch 20/20\n",
            "258/258 [==============================] - 128s 495ms/step - loss: 0.0035 - accuracy: 0.9990 - val_loss: 0.1269 - val_accuracy: 0.9803\n"
          ],
          "name": "stdout"
        }
      ]
    },
    {
      "cell_type": "code",
      "metadata": {
        "colab": {
          "base_uri": "https://localhost:8080/",
          "height": 442
        },
        "id": "coONLxo_9D-P",
        "outputId": "2d1b5daa-3336-47b3-940f-48c2421746ed"
      },
      "source": [
        "plt.figure(figsize=(9,7))\n",
        "plt.plot(history.history['loss'], 'r', label = 'Training Loss')\n",
        "plt.plot(history.history['val_loss'], label = 'Validation Loss')\n",
        "plt.xlabel('epochs')\n",
        "plt.ylabel('loss')\n",
        "plt.legend()\n",
        "plt.show()"
      ],
      "execution_count": null,
      "outputs": [
        {
          "output_type": "display_data",
          "data": {
            "image/png": "[encoded data removed]",
            "text/plain": [
              "<Figure size 648x504 with 1 Axes>"
            ]
          },
          "metadata": {
            "tags": []
          }
        }
      ]
    },
    {
      "cell_type": "code",
      "metadata": {
        "colab": {
          "base_uri": "https://localhost:8080/",
          "height": 442
        },
        "id": "8uSiuDke9EBr",
        "outputId": "c81157e4-0f45-46a6-b457-8bcaf8035361"
      },
      "source": [
        "plt.figure(figsize=(9,7))\n",
        "plt.plot(history.history['accuracy'],'r',label='training accuracy')\n",
        "plt.plot(history.history['val_accuracy'],label='validation accuracy')\n",
        "plt.xlabel('epochs')\n",
        "plt.ylabel('Accuracy')\n",
        "plt.legend()\n",
        "plt.show()"
      ],
      "execution_count": null,
      "outputs": [
        {
          "output_type": "display_data",
          "data": {
            "image/png": "[encoded data removed]",
            "text/plain": [
              "<Figure size 648x504 with 1 Axes>"
            ]
          },
          "metadata": {
            "tags": []
          }
        }
      ]
    },
    {
      "cell_type": "code",
      "metadata": {
        "id": "CMODq8Zj9EFG"
      },
      "source": [
        "pred=model.predict(X_test)"
      ],
      "execution_count": null,
      "outputs": []
    },
    {
      "cell_type": "code",
      "metadata": {
        "colab": {
          "base_uri": "https://localhost:8080/"
        },
        "id": "hvi-442O7qig",
        "outputId": "b4fc8096-c22a-4e93-e0c7-37a64bcaacdc"
      },
      "source": [
        "for i in pred[21]:\n",
        "    print(np.argmax(i), end=\" \")"
      ],
      "execution_count": null,
      "outputs": [
        {
          "output_type": "stream",
          "text": [
            "0 0 0 0 0 0 0 0 0 0 0 0 0 0 0 0 0 0 0 0 0 0 0 0 0 0 0 0 0 0 0 0 0 0 0 0 0 0 0 0 0 0 0 0 0 0 0 0 0 0 0 0 0 0 0 0 0 0 0 0 0 0 0 0 0 0 0 0 0 0 0 0 0 0 0 0 0 0 0 0 0 0 0 0 0 0 0 0 0 0 0 0 0 0 0 0 0 0 0 0 0 2 1 5 5 5 5 5 2 1 5 4 4 "
          ],
          "name": "stdout"
        }
      ]
    },
    {
      "cell_type": "code",
      "metadata": {
        "colab": {
          "base_uri": "https://localhost:8080/"
        },
        "id": "5Lh_SPMTBK1-",
        "outputId": "f930219a-7484-4573-f403-f742416a6396"
      },
      "source": [
        "for i in y_test[21]:\n",
        "    print(np.argmax(i), end=\" \")"
      ],
      "execution_count": null,
      "outputs": [
        {
          "output_type": "stream",
          "text": [
            "0 0 0 0 0 0 0 0 0 0 0 0 0 0 0 0 0 0 0 0 0 0 0 0 0 0 0 0 0 0 0 0 0 0 0 0 0 0 0 0 0 0 0 0 0 0 0 0 0 0 0 0 0 0 0 0 0 0 0 0 0 0 0 0 0 0 0 0 0 0 0 0 0 0 0 0 0 0 0 0 0 0 0 0 0 0 0 0 0 0 0 0 0 0 0 0 0 0 0 0 0 2 1 5 2 2 5 1 2 5 5 4 4 "
          ],
          "name": "stdout"
        }
      ]
    },
    {
      "cell_type": "code",
      "metadata": {
        "id": "Adaue7DEBK4C"
      },
      "source": [
        "pred1=model.predict(X_train)"
      ],
      "execution_count": null,
      "outputs": []
    },
    {
      "cell_type": "code",
      "metadata": {
        "colab": {
          "base_uri": "https://localhost:8080/"
        },
        "id": "Zz0xVXfNBK8G",
        "outputId": "5694e6e7-7de4-4454-93ef-a4c32b354ff6"
      },
      "source": [
        "for i in pred1[50]:\n",
        "    print(np.argmax(i), end=\" \")"
      ],
      "execution_count": null,
      "outputs": [
        {
          "output_type": "stream",
          "text": [
            "0 0 0 0 0 0 0 0 0 0 0 0 0 0 0 0 0 0 0 0 0 0 0 0 0 0 0 0 0 0 0 0 0 0 0 0 0 0 0 0 0 0 0 0 0 0 0 0 0 0 0 0 0 0 0 0 0 0 0 0 0 0 0 0 0 0 0 0 0 0 0 0 0 0 0 0 0 0 0 0 1 2 5 2 5 2 4 5 2 5 5 5 2 1 5 5 5 1 1 4 2 2 1 5 2 1 2 1 1 1 4 1 5 "
          ],
          "name": "stdout"
        }
      ]
    },
    {
      "cell_type": "code",
      "metadata": {
        "colab": {
          "base_uri": "https://localhost:8080/"
        },
        "id": "ljU-Y0biBK-O",
        "outputId": "22fcc6c9-3fe1-4c34-b927-bd5c642728d4"
      },
      "source": [
        "for i in y_train[50]:\n",
        "    print(np.argmax(i), end=\" \")"
      ],
      "execution_count": null,
      "outputs": [
        {
          "output_type": "stream",
          "text": [
            "0 0 0 0 0 0 0 0 0 0 0 0 0 0 0 0 0 0 0 0 0 0 0 0 0 0 0 0 0 0 0 0 0 0 0 0 0 0 0 0 0 0 0 0 0 0 0 0 0 0 0 0 0 0 0 0 0 0 0 0 0 0 0 0 0 0 0 0 0 0 0 0 0 0 0 0 0 0 0 0 1 2 5 2 5 2 4 5 2 5 5 5 2 1 5 5 5 1 1 4 2 2 1 5 2 1 2 1 1 1 4 1 5 "
          ],
          "name": "stdout"
        }
      ]
    },
    {
      "cell_type": "code",
      "metadata": {
        "id": "KRVx0R1dBLC5"
      },
      "source": [
        "def preprocess_input_text(text, MAXLEN=MAX_LENGTH,word_index=word_index):\n",
        "    sentence = text.split(\" \")\n",
        "    sentence_numeric = []\n",
        "    for word in sentence:\n",
        "        try:\n",
        "            sentence_numeric.append(word_index[word])\n",
        "        except:\n",
        "            sentence_numeric.append(word_index[\"_OOV_\"])\n",
        "    sentence_numeric = pad_sequences([sentence_numeric], maxlen=MAXLEN, padding=\"pre\",truncating=\"post\")\n",
        "    return sentence_numeric.reshape((113,))"
      ],
      "execution_count": null,
      "outputs": []
    },
    {
      "cell_type": "code",
      "metadata": {
        "id": "r2EG3ElKBLE-"
      },
      "source": [
        "x = preprocess_input_text(\"एक ५०० मीटर लांबीची स्की लिफ्ट स्कीअर्सना उताराच्या माथ्यावर आणून सोडते . त्यामुळे एवढे अंतर परत चढण्याचा त्यांचा त्रास आणि वेळ त्यामुळे वाचतो . चढाई न झालेल्या ठिकाणांना भेटी देणे ज्यांना आवडते अशांना भारतातील पर्वतरांगांमधील श्वास रोखून धरायला लावणारे , उत्साहित करणारे मार्ग उपलब्ध आहेत . टरेकिंग एक खेळ असला तरी त्याला पूर्व प्रशिक्षण अथवा सरावाची गरज नसते. फक्त ट्रेकरची शारीरिक स्थिती उत्तम असावी . त्याशिवाय ट्रेकिंग करताना काही करायच्या आणि काही टाळायच्या गोष्टी असतात. त्यांचे त्याने पालन केले पाहिजे . पश्चिम किना~य़ावर मुंबई , गोवा आणि पुण्याच्या तलावांवर सेलिंग हा खेळ अनुभवता येतो . रिव्हर राफ्टिंगसाठी सर्वोत्तम काळ हा एप्रिल ते सप्टेंबर आहे\")"
      ],
      "execution_count": null,
      "outputs": []
    },
    {
      "cell_type": "code",
      "metadata": {
        "id": "Mx9bBhgzBc2q"
      },
      "source": [
        "x=x.reshape(1,MAX_LENGTH)"
      ],
      "execution_count": null,
      "outputs": []
    },
    {
      "cell_type": "code",
      "metadata": {
        "colab": {
          "base_uri": "https://localhost:8080/"
        },
        "id": "tXZ6riFVBc47",
        "outputId": "6c8db322-a092-4d14-95d3-1dfa2e2910be"
      },
      "source": [
        "pred2=model.predict(x)\n",
        "pred2.shape"
      ],
      "execution_count": null,
      "outputs": [
        {
          "output_type": "execute_result",
          "data": {
            "text/plain": [
              "(1, 113, 6)"
            ]
          },
          "metadata": {
            "tags": []
          },
          "execution_count": 145
        }
      ]
    },
    {
      "cell_type": "code",
      "metadata": {
        "colab": {
          "base_uri": "https://localhost:8080/"
        },
        "id": "p4XmUQCXBc8H",
        "outputId": "fccef2cf-f28c-4dc8-db4b-1554e4440a1a"
      },
      "source": [
        "for i in pred2[0]:\n",
        "    print(np.argmax(i), end=\" \")"
      ],
      "execution_count": null,
      "outputs": [
        {
          "output_type": "stream",
          "text": [
            "0 0 0 0 0 0 0 0 0 2 1 5 5 2 5 1 5 5 1 1 5 3 3 5 4 1 1 5 3 5 3 1 5 5 2 1 5 1 1 1 2 1 1 5 5 1 1 1 2 2 1 5 2 4 5 5 2 5 2 2 1 5 5 1 5 5 1 2 1 2 5 2 1 5 1 1 4 5 1 3 5 1 5 1 1 1 2 4 4 5 5 1 5 2 5 3 1 5 1 2 5 5 1 5 1 1 2 5 2 5 2 5 5 "
          ],
          "name": "stdout"
        }
      ]
    },
    {
      "cell_type": "code",
      "metadata": {
        "colab": {
          "base_uri": "https://localhost:8080/"
        },
        "id": "K64u_nz5Bp2k",
        "outputId": "b5ec36f6-405a-4acc-8072-18bbf4de11c1"
      },
      "source": [
        "tag_index"
      ],
      "execution_count": null,
      "outputs": [
        {
          "output_type": "execute_result",
          "data": {
            "text/plain": [
              "{'_PAD_': 0, 'a': 2, 'n': 5, 'r': 3, 'u': 1, 'v': 4}"
            ]
          },
          "metadata": {
            "tags": []
          },
          "execution_count": 130
        }
      ]
    },
    {
      "cell_type": "code",
      "metadata": {
        "colab": {
          "base_uri": "https://localhost:8080/"
        },
        "id": "OnZxrnPUYx73",
        "outputId": "1d985ba7-4f4a-42f0-9cf3-a2252b4a55cb"
      },
      "source": [
        "model_json = model.to_json()\n",
        "with open(\"t0model.json\", \"w\") as json_file:\n",
        "    json_file.write(model_json)\n",
        "# serialize weights to HDF5\n",
        "model.save_weights(\"t0model.h5\")\n",
        "print(\"Saved model to disk\")"
      ],
      "execution_count": null,
      "outputs": [
        {
          "output_type": "stream",
          "text": [
            "Saved model to disk\n"
          ],
          "name": "stdout"
        }
      ]
    },
    {
      "cell_type": "code",
      "metadata": {
        "id": "jBy3jQmGBp8Q"
      },
      "source": [
        "import pickle"
      ],
      "execution_count": null,
      "outputs": []
    },
    {
      "cell_type": "code",
      "metadata": {
        "id": "V8Ld7L1mIRtK"
      },
      "source": [
        "pickle.dump(word_index, open(\"t0word_index.pkl\",\"wb\"))\n",
        "pickle.dump(tag_index, open(\"t0pos_index.pkl\", \"wb\"))"
      ],
      "execution_count": null,
      "outputs": []
    },
    {
      "cell_type": "code",
      "metadata": {
        "id": "EKcP-Q0jY_i3"
      },
      "source": [
        "from tensorflow.keras.models import model_from_json\n",
        "with open('t0model.json','r') as f:\n",
        "    json = f.read()\n",
        "model = model_from_json(json)\n",
        "#best m0del weight\n",
        "model.load_weights(\"t0model.h5\")"
      ],
      "execution_count": 4,
      "outputs": []
    }
  ]
}